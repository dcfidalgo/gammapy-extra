{
 "cells": [
  {
   "cell_type": "markdown",
   "metadata": {},
   "source": [
    "# WCS log-energy transformation\n",
    "\n",
    "This notebook is quick proove of concept, that WCS can handle equally spaced log energy axes. The specification is described in the following paper (section 3.2):\n",
    "\n",
    "http://www.aanda.org/articles/aa/pdf/2006/05/aa3818-05.pdf\n",
    "\n",
    "\n",
    "The logarithmic transform is represented by eq. (5) in the paper:\n",
    "\n",
    "$$ S = S_r e^{w/S_r}$$\n",
    "\n",
    "where $S_r$ corresponds to the reference value `CRVAL3`."
   ]
  },
  {
   "cell_type": "code",
   "execution_count": 2,
   "metadata": {},
   "outputs": [],
   "source": [
    "import numpy as np\n",
    "import astropy.units as u\n",
    "from astropy.wcs import WCS\n",
    "from astropy.io import fits\n",
    "from gammapy.utils.energy import Energy\n",
    "from numpy.testing.utils import assert_equal"
   ]
  },
  {
   "cell_type": "code",
   "execution_count": 2,
   "metadata": {},
   "outputs": [],
   "source": [
    "emin = 0.1\n",
    "emax = 100\n",
    "nbins = 10\n",
    "\n",
    "# CRVAL must be set in Joule, when CUNIT3 = 'TeV' is used later, because Joule is the default\n",
    "# energy unit in fits WCS\n",
    "crval = (0.1 * u.J).to('TeV').value\n",
    "\n",
    "energies = Energy.equal_log_spacing(emin, emax, nbins, unit=\"TeV\")\n",
    "\n",
    "def bin_width(emin, emax, nbins):\n",
    "    return np.log10(emax / emin) / (nbins - 1)"
   ]
  },
  {
   "cell_type": "code",
   "execution_count": 3,
   "metadata": {},
   "outputs": [],
   "source": [
    "# Define an example WCS reference header\n",
    "refheader = fits.Header()\n",
    "refheader['WCSAXES'] = 3\n",
    "refheader['NAXIS'] = 3\n",
    "refheader['CRPIX1'] = 100.5\n",
    "refheader['CRPIX2'] = 100.5\n",
    "refheader['CRPIX3'] = 0.5    # reference pixel for energy, 0.5 for pixel center\n",
    "refheader['CDELT1'] = -0.02\n",
    "refheader['CDELT2'] = 0.02  \n",
    "refheader['CDELT3'] = np.log(10) * crval * bin_width(emin, emax, nbins) # log bin width\n",
    "refheader['CTYPE1'] = 'RA---CAR'\n",
    "refheader['CTYPE2'] = 'DEC--CAR'\n",
    "refheader['CTYPE3'] = 'ENER-LOG'  # specifies the log energy axes\n",
    "refheader['CUNIT1'] = 'deg'\n",
    "refheader['CUNIT2'] = 'deg'\n",
    "refheader['CUNIT3'] = 'TeV'\n",
    "refheader['CRVAL1'] = 0\n",
    "refheader['CRVAL2'] = 0\n",
    "refheader['CRVAL3'] = crval        # reference value for energy"
   ]
  },
  {
   "cell_type": "code",
   "execution_count": 4,
   "metadata": {},
   "outputs": [],
   "source": [
    "wcs = WCS(refheader)\n",
    "_, _, indices = wcs.wcs_world2pix(0, 0, energies.value, 1)"
   ]
  },
  {
   "cell_type": "code",
   "execution_count": 5,
   "metadata": {},
   "outputs": [],
   "source": [
    "assert_equal(energies.value, energies.value[indices.astype(int)])"
   ]
  },
  {
   "cell_type": "code",
   "execution_count": 3,
   "metadata": {},
   "outputs": [],
   "source": [
    "# Define an example WCS reference header\n",
    "refheader_tab = fits.Header()\n",
    "refheader_tab['WCSAXES'] = 3\n",
    "refheader_tab['NAXIS'] = 3\n",
    "refheader_tab['CRPIX1'] = 100.5\n",
    "refheader_tab['CRPIX2'] = 100.5\n",
    "#refheader_tab['CRPIX3'] = 0.5    # reference pixel for energy, 0.5 for pixel center\n",
    "refheader_tab['CDELT1'] = -0.02\n",
    "refheader_tab['CDELT2'] = 0.02  \n",
    "#refheader_tab['CDELT3'] = np.log(10) * crval * bin_width(emin, emax, nbins) # log bin width\n",
    "refheader_tab['CTYPE1'] = 'RA---CAR'\n",
    "refheader_tab['CTYPE2'] = 'DEC--CAR'\n",
    "refheader_tab['CTYPE3'] = 'ENER-TAB'  # specifies the log energy axes\n",
    "refheader_tab['PS3_0'] = 'ENERGIES'  # specifies the log energy axes\n",
    "refheader_tab['PS3_1'] = 'ENERGY'\n",
    "refheader_tab['CUNIT1'] = 'deg'\n",
    "refheader_tab['CUNIT2'] = 'deg'\n",
    "refheader_tab['CUNIT3'] = 'TeV'\n",
    "refheader_tab['CRVAL1'] = 0\n",
    "refheader_tab['CRVAL2'] = 0\n",
    "#refheader_tab['CRVAL3'] = crval        # reference value for energy"
   ]
  },
  {
   "cell_type": "code",
   "execution_count": 15,
   "metadata": {},
   "outputs": [
    {
     "ename": "ValueError",
     "evalue": "ERROR 5 in wcsset() at line 2170 of file cextern/wcslib/C/wcs.c:\nInvalid parameter value.\nERROR 3 in tabset() at line 746 of file cextern/wcslib/C/tab.c:\nInvalid tabular parameters: Each element of K must be positive, got 0.\n",
     "output_type": "error",
     "traceback": [
      "\u001b[1;31m---------------------------------------------------------------------------\u001b[0m",
      "\u001b[1;31mValueError\u001b[0m                                Traceback (most recent call last)",
      "\u001b[1;32m<ipython-input-15-578d16898f74>\u001b[0m in \u001b[0;36m<module>\u001b[1;34m()\u001b[0m\n\u001b[0;32m      1\u001b[0m \u001b[0mhdulist\u001b[0m \u001b[1;33m=\u001b[0m \u001b[0mfits\u001b[0m\u001b[1;33m.\u001b[0m\u001b[0mopen\u001b[0m\u001b[1;33m(\u001b[0m\u001b[0mf\u001b[0m\u001b[1;33m)\u001b[0m\u001b[1;33m\u001b[0m\u001b[0m\n\u001b[1;32m----> 2\u001b[1;33m \u001b[0mwcs_tab\u001b[0m \u001b[1;33m=\u001b[0m \u001b[0mWCS\u001b[0m\u001b[1;33m(\u001b[0m\u001b[0mrefheader_tab\u001b[0m\u001b[1;33m)\u001b[0m\u001b[1;33m\u001b[0m\u001b[0m\n\u001b[0m",
      "\u001b[1;32m/home/hfm/adonath/.local/lib/python2.7/site-packages/astropy-1.1.1-py2.7-linux-x86_64.egg/astropy/wcs/wcs.pyc\u001b[0m in \u001b[0;36m__init__\u001b[1;34m(self, header, fobj, key, minerr, relax, naxis, keysel, colsel, fix, translate_units, _do_set)\u001b[0m\n\u001b[0;32m    498\u001b[0m \u001b[1;33m\u001b[0m\u001b[0m\n\u001b[0;32m    499\u001b[0m         \u001b[1;32mif\u001b[0m \u001b[0m_do_set\u001b[0m\u001b[1;33m:\u001b[0m\u001b[1;33m\u001b[0m\u001b[0m\n\u001b[1;32m--> 500\u001b[1;33m             \u001b[0mself\u001b[0m\u001b[1;33m.\u001b[0m\u001b[0mwcs\u001b[0m\u001b[1;33m.\u001b[0m\u001b[0mset\u001b[0m\u001b[1;33m(\u001b[0m\u001b[1;33m)\u001b[0m\u001b[1;33m\u001b[0m\u001b[0m\n\u001b[0m\u001b[0;32m    501\u001b[0m \u001b[1;33m\u001b[0m\u001b[0m\n\u001b[0;32m    502\u001b[0m         \u001b[1;32mfor\u001b[0m \u001b[0mfd\u001b[0m \u001b[1;32min\u001b[0m \u001b[0mclose_fds\u001b[0m\u001b[1;33m:\u001b[0m\u001b[1;33m\u001b[0m\u001b[0m\n",
      "\u001b[1;31mValueError\u001b[0m: ERROR 5 in wcsset() at line 2170 of file cextern/wcslib/C/wcs.c:\nInvalid parameter value.\nERROR 3 in tabset() at line 746 of file cextern/wcslib/C/tab.c:\nInvalid tabular parameters: Each element of K must be positive, got 0.\n"
     ]
    }
   ],
   "source": [
    "hdulist = fits.open(f)\n",
    "wcs_tab = WCS(refheader_tab)"
   ]
  },
  {
   "cell_type": "code",
   "execution_count": 19,
   "metadata": {},
   "outputs": [
    {
     "data": {
      "text/plain": [
       "array([ 0.31308868,  0.31308875,  0.31308871,  0.31308874,  0.31308873,\n",
       "        0.31308875,  0.31308874,  0.31308874,  0.31308876,  0.31308871,\n",
       "        0.31308871,  0.31308875,  0.31308872,  0.31308875,  0.3130887 ,\n",
       "        0.31308875,  0.31308871,  0.31308868,  0.31308877,  0.31308875,\n",
       "        0.31308873,  0.31308871,  0.31308877,  0.31308875,  0.31308869,\n",
       "        0.3130887 ,  0.31308875,  0.31308873,  0.31308876])"
      ]
     },
     "execution_count": 19,
     "metadata": {},
     "output_type": "execute_result"
    }
   ],
   "source": [
    "np.diff(np.log(hdulist[1].data['ENERGY']))"
   ]
  },
  {
   "cell_type": "code",
   "execution_count": null,
   "metadata": {
    "collapsed": true
   },
   "outputs": [],
   "source": []
  }
 ],
 "metadata": {
  "kernelspec": {
   "display_name": "Python [conda env:gammapy-dev]",
   "language": "python",
   "name": "conda-env-gammapy-dev-py"
  },
  "language_info": {
   "codemirror_mode": {
    "name": "ipython",
    "version": 3
   },
   "file_extension": ".py",
   "mimetype": "text/x-python",
   "name": "python",
   "nbconvert_exporter": "python",
   "pygments_lexer": "ipython3",
   "version": "3.6.1"
  },
  "toc": {
   "colors": {
    "hover_highlight": "#DAA520",
    "navigate_num": "#000000",
    "navigate_text": "#333333",
    "running_highlight": "#FF0000",
    "selected_highlight": "#FFD700",
    "sidebar_border": "#EEEEEE",
    "wrapper_background": "#FFFFFF"
   },
   "moveMenuLeft": true,
   "nav_menu": {
    "height": "31px",
    "width": "253px"
   },
   "navigate_menu": true,
   "number_sections": false,
   "sideBar": true,
   "threshold": 4,
   "toc_cell": false,
   "toc_section_display": "block",
   "toc_window_display": false,
   "widenNotebook": false
  }
 },
 "nbformat": 4,
 "nbformat_minor": 1
}
