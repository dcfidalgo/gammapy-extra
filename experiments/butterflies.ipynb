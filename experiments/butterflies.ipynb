{
 "cells": [
  {
   "cell_type": "markdown",
   "metadata": {},
   "source": [
    "# Butterflies\n",
    "\n",
    "This is a prototype implementation of how to compute butterflies for spectral models.\n",
    "It should be integrated properly (including tests & docs) in gammapy.spectrum."
   ]
  },
  {
   "cell_type": "code",
   "execution_count": 1,
   "metadata": {
    "collapsed": true
   },
   "outputs": [],
   "source": [
    "%matplotlib inline\n",
    "import numpy as np\n",
    "import matplotlib.pyplot as plt\n",
    "import uncertainties\n",
    "from uncertainties import unumpy\n",
    "from astropy import units as u\n",
    "from astropy.table import Table\n",
    "from gammapy.utils.energy import Energy"
   ]
  },
  {
   "cell_type": "code",
   "execution_count": 2,
   "metadata": {},
   "outputs": [
    {
     "name": "stdout",
     "output_type": "stream",
     "text": [
      "Downloading https://github.com/gammapy/gammapy-extra/raw/master/datasets/catalogs/fermi/gll_psch_v08.fit.gz [Done]\n"
     ]
    },
    {
     "name": "stderr",
     "output_type": "stream",
     "text": [
      "WARNING: hdu= was not specified but multiple tables are present, reading in first available table (hdu=1) [astropy.io.fits.connect]\n",
      "WARNING: UnitsWarning: 'photon/cm**2/s' contains multiple slashes, which is discouraged by the FITS standard [astropy.units.format.generic]\n",
      "WARNING: UnitsWarning: 'erg/cm**2/s' contains multiple slashes, which is discouraged by the FITS standard [astropy.units.format.generic]\n"
     ]
    }
   ],
   "source": [
    "table = Table.read('https://github.com/gammapy/gammapy-extra/raw/master/datasets/catalogs/fermi/gll_psch_v08.fit.gz')"
   ]
  },
  {
   "cell_type": "code",
   "execution_count": 3,
   "metadata": {
    "collapsed": true
   },
   "outputs": [],
   "source": [
    "def get_2fhl_source(name):\n",
    "    idx = np.where(table['Source_Name'] == name)[0]\n",
    "    return table[idx][0]\n",
    "\n",
    "source = get_2fhl_source('2FHL J0617.2+2234e')"
   ]
  },
  {
   "cell_type": "code",
   "execution_count": 4,
   "metadata": {
    "collapsed": true
   },
   "outputs": [],
   "source": [
    "class PowerLawSpectrum:\n",
    "    \n",
    "    def __init__(self, flux, flux_err, gamma, gamma_err, energy_pivot=0.1):\n",
    "        self.flux = flux\n",
    "        self.flux_err = flux_err\n",
    "        self.gamma = gamma\n",
    "        self.gamma_err = gamma_err\n",
    "        self.energy_pivot = energy_pivot\n",
    "\n",
    "    @classmethod\n",
    "    def from_dict(cls, source):\n",
    "        energy0 = 0.1\n",
    "        energy1, energy2 = 0.05, 2\n",
    "        gamma = source['Spectral_Index']\n",
    "        gamma_err = source['Unc_Spectral_Index']\n",
    "        term1 = (gamma - 1) / energy0\n",
    "        term2 = (energy1 / energy0) ** (1 - gamma)\n",
    "        term3 = (energy2 / energy0) ** (1 - gamma)\n",
    "        int_flux_to_diff_flux = term1 / (term2 - term3)\n",
    "        flux = source['Flux50'] * int_flux_to_diff_flux\n",
    "        flux_err = source['Unc_Flux50'] * int_flux_to_diff_flux\n",
    "        return cls(flux=flux, flux_err=flux_err,\n",
    "                  gamma=gamma, gamma_err=gamma_err,\n",
    "                  energy_pivot=energy0)\n",
    "        \n",
    "    @staticmethod\n",
    "    def evaluate(energy, flux, gamma, energy_pivot, use_sed=False):\n",
    "        val = flux * (energy / energy_pivot) ** (-gamma)\n",
    "        \n",
    "        if use_sed:\n",
    "            val *= 1.6 * (energy ** 2)\n",
    "        \n",
    "        return val\n",
    "    \n",
    "    def butterfly(self, energy):\n",
    "        source_flux = unumpy.uarray(self.flux, self.flux_err)\n",
    "        gamma = unumpy.uarray(self.gamma, self.gamma_err)\n",
    "        flux = PowerLawSpectrum.evaluate(energy, source_flux, gamma, self.energy_pivot, use_sed=True)\n",
    "#         print(type(flux))\n",
    "        val = np.array([_.nominal_value for _ in flux])\n",
    "        err = np.array([_.std_dev for _ in flux])\n",
    "        \n",
    "        flux_mid = val\n",
    "        flux_hi = val + err\n",
    "        flux_lo = val - err\n",
    "        return dict(energy=energy, flux_lo=flux_lo, flux=flux_mid, flux_hi=flux_hi)"
   ]
  },
  {
   "cell_type": "code",
   "execution_count": 5,
   "metadata": {
    "collapsed": true
   },
   "outputs": [],
   "source": [
    "spec = PowerLawSpectrum.from_dict(source)\n",
    "energy = Energy.equal_log_spacing(50 * u.GeV, 2 * u.TeV, 30).value\n",
    "bf = spec.butterfly(energy)"
   ]
  },
  {
   "cell_type": "code",
   "execution_count": 24,
   "metadata": {},
   "outputs": [
    {
     "data": {
      "image/png": "[encoded data removed]",
      "text/plain": [
       "<matplotlib.figure.Figure at 0x117af1550>"
      ]
     },
     "metadata": {},
     "output_type": "display_data"
    }
   ],
   "source": [
    "def plot_butterfly(data):\n",
    "    plt.plot(data['energy'], data['flux'])\n",
    "    plt.fill_between(data['energy'], data['flux_lo'], data['flux_hi'],\n",
    "                    alpha=0.1, linewidth=0)\n",
    "\n",
    "    plt.loglog()\n",
    "    plt.xlabel('Energy(TeV)')\n",
    "    plt.ylabel('SED(erg cm^-2 s^-1)')\n",
    "\n",
    "plot_butterfly(bf)"
   ]
  },
  {
   "cell_type": "code",
   "execution_count": null,
   "metadata": {
    "collapsed": true
   },
   "outputs": [],
   "source": []
  }
 ],
 "metadata": {
  "kernelspec": {
   "display_name": "Python [conda env:gammapy-dev]",
   "language": "python",
   "name": "conda-env-gammapy-dev-py"
  },
  "language_info": {
   "codemirror_mode": {
    "name": "ipython",
    "version": 3
   },
   "file_extension": ".py",
   "mimetype": "text/x-python",
   "name": "python",
   "nbconvert_exporter": "python",
   "pygments_lexer": "ipython3",
   "version": "3.6.1"
  },
  "toc": {
   "colors": {
    "hover_highlight": "#DAA520",
    "navigate_num": "#000000",
    "navigate_text": "#333333",
    "running_highlight": "#FF0000",
    "selected_highlight": "#FFD700",
    "sidebar_border": "#EEEEEE",
    "wrapper_background": "#FFFFFF"
   },
   "moveMenuLeft": true,
   "nav_menu": {
    "height": "31px",
    "width": "253px"
   },
   "navigate_menu": true,
   "number_sections": false,
   "sideBar": true,
   "threshold": 4,
   "toc_cell": false,
   "toc_section_display": "block",
   "toc_window_display": false,
   "widenNotebook": false
  }
 },
 "nbformat": 4,
 "nbformat_minor": 1
}
