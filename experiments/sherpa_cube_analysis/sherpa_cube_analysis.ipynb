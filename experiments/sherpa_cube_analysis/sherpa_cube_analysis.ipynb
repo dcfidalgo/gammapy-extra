{
 "cells": [
  {
   "cell_type": "markdown",
   "metadata": {},
   "source": [
    "# Cube style analysis with Gammapy and Sherpa\n",
    "\n",
    "This notebook is a proof of concept for a cube style analysis using Gammapy and Sherpa.\n",
    "\n",
    "To prepare the counts and exposure cubes, please run the ```prepare_data_cubes.py``` script first."
   ]
  },
  {
   "cell_type": "code",
   "execution_count": 1,
   "metadata": {
    "collapsed": true
   },
   "outputs": [],
   "source": [
    "%matplotlib inline\n",
    "import matplotlib.pyplot as plt"
   ]
  },
  {
   "cell_type": "code",
   "execution_count": 2,
   "metadata": {},
   "outputs": [],
   "source": [
    "import numpy as np\n",
    "\n",
    "from sherpa.models import NormGauss2D, PowLaw1D, TableModel, Const2D\n",
    "from sherpa.stats import Cash, Chi2ConstVar\n",
    "from sherpa.optmethods import LevMar, NelderMead\n",
    "from sherpa.fit import Fit\n",
    "\n",
    "from gammapy.cube.sherpa_ import Data3D, CombinedModel3D\n",
    "from gammapy.cube import SkyCube\n",
    "from gammapy.utils.energy import EnergyBounds\n",
    "\n",
    "from astropy.io import fits\n",
    "from astropy.wcs import WCS\n",
    "from astropy.table import Table\n",
    "from astropy.units import Quantity\n",
    "from astropy.coordinates import SkyCoord"
   ]
  },
  {
   "cell_type": "code",
   "execution_count": 3,
   "metadata": {},
   "outputs": [],
   "source": [
    "# Set up data cube\n",
    "counts = SkyCube.read('counts.fits.gz', format='fermi-counts')\n",
    "cube = counts.to_sherpa_data3d()"
   ]
  },
  {
   "cell_type": "code",
   "execution_count": 4,
   "metadata": {},
   "outputs": [],
   "source": [
    "# Set up exposure table model\n",
    "exposure_data = fits.getdata('exposure.fits.gz')\n",
    "exposure = TableModel('exposure')\n",
    "exposure.load(None, exposure_data.ravel())\n",
    "\n",
    "# Freeze exposure amplitude\n",
    "exposure.ampl.freeze()"
   ]
  },
  {
   "cell_type": "code",
   "execution_count": 5,
   "metadata": {},
   "outputs": [],
   "source": [
    "# Setup combined spatial and spectral model\n",
    "spatial_model = NormGauss2D('spatial-model')\n",
    "spectral_model = PowLaw1D('spectral-model')\n",
    "source_model = CombinedModel3D(spatial_model=spatial_model, spectral_model=spectral_model)\n",
    "\n",
    "# Set starting values\n",
    "source_model.gamma = 2.2\n",
    "source_model.xpos = 83.6\n",
    "source_model.ypos = 22.01\n",
    "source_model.fwhm = 0.12\n",
    "source_model.ampl = 0.05\n",
    "\n",
    "# Adding this constant background components the fit works with cash statistics as well\n",
    "#spatial_model_bkg = Const2D('spatial-model-bkg')\n",
    "#spectral_model_bkg = PowLaw1D('spectral-model-bkg')\n",
    "#bkg_model = CombinedModel3D(spatial_model=spatial_model_bkg, spectral_model=spectral_model_bkg)\n",
    "\n",
    "model = 1E-9 * exposure * (source_model) # 1E-9 flux factor"
   ]
  },
  {
   "cell_type": "code",
   "execution_count": 6,
   "metadata": {},
   "outputs": [],
   "source": [
    "# Fit\n",
    "# For now only Chi2 statistics seems to work, using Cash, the optimizer doesn't run at all,\n",
    "# maybe because of missing background model?\n",
    "fit = Fit(data=cube, model=model, stat=Chi2ConstVar(), method=LevMar())\n",
    "result = fit.fit()"
   ]
  },
  {
   "cell_type": "code",
   "execution_count": 7,
   "metadata": {},
   "outputs": [
    {
     "name": "stdout",
     "output_type": "stream",
     "text": [
      "datasets       = None\n",
      "itermethodname = none\n",
      "methodname     = levmar\n",
      "statname       = chi2constvar\n",
      "succeeded      = True\n",
      "parnames       = ('spatial-model.fwhm', 'spatial-model.xpos', 'spatial-model.ypos', 'spatial-model.ampl', 'spectral-model.gamma')\n",
      "parvals        = (0.12155630562273063, 83.625627113810722, 22.015563577095811, 0.096903046875814178, 2.2409890663883951)\n",
      "statval        = 326658.84925\n",
      "istatval       = 334850.945397\n",
      "dstatval       = 8192.09614707\n",
      "numpoints      = 320000\n",
      "dof            = 319995\n",
      "qval           = 6.49987737177e-17\n",
      "rstat          = 1.02082485429\n",
      "message        = successful termination\n",
      "nfev           = 61\n"
     ]
    }
   ],
   "source": [
    "print(result)"
   ]
  },
  {
   "cell_type": "markdown",
   "metadata": {},
   "source": [
    "# Data image"
   ]
  },
  {
   "cell_type": "code",
   "execution_count": 8,
   "metadata": {},
   "outputs": [
    {
     "data": {
      "text/plain": [
       "<matplotlib.colorbar.Colorbar at 0x7f8906b0a710>"
      ]
     },
     "execution_count": 8,
     "metadata": {},
     "output_type": "execute_result"
    },
    {
     "data": {
      "image/png": "[encoded data removed]",
      "text/plain": [
       "<matplotlib.figure.Figure at 0x7f8906c28490>"
      ]
     },
     "metadata": {},
     "output_type": "display_data"
    }
   ],
   "source": [
    "counts_ = cube.get_dep().reshape(cube.shape).sum(axis=0)\n",
    "plt.imshow(counts_)\n",
    "plt.colorbar()"
   ]
  },
  {
   "cell_type": "markdown",
   "metadata": {},
   "source": [
    "# Morphology model image"
   ]
  },
  {
   "cell_type": "code",
   "execution_count": 9,
   "metadata": {},
   "outputs": [
    {
     "data": {
      "text/plain": [
       "<matplotlib.colorbar.Colorbar at 0x7f890497b750>"
      ]
     },
     "execution_count": 9,
     "metadata": {},
     "output_type": "execute_result"
    },
    {
     "data": {
      "image/png": "[encoded data removed]",
      "text/plain": [
       "<matplotlib.figure.Figure at 0x7f8906be40d0>"
      ]
     },
     "metadata": {},
     "output_type": "display_data"
    }
   ],
   "source": [
    "model_ = cube.eval_model(source_model).reshape(cube.shape).sum(axis=0)\n",
    "plt.imshow(model_)\n",
    "plt.colorbar()"
   ]
  },
  {
   "cell_type": "markdown",
   "metadata": {},
   "source": [
    "# Position check"
   ]
  },
  {
   "cell_type": "code",
   "execution_count": 12,
   "metadata": {},
   "outputs": [],
   "source": [
    "# Check position with reference position to verify wcs\n",
    "crab_position_ref = SkyCoord.from_name('crab')\n",
    "crab_position = SkyCoord(source_model.xpos.val, source_model.ypos.val, frame='icrs', unit='deg')\n",
    "assert crab_position.separation(crab_position_ref) < Quantity(0.01, 'deg') # 1/2 pixel accuracy"
   ]
  },
  {
   "cell_type": "code",
   "execution_count": null,
   "metadata": {
    "collapsed": true
   },
   "outputs": [],
   "source": []
  }
 ],
 "metadata": {
  "kernelspec": {
   "display_name": "Python [conda env:gammapy-dev]",
   "language": "python",
   "name": "conda-env-gammapy-dev-py"
  },
  "language_info": {
   "codemirror_mode": {
    "name": "ipython",
    "version": 3
   },
   "file_extension": ".py",
   "mimetype": "text/x-python",
   "name": "python",
   "nbconvert_exporter": "python",
   "pygments_lexer": "ipython3",
   "version": "3.6.1"
  },
  "toc": {
   "colors": {
    "hover_highlight": "#DAA520",
    "navigate_num": "#000000",
    "navigate_text": "#333333",
    "running_highlight": "#FF0000",
    "selected_highlight": "#FFD700",
    "sidebar_border": "#EEEEEE",
    "wrapper_background": "#FFFFFF"
   },
   "moveMenuLeft": true,
   "nav_menu": {
    "height": "84px",
    "width": "253px"
   },
   "navigate_menu": true,
   "number_sections": false,
   "sideBar": true,
   "threshold": 4,
   "toc_cell": false,
   "toc_section_display": "block",
   "toc_window_display": false,
   "widenNotebook": false
  }
 },
 "nbformat": 4,
 "nbformat_minor": 1
}
