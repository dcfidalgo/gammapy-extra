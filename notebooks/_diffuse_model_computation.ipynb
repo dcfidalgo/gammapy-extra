{
 "cells": [
  {
   "cell_type": "markdown",
   "metadata": {},
   "source": [
    "# Diffuse model computation"
   ]
  },
  {
   "cell_type": "markdown",
   "metadata": {},
   "source": [
    "This notebook shows how to compute the follwing images:\n",
    "* integral surface brightness (cm^-2 s^-1 sr^-1)\n",
    "* expected counts (counts / bin) image assuming a constant exposure"
   ]
  },
  {
   "cell_type": "code",
   "execution_count": null,
   "metadata": {},
   "outputs": [],
   "source": [
    "import numpy as np\n",
    "from astropy.io import fits\n",
    "from astropy.units import Quantity"
   ]
  },
  {
   "cell_type": "markdown",
   "metadata": {},
   "source": [
    "## Compute diffuse integral surface brightness image"
   ]
  },
  {
   "cell_type": "code",
   "execution_count": null,
   "metadata": {},
   "outputs": [],
   "source": [
    "from gammapy.cube import SkyCube\n",
    "filename = '$GAMMAPY_EXTRA/datasets/source_diffuse_separation/gll_iem_v05.fits'\n",
    "cube = SkyCube.read(filename)\n",
    "print(cube)\n",
    "\n",
    "energy_band = Quantity([10, 500], 'GeV').to('MeV')\n",
    "flux = cube.integral_flux_image(energy_band, energy_bins=10)\n",
    "# Note: \"flux\" means surface brightness in units of 'cm^-2 s^-1 sr^-1' here.\n",
    "flux.writeto('diffuse_integral_flux.fits', clobber=True)"
   ]
  },
  {
   "cell_type": "code",
   "execution_count": null,
   "metadata": {},
   "outputs": [],
   "source": [
    "print(flux.data[1441/2, 2880/2]) # 8.805560757e-09"
   ]
  },
  {
   "cell_type": "markdown",
   "metadata": {},
   "source": [
    "## Reproject to your image"
   ]
  },
  {
   "cell_type": "code",
   "execution_count": null,
   "metadata": {},
   "outputs": [],
   "source": [
    "from kapteyn.maputils import FITSimage\n",
    "flux_image = FITSimage('diffuse_integral_flux.fits', hdunr=1)\n",
    "reference_image = FITSimage('10_500_counts.fits')\n",
    "flux_image2 = flux_image.reproject_to(reference_image)\n",
    "flux_image2.writetofits('diffuse_integral_flux_reprojected.fits', clobber=True)"
   ]
  },
  {
   "cell_type": "markdown",
   "metadata": {},
   "source": [
    "## Diffuse expected counts image"
   ]
  },
  {
   "cell_type": "code",
   "execution_count": null,
   "metadata": {},
   "outputs": [],
   "source": [
    "#exposure = Quantity(1.5768e11, 'cm^2 s')\n",
    "#surface_brightness = Quantity(image.data.mean(), 'cm^-2 s^-1 sr^-1')\n",
    "#print('Mean surface brightness in image: {0}'.format(surface_brightness))\n",
    "\n",
    "header = fits.getheader('10_500_counts.fits')\n",
    "\n",
    "exposure = fits.getdata('exposure_10_GeV.fits')\n",
    "exposure = Quantity(exposure, 'cm^2 s')\n",
    "\n",
    "flux = fits.getdata('diffuse_integral_flux_reprojected.fits')\n",
    "flux = Quantity(flux, 'cm^-2 s^-1 sr^-1')\n",
    "\n",
    "pixel_size = Quantity(0.1, 'deg') ** 2\n",
    "\n",
    "\n",
    "####\n",
    "####\n",
    "\n",
    "expected_counts = (exposure * pixel_size * flux).to('').value\n",
    "\n",
    "####\n",
    "####\n",
    "\n",
    "\n",
    "\n",
    "fits.writeto(filename='diffuse_counts.fits', data=expected_counts, header=header, clobber=True)"
   ]
  },
  {
   "cell_type": "markdown",
   "metadata": {},
   "source": [
    "# Compute some numbers to check if this looks OK"
   ]
  },
  {
   "cell_type": "code",
   "execution_count": null,
   "metadata": {},
   "outputs": [],
   "source": [
    "(0.1 * Quantity(5, 'year') * Quantity(1, 'm^2')).to('cm^2 s')"
   ]
  },
  {
   "cell_type": "code",
   "execution_count": null,
   "metadata": {},
   "outputs": [],
   "source": [
    "# TODO: Counts should roughly match Fermi counts, which is 1 count / pixel in the Galactic plane.\n"
   ]
  }
 ],
 "metadata": {
  "kernelspec": {
   "display_name": "Python [default]",
   "language": "python",
   "name": "python3"
  },
  "language_info": {
   "codemirror_mode": {
    "name": "ipython",
    "version": 3
   },
   "file_extension": ".py",
   "mimetype": "text/x-python",
   "name": "python",
   "nbconvert_exporter": "python",
   "pygments_lexer": "ipython3",
   "version": "3.6.1"
  },
  "toc": {
   "colors": {
    "hover_highlight": "#DAA520",
    "navigate_num": "#000000",
    "navigate_text": "#333333",
    "running_highlight": "#FF0000",
    "selected_highlight": "#FFD700",
    "sidebar_border": "#EEEEEE",
    "wrapper_background": "#FFFFFF"
   },
   "moveMenuLeft": true,
   "nav_menu": {
    "height": "107px",
    "width": "253px"
   },
   "navigate_menu": true,
   "number_sections": false,
   "sideBar": true,
   "threshold": 4,
   "toc_cell": false,
   "toc_section_display": "block",
   "toc_window_display": false,
   "widenNotebook": false
  }
 },
 "nbformat": 4,
 "nbformat_minor": 1
}
