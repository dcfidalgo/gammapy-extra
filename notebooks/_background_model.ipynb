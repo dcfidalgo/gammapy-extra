{
 "cells": [
  {
   "cell_type": "markdown",
   "metadata": {},
   "source": [
    "# Template background model production with Gammapy\n",
    "\n",
    "## Introduction \n",
    "\n",
    "In this tutorial, we will <span class=\"mark\">create a template background model</span> in the `bkg_2d` format, i.e. with offset and energy axes (see [spec](http://gamma-astro-data-formats.readthedocs.io/en/latest/irfs/background/index.html#bkg-2d-format)) and <span class=\"mark\">make a HDU index table</span>.\n",
    "\n",
    "We will be working with only 4 H.E.S.S. runs on the Crab nebula here, just as an example.\n",
    "\n",
    "To build a coherent background model you normally use 100s of runs of AGN observations or intentional \"off\" runs that point at parts of the sky containing no known gamma-ray sources.\n",
    "\n",
    "We will mainly be using the following classes:\n",
    "        \n",
    "* [gammapy.data.DataStore](http://docs.gammapy.org/en/latest/api/gammapy.data.DataStore.html) to load the runs to use to build the bkg model.\n",
    "* [gammapy.data.ObservationGroupAxis](http://docs.gammapy.org/en/latest/api/gammapy.data.ObservationGroupAxis.html) and [gammapy.data.ObservationGroups](http://docs.gammapy.org/en/latest/api/gammapy.data.ObservationGroups.html) to group the runs\n",
    "* [gammapy.background.OffDataBackgroundMaker](http://docs.gammapy.org/en/latest/api/gammapy.background.OffDataBackgroundMaker.html) to compute the background model\n",
    "* [gammapy.background.EnergyOffsetBackgroundModel](http://docs.gammapy.org/en/latest/api/gammapy.background.EnergyOffsetBackgroundModel.html) to represent and write the background model\n",
    "\n"
   ]
  },
  {
   "cell_type": "markdown",
   "metadata": {},
   "source": [
    "## Setup\n",
    "\n",
    "As always, we start the notebook with some setup and imports."
   ]
  },
  {
   "cell_type": "code",
   "execution_count": 1,
   "metadata": {
    "collapsed": true
   },
   "outputs": [],
   "source": [
    "%matplotlib inline\n",
    "import matplotlib.pyplot as plt"
   ]
  },
  {
   "cell_type": "code",
   "execution_count": 2,
   "metadata": {
    "collapsed": true
   },
   "outputs": [],
   "source": [
    "import shutil\n",
    "import numpy as np\n",
    "import astropy.units as u\n",
    "from astropy.table import Table\n",
    "from astropy.coordinates import SkyCoord, Angle"
   ]
  },
  {
   "cell_type": "code",
   "execution_count": 3,
   "metadata": {
    "collapsed": true
   },
   "outputs": [],
   "source": [
    "from gammapy.extern.pathlib import Path\n",
    "from gammapy.utils.energy import EnergyBounds\n",
    "from gammapy.utils.nddata import sqrt_space\n",
    "from gammapy.data import DataStore, ObservationGroupAxis, ObservationGroups\n",
    "from gammapy.background import EnergyOffsetBackgroundModel\n",
    "from gammapy.background import OffDataBackgroundMaker\n",
    "from gammapy.catalog import SourceCatalogGammaCat"
   ]
  },
  {
   "cell_type": "markdown",
   "metadata": {},
   "source": [
    "## Compute background model\n",
    "\n",
    "Computing a set of template background model has two major steps:\n",
    "1. Define group of runs for each background model\n",
    "2. Run the `OffDataBackgroundMaker`\n",
    "\n",
    "We also need a scratch directory, and a table of known gamma-ray sources to exclude.\n",
    "\n",
    "### Make a scratch directory\n",
    "\n",
    "Background model production is a little pipeline that needs a \"scratch\" directory to put some files while running. Let's make ourselves a fresh empty scratch sub-directory called `background` in the current working directory."
   ]
  },
  {
   "cell_type": "code",
   "execution_count": 4,
   "metadata": {
    "collapsed": true
   },
   "outputs": [],
   "source": [
    "def make_fresh_dir(path):\n",
    "    \"\"\"Make a fresh directory. Delete first if exists\"\"\"    \n",
    "    path = Path(path)\n",
    "    if path.is_dir():\n",
    "        shutil.rmtree(str(path))\n",
    "    path.mkdir()\n",
    "    return path"
   ]
  },
  {
   "cell_type": "code",
   "execution_count": 5,
   "metadata": {},
   "outputs": [
    {
     "data": {
      "text/plain": [
       "PosixPath('background')"
      ]
     },
     "execution_count": 5,
     "metadata": {},
     "output_type": "execute_result"
    }
   ],
   "source": [
    "scratch_dir = make_fresh_dir('background')\n",
    "scratch_dir"
   ]
  },
  {
   "cell_type": "markdown",
   "metadata": {},
   "source": [
    "### Make an observation table defining the run grouping\n",
    "\n",
    "Prepare a scheme to group observations with similar observing conditions and create a new ObservationTable with the grouping ID for each run"
   ]
  },
  {
   "cell_type": "code",
   "execution_count": 6,
   "metadata": {
    "collapsed": true
   },
   "outputs": [],
   "source": [
    "# Create a background model from the 4 Crab runs for the counts ouside the exclusion region so here outside the Crab\n",
    "data_store = DataStore.from_dir(\"$GAMMAPY_EXTRA/datasets/hess-crab4-hd-hap-prod2\")"
   ]
  },
  {
   "cell_type": "code",
   "execution_count": 7,
   "metadata": {},
   "outputs": [
    {
     "data": {
      "text/html": [
       "&lt;ObservationTable length=4&gt;\n",
       "<table id=\"table4785052416\" class=\"table-striped table-bordered table-condensed\">\n",
       "<thead><tr><th>ALT_PNT</th><th>AZ_PNT</th><th>DEADC</th><th>DEC_OBJ</th><th>DEC_PNT</th><th>EVENT_COUNT</th><th>EVENT_DEC_MEDIAN</th><th>EVENT_ENERGY_MEDIAN</th><th>EVENT_RA_MEDIAN</th><th>EVENT_TIME_MAX</th><th>EVENT_TIME_MIN</th><th>LIVETIME</th><th>MUONEFF</th><th>N_TELS</th><th>OBJECT</th><th>OBS_ID</th><th>ONTIME</th><th>QUALITY</th><th>RA_OBJ</th><th>RA_PNT</th><th>TELLIST</th><th>TSTART</th><th>TSTART_STR</th><th>TSTOP</th><th>TSTOP_STR</th><th>ZEN_PNT</th></tr></thead>\n",
       "<thead><tr><th>float32</th><th>float32</th><th>float32</th><th>float32</th><th>float32</th><th>int64</th><th>float32</th><th>float32</th><th>float32</th><th>float64</th><th>float64</th><th>float32</th><th>float32</th><th>int64</th><th>str11</th><th>int64</th><th>float32</th><th>int64</th><th>float32</th><th>float32</th><th>str7</th><th>float32</th><th>str19</th><th>float32</th><th>str19</th><th>float32</th></tr></thead>\n",
       "<tr><td>40.6062</td><td>26.5339</td><td>0.937603</td><td>22.0144</td><td>21.5144</td><td>7613</td><td>21.526</td><td>0.952794</td><td>83.6066</td><td>155471662.006</td><td>155469975.668</td><td>1581.74</td><td>0.927107</td><td>4</td><td>Crab Nebula</td><td>23523</td><td>1687.0</td><td>0</td><td>83.6333</td><td>83.6333</td><td>1,2,3,4</td><td>53343.9</td><td>2004-12-04 22:05:10</td><td>53343.9</td><td>2004-12-04 22:33:17</td><td>49.3938</td></tr>\n",
       "<tr><td>43.2123</td><td>12.5513</td><td>0.934454</td><td>22.0144</td><td>22.5144</td><td>7581</td><td>22.3585</td><td>0.836354</td><td>83.6332</td><td>155474412.69</td><td>155472730.323</td><td>1572.69</td><td>0.931116</td><td>4</td><td>Crab Nebula</td><td>23526</td><td>1683.0</td><td>0</td><td>83.6333</td><td>83.6333</td><td>1,2,3,4</td><td>53344.0</td><td>2004-12-04 22:51:04</td><td>53344.0</td><td>2004-12-04 23:19:07</td><td>46.7877</td></tr>\n",
       "<tr><td>44.2392</td><td>8.70994</td><td>0.936016</td><td>22.0144</td><td>22.0144</td><td>7601</td><td>21.9768</td><td>0.793617</td><td>85.1787</td><td>155647886.125</td><td>155646200.625</td><td>1578.12</td><td>0.942401</td><td>4</td><td>Crab Nebula</td><td>23559</td><td>1686.0</td><td>0</td><td>83.6333</td><td>85.2533</td><td>1,2,3,4</td><td>53346.0</td><td>2004-12-06 23:02:15</td><td>53346.0</td><td>2004-12-06 23:30:21</td><td>45.7608</td></tr>\n",
       "<tr><td>41.0344</td><td>23.7368</td><td>0.937879</td><td>22.0144</td><td>22.0144</td><td>7334</td><td>21.9517</td><td>0.941886</td><td>82.1431</td><td>155816471.685</td><td>155814785.825</td><td>1581.26</td><td>0.916893</td><td>4</td><td>Crab Nebula</td><td>23592</td><td>1686.0</td><td>0</td><td>83.6333</td><td>82.0133</td><td>1,2,3,4</td><td>53347.9</td><td>2004-12-08 21:52:00</td><td>53347.9</td><td>2004-12-08 22:20:06</td><td>48.9656</td></tr>\n",
       "</table>"
      ],
      "text/plain": [
       "<ObservationTable length=4>\n",
       "ALT_PNT  AZ_PNT  DEADC   DEC_OBJ ...  TSTOP       TSTOP_STR      ZEN_PNT\n",
       "float32 float32 float32  float32 ... float32        str19        float32\n",
       "------- ------- -------- ------- ... ------- ------------------- -------\n",
       "40.6062 26.5339 0.937603 22.0144 ... 53343.9 2004-12-04 22:33:17 49.3938\n",
       "43.2123 12.5513 0.934454 22.0144 ... 53344.0 2004-12-04 23:19:07 46.7877\n",
       "44.2392 8.70994 0.936016 22.0144 ... 53346.0 2004-12-06 23:30:21 45.7608\n",
       "41.0344 23.7368 0.937879 22.0144 ... 53347.9 2004-12-08 22:20:06 48.9656"
      ]
     },
     "execution_count": 7,
     "metadata": {},
     "output_type": "execute_result"
    }
   ],
   "source": [
    "data_store.obs_table"
   ]
  },
  {
   "cell_type": "code",
   "execution_count": 8,
   "metadata": {
    "collapsed": true
   },
   "outputs": [],
   "source": [
    "# Define the grouping you want to use to group the obervations to make the acceptance curves\n",
    "# Here we use 2 Zenith angle bins only, you can also add efficiency bins for example etc...\n",
    "axes = [ObservationGroupAxis('ZEN_PNT', [0, 49, 90], fmt='edges')]\n",
    "\n",
    "# Create the ObservationGroups object\n",
    "obs_groups = ObservationGroups(axes)"
   ]
  },
  {
   "cell_type": "code",
   "execution_count": 9,
   "metadata": {
    "collapsed": true
   },
   "outputs": [],
   "source": [
    "# Write it to file --> we will need it later in order to create HDU index table\n",
    "filename = str(scratch_dir / 'group-def.fits')\n",
    "obs_groups.obs_groups_table.write(filename, overwrite=True)"
   ]
  },
  {
   "cell_type": "code",
   "execution_count": 10,
   "metadata": {
    "collapsed": true
   },
   "outputs": [],
   "source": [
    "# Create a new ObservationTable with the column group_id\n",
    "# You give the runs list you want to use to produce the background model that are in your obs table. \n",
    "# Here very simple only the 4 Crab runs...\n",
    "list_ids = [23523, 23526, 23559, 23592]\n",
    "obs_table_with_group_id = obs_groups.apply(data_store.obs_table.select_obs_id(list_ids))"
   ]
  },
  {
   "cell_type": "code",
   "execution_count": 11,
   "metadata": {},
   "outputs": [
    {
     "data": {
      "text/html": [
       "&lt;ObservationTable length=4&gt;\n",
       "<table id=\"table4785695936\" class=\"table-striped table-bordered table-condensed\">\n",
       "<thead><tr><th>GROUP_ID</th><th>ALT_PNT</th><th>AZ_PNT</th><th>DEADC</th><th>DEC_OBJ</th><th>DEC_PNT</th><th>EVENT_COUNT</th><th>EVENT_DEC_MEDIAN</th><th>EVENT_ENERGY_MEDIAN</th><th>EVENT_RA_MEDIAN</th><th>EVENT_TIME_MAX</th><th>EVENT_TIME_MIN</th><th>LIVETIME</th><th>MUONEFF</th><th>N_TELS</th><th>OBJECT</th><th>OBS_ID</th><th>ONTIME</th><th>QUALITY</th><th>RA_OBJ</th><th>RA_PNT</th><th>TELLIST</th><th>TSTART</th><th>TSTART_STR</th><th>TSTOP</th><th>TSTOP_STR</th><th>ZEN_PNT</th></tr></thead>\n",
       "<thead><tr><th>int64</th><th>float32</th><th>float32</th><th>float32</th><th>float32</th><th>float32</th><th>int64</th><th>float32</th><th>float32</th><th>float32</th><th>float64</th><th>float64</th><th>float32</th><th>float32</th><th>int64</th><th>str11</th><th>int64</th><th>float32</th><th>int64</th><th>float32</th><th>float32</th><th>str7</th><th>float32</th><th>str19</th><th>float32</th><th>str19</th><th>float32</th></tr></thead>\n",
       "<tr><td>0</td><td>43.2123</td><td>12.5513</td><td>0.934454</td><td>22.0144</td><td>22.5144</td><td>7581</td><td>22.3585</td><td>0.836354</td><td>83.6332</td><td>155474412.69</td><td>155472730.323</td><td>1572.69</td><td>0.931116</td><td>4</td><td>Crab Nebula</td><td>23526</td><td>1683.0</td><td>0</td><td>83.6333</td><td>83.6333</td><td>1,2,3,4</td><td>53344.0</td><td>2004-12-04 22:51:04</td><td>53344.0</td><td>2004-12-04 23:19:07</td><td>46.7877</td></tr>\n",
       "<tr><td>0</td><td>44.2392</td><td>8.70994</td><td>0.936016</td><td>22.0144</td><td>22.0144</td><td>7601</td><td>21.9768</td><td>0.793617</td><td>85.1787</td><td>155647886.125</td><td>155646200.625</td><td>1578.12</td><td>0.942401</td><td>4</td><td>Crab Nebula</td><td>23559</td><td>1686.0</td><td>0</td><td>83.6333</td><td>85.2533</td><td>1,2,3,4</td><td>53346.0</td><td>2004-12-06 23:02:15</td><td>53346.0</td><td>2004-12-06 23:30:21</td><td>45.7608</td></tr>\n",
       "<tr><td>0</td><td>41.0344</td><td>23.7368</td><td>0.937879</td><td>22.0144</td><td>22.0144</td><td>7334</td><td>21.9517</td><td>0.941886</td><td>82.1431</td><td>155816471.685</td><td>155814785.825</td><td>1581.26</td><td>0.916893</td><td>4</td><td>Crab Nebula</td><td>23592</td><td>1686.0</td><td>0</td><td>83.6333</td><td>82.0133</td><td>1,2,3,4</td><td>53347.9</td><td>2004-12-08 21:52:00</td><td>53347.9</td><td>2004-12-08 22:20:06</td><td>48.9656</td></tr>\n",
       "<tr><td>1</td><td>40.6062</td><td>26.5339</td><td>0.937603</td><td>22.0144</td><td>21.5144</td><td>7613</td><td>21.526</td><td>0.952794</td><td>83.6066</td><td>155471662.006</td><td>155469975.668</td><td>1581.74</td><td>0.927107</td><td>4</td><td>Crab Nebula</td><td>23523</td><td>1687.0</td><td>0</td><td>83.6333</td><td>83.6333</td><td>1,2,3,4</td><td>53343.9</td><td>2004-12-04 22:05:10</td><td>53343.9</td><td>2004-12-04 22:33:17</td><td>49.3938</td></tr>\n",
       "</table>"
      ],
      "text/plain": [
       "<ObservationTable length=4>\n",
       "GROUP_ID ALT_PNT  AZ_PNT  DEADC   ...  TSTOP       TSTOP_STR      ZEN_PNT\n",
       " int64   float32 float32 float32  ... float32        str19        float32\n",
       "-------- ------- ------- -------- ... ------- ------------------- -------\n",
       "       0 43.2123 12.5513 0.934454 ... 53344.0 2004-12-04 23:19:07 46.7877\n",
       "       0 44.2392 8.70994 0.936016 ... 53346.0 2004-12-06 23:30:21 45.7608\n",
       "       0 41.0344 23.7368 0.937879 ... 53347.9 2004-12-08 22:20:06 48.9656\n",
       "       1 40.6062 26.5339 0.937603 ... 53343.9 2004-12-04 22:33:17 49.3938"
      ]
     },
     "execution_count": 11,
     "metadata": {},
     "output_type": "execute_result"
    }
   ],
   "source": [
    "obs_table_with_group_id"
   ]
  },
  {
   "cell_type": "markdown",
   "metadata": {},
   "source": [
    "### Make table of known gamma-ray sources to exclude\n",
    "\n",
    "We need a maskto remove known sources from the observation. We use SourceCatalogGammaCat and exclude a circular region of at least 0.3° radius. Here since we use Crab runs, we will remove the Crab events from the FOV to select only the OFF events to build the acceptance curves. Of course normally you use thousand of AGN runs to build coherent acceptance curves."
   ]
  },
  {
   "cell_type": "code",
   "execution_count": 12,
   "metadata": {
    "collapsed": true
   },
   "outputs": [],
   "source": [
    "cat = SourceCatalogGammaCat()"
   ]
  },
  {
   "cell_type": "code",
   "execution_count": 13,
   "metadata": {},
   "outputs": [
    {
     "data": {
      "text/html": [
       "&lt;Table length=166&gt;\n",
       "<table id=\"table4566916344\" class=\"table-striped table-bordered table-condensed\">\n",
       "<thead><tr><th>source_id</th><th>common_name</th><th>gamma_names</th><th>fermi_names</th><th>other_names</th><th>where</th><th>classes</th><th>discoverer</th><th>seen_by</th><th>discovery_date</th><th>tevcat_id</th><th>tevcat2_id</th><th>tevcat_name</th><th>tgevcat_id</th><th>tgevcat_name</th><th>reference_id</th><th>significance</th><th>livetime</th><th>ra</th><th>dec</th><th>glon</th><th>glat</th><th>pos_ra</th><th>pos_dec</th><th>pos_glon</th><th>pos_glat</th><th>pos_err</th><th>morph_type</th><th>morph_sigma</th><th>morph_sigma_err</th><th>morph_sigma2</th><th>morph_sigma2_err</th><th>morph_pa</th><th>morph_pa_err</th><th>morph_pa_frame</th><th>spec_type</th><th>spec_pl_norm</th><th>spec_pl_norm_err</th><th>spec_pl_norm_err_sys</th><th>spec_pl_index</th><th>spec_pl_index_err</th><th>spec_pl_index_err_sys</th><th>spec_pl_e_ref</th><th>spec_pl2_flux</th><th>spec_pl2_flux_err</th><th>spec_pl2_flux_err_sys</th><th>spec_pl2_index</th><th>spec_pl2_index_err</th><th>spec_pl2_index_err_sys</th><th>spec_pl2_e_min</th><th>spec_pl2_e_max</th><th>spec_ecpl_norm</th><th>spec_ecpl_norm_err</th><th>spec_ecpl_norm_err_sys</th><th>spec_ecpl_index</th><th>spec_ecpl_index_err</th><th>spec_ecpl_index_err_sys</th><th>spec_ecpl_e_cut</th><th>spec_ecpl_e_cut_err</th><th>spec_ecpl_e_cut_err_sys</th><th>spec_ecpl_e_ref</th><th>spec_erange_min</th><th>spec_erange_max</th><th>spec_theta</th><th>spec_dnde_1TeV</th><th>spec_dnde_1TeV_err</th><th>spec_flux_1TeV</th><th>spec_flux_1TeV_err</th><th>spec_flux_1TeV_crab</th><th>spec_flux_1TeV_crab_err</th><th>spec_eflux_1TeV_10TeV</th><th>spec_eflux_1TeV_10TeV_err</th><th>sed_reference_id</th><th>sed_n_points</th><th>sed_n_ul</th><th>sed_e_ref [40]</th><th>sed_e_min [40]</th><th>sed_e_max [40]</th><th>sed_dnde [40]</th><th>sed_dnde_err [40]</th><th>sed_dnde_errp [40]</th><th>sed_dnde_errn [40]</th><th>sed_dnde_ul [40]</th></tr></thead>\n",
       "<thead><tr><th></th><th></th><th></th><th></th><th></th><th></th><th></th><th></th><th></th><th></th><th></th><th></th><th></th><th></th><th></th><th></th><th></th><th>h</th><th>deg</th><th>deg</th><th>deg</th><th>deg</th><th>deg</th><th>deg</th><th>deg</th><th>deg</th><th>deg</th><th></th><th>deg</th><th>deg</th><th>deg</th><th>deg</th><th>deg</th><th>deg</th><th></th><th></th><th>1 / (cm2 s TeV)</th><th>1 / (cm2 s TeV)</th><th>1 / (cm2 s TeV)</th><th></th><th></th><th></th><th>TeV</th><th>1 / (cm2 s)</th><th>1 / (cm2 s)</th><th>1 / (cm2 s)</th><th></th><th></th><th></th><th>TeV</th><th>TeV</th><th>1 / (cm2 s TeV)</th><th>1 / (cm2 s TeV)</th><th>1 / (cm2 s TeV)</th><th></th><th></th><th></th><th>TeV</th><th>TeV</th><th>TeV</th><th>TeV</th><th>TeV</th><th>TeV</th><th>deg</th><th>1 / (cm2 s TeV)</th><th>1 / (cm2 s TeV)</th><th>1 / (cm2 s)</th><th>1 / (cm2 s)</th><th></th><th></th><th>erg / (cm2 s)</th><th>erg / (cm2 s)</th><th></th><th></th><th></th><th>TeV</th><th>TeV</th><th>TeV</th><th>1 / (cm2 s TeV)</th><th>1 / (cm2 s TeV)</th><th>1 / (cm2 s TeV)</th><th>1 / (cm2 s TeV)</th><th>1 / (cm2 s TeV)</th></tr></thead>\n",
       "<thead><tr><th>int32</th><th>str21</th><th>str76</th><th>str72</th><th>str73</th><th>str4</th><th>str11</th><th>str8</th><th>str37</th><th>str7</th><th>int64</th><th>str6</th><th>str14</th><th>int64</th><th>str14</th><th>str19</th><th>float32</th><th>float32</th><th>float32</th><th>float32</th><th>float32</th><th>float32</th><th>float32</th><th>float32</th><th>float32</th><th>float32</th><th>float32</th><th>str5</th><th>float32</th><th>float32</th><th>float32</th><th>float32</th><th>float32</th><th>float32</th><th>str8</th><th>str4</th><th>float32</th><th>float32</th><th>float32</th><th>float32</th><th>float32</th><th>float32</th><th>float32</th><th>float32</th><th>float32</th><th>float32</th><th>float32</th><th>float32</th><th>float32</th><th>float32</th><th>float32</th><th>float32</th><th>float32</th><th>float32</th><th>float32</th><th>float32</th><th>float32</th><th>float32</th><th>float32</th><th>float32</th><th>float32</th><th>float32</th><th>float32</th><th>float32</th><th>float32</th><th>float32</th><th>float32</th><th>float32</th><th>float32</th><th>float32</th><th>float32</th><th>float32</th><th>str19</th><th>int32</th><th>int32</th><th>float32</th><th>float32</th><th>float32</th><th>float32</th><th>float32</th><th>float32</th><th>float32</th><th>float32</th></tr></thead>\n",
       "<tr><td>1</td><td>CTA 1</td><td>VER J0006+729</td><td></td><td>SNR G119.5+10.2</td><td>gal</td><td>pwn,snr</td><td>veritas</td><td>veritas</td><td>2011-10</td><td>227</td><td>rC5JCj</td><td>TeV J0006+729</td><td>1</td><td>TeV J0006+7259</td><td>2013ApJ...764...38A</td><td>7.5</td><td>41.25</td><td>1.65</td><td>72.783</td><td>119.58</td><td>10.2037</td><td>1.60833</td><td>72.9836</td><td>119.604</td><td>10.4033</td><td>0.06</td><td>gauss</td><td>0.3</td><td>0.03</td><td>0.24</td><td>0.03</td><td>17.4</td><td>15.8</td><td>radec</td><td>pl</td><td>9.1e-14</td><td>1.3e-14</td><td>1.7e-14</td><td>2.2</td><td>0.2</td><td>0.3</td><td>3.0</td><td>nan</td><td>nan</td><td>nan</td><td>nan</td><td>nan</td><td>nan</td><td>nan</td><td>nan</td><td>nan</td><td>nan</td><td>nan</td><td>nan</td><td>nan</td><td>nan</td><td>nan</td><td>nan</td><td>nan</td><td>nan</td><td>nan</td><td>nan</td><td>nan</td><td>1.02025e-12</td><td>2.67388e-13</td><td>8.50211e-13</td><td>1.29565e-13</td><td>4.0985</td><td>0.624576</td><td>3.01623e-12</td><td>4.31419e-13</td><td>2013ApJ...764...38A</td><td>6</td><td>0</td><td>nan .. nan</td><td>0.56 .. nan</td><td>1.0 .. nan</td><td>1.9e-12 .. nan</td><td>9e-13 .. nan</td><td>nan .. nan</td><td>nan .. nan</td><td>nan .. nan</td></tr>\n",
       "<tr><td>2</td><td>SHBL J001355.9-185406</td><td></td><td></td><td></td><td>egal</td><td>hbl</td><td>hess</td><td>hess</td><td>2010-11</td><td>213</td><td>70hRXZ</td><td>TeV J0013-188</td><td>2</td><td>TeV J0013-1853</td><td></td><td>nan</td><td>nan</td><td>3.48356</td><td>-18.9018</td><td>74.632</td><td>-78.0869</td><td>nan</td><td>nan</td><td>nan</td><td>nan</td><td>nan</td><td>none</td><td>nan</td><td>nan</td><td>nan</td><td>nan</td><td>nan</td><td>nan</td><td></td><td>none</td><td>nan</td><td>nan</td><td>nan</td><td>nan</td><td>nan</td><td>nan</td><td>nan</td><td>nan</td><td>nan</td><td>nan</td><td>nan</td><td>nan</td><td>nan</td><td>nan</td><td>nan</td><td>nan</td><td>nan</td><td>nan</td><td>nan</td><td>nan</td><td>nan</td><td>nan</td><td>nan</td><td>nan</td><td>nan</td><td>nan</td><td>nan</td><td>nan</td><td>nan</td><td>nan</td><td>nan</td><td>nan</td><td>nan</td><td>nan</td><td>nan</td><td>nan</td><td>2013A&amp;A...554A..72H</td><td>3</td><td>0</td><td>0.4452 .. nan</td><td>nan .. nan</td><td>nan .. nan</td><td>1.907e-12 .. nan</td><td>nan .. nan</td><td>4.16499e-13 .. nan</td><td>4.16499e-13 .. nan</td><td>nan .. nan</td></tr>\n",
       "<tr><td>3</td><td>Tycho SNR</td><td>VER J0025+641</td><td></td><td>SNR G120.1+1.4,3C10,SN1572</td><td>gal</td><td>snr</td><td>veritas</td><td>veritas</td><td>2010-05</td><td>209</td><td>xCyAjF</td><td>TeV J0025+641</td><td>3</td><td>TeV J0025+6410</td><td>2017ApJ...836...23A</td><td>6.9</td><td>147.0</td><td>6.3397</td><td>64.1408</td><td>120.092</td><td>1.41293</td><td>6.34</td><td>64.13</td><td>120.091</td><td>1.40217</td><td>0.0244949</td><td>point</td><td>nan</td><td>nan</td><td>nan</td><td>nan</td><td>nan</td><td>nan</td><td></td><td>pl</td><td>2.2e-13</td><td>5e-14</td><td>6e-14</td><td>2.92</td><td>0.42</td><td>0.2</td><td>1.0</td><td>nan</td><td>nan</td><td>nan</td><td>nan</td><td>nan</td><td>nan</td><td>nan</td><td>nan</td><td>nan</td><td>nan</td><td>nan</td><td>nan</td><td>nan</td><td>nan</td><td>nan</td><td>nan</td><td>nan</td><td>nan</td><td>nan</td><td>nan</td><td>nan</td><td>2.2e-13</td><td>5e-14</td><td>1.14583e-13</td><td>3.61445e-14</td><td>0.552357</td><td>0.174237</td><td>3.37067e-13</td><td>1.33499e-13</td><td>2017ApJ...836...23A</td><td>5</td><td>1</td><td>0.5242 .. nan</td><td>nan .. nan</td><td>nan .. nan</td><td>1.83e-12 .. nan</td><td>6.48e-13 .. nan</td><td>nan .. nan</td><td>nan .. nan</td><td>nan .. nan</td></tr>\n",
       "<tr><td>4</td><td>KUV 00311-1938</td><td></td><td></td><td></td><td>egal</td><td>hbl</td><td>hess</td><td>hess</td><td>2012-07</td><td>239</td><td>PKJZqs</td><td>TeV J0033-193</td><td>4</td><td>TeV J0033-1921</td><td></td><td>nan</td><td>nan</td><td>8.39329</td><td>-19.3592</td><td>94.1746</td><td>-81.2161</td><td>nan</td><td>nan</td><td>nan</td><td>nan</td><td>nan</td><td>none</td><td>nan</td><td>nan</td><td>nan</td><td>nan</td><td>nan</td><td>nan</td><td></td><td>none</td><td>nan</td><td>nan</td><td>nan</td><td>nan</td><td>nan</td><td>nan</td><td>nan</td><td>nan</td><td>nan</td><td>nan</td><td>nan</td><td>nan</td><td>nan</td><td>nan</td><td>nan</td><td>nan</td><td>nan</td><td>nan</td><td>nan</td><td>nan</td><td>nan</td><td>nan</td><td>nan</td><td>nan</td><td>nan</td><td>nan</td><td>nan</td><td>nan</td><td>nan</td><td>nan</td><td>nan</td><td>nan</td><td>nan</td><td>nan</td><td>nan</td><td>nan</td><td></td><td>0</td><td>0</td><td>nan .. nan</td><td>nan .. nan</td><td>nan .. nan</td><td>nan .. nan</td><td>nan .. nan</td><td>nan .. nan</td><td>nan .. nan</td><td>nan .. nan</td></tr>\n",
       "<tr><td>5</td><td>1ES 0033+595</td><td></td><td></td><td></td><td>egal</td><td>hbl</td><td>magic</td><td>magic</td><td>2011-10</td><td>229</td><td>eNYfrm</td><td>TeV J0035+598</td><td>5</td><td>TeV J0035+5947</td><td></td><td>nan</td><td>nan</td><td>8.96898</td><td>59.8345</td><td>120.975</td><td>-2.97812</td><td>nan</td><td>nan</td><td>nan</td><td>nan</td><td>nan</td><td>none</td><td>nan</td><td>nan</td><td>nan</td><td>nan</td><td>nan</td><td>nan</td><td></td><td>none</td><td>nan</td><td>nan</td><td>nan</td><td>nan</td><td>nan</td><td>nan</td><td>nan</td><td>nan</td><td>nan</td><td>nan</td><td>nan</td><td>nan</td><td>nan</td><td>nan</td><td>nan</td><td>nan</td><td>nan</td><td>nan</td><td>nan</td><td>nan</td><td>nan</td><td>nan</td><td>nan</td><td>nan</td><td>nan</td><td>nan</td><td>nan</td><td>nan</td><td>nan</td><td>nan</td><td>nan</td><td>nan</td><td>nan</td><td>nan</td><td>nan</td><td>nan</td><td></td><td>0</td><td>0</td><td>nan .. nan</td><td>nan .. nan</td><td>nan .. nan</td><td>nan .. nan</td><td>nan .. nan</td><td>nan .. nan</td><td>nan .. nan</td><td>nan .. nan</td></tr>\n",
       "<tr><td>6</td><td>NGC 253</td><td></td><td></td><td></td><td>egal</td><td>galaxy</td><td>hess</td><td>hess</td><td>2009-07</td><td>195</td><td>sK2rQU</td><td>TeV J0047-253</td><td>6</td><td>TeV J0047-2517</td><td></td><td>nan</td><td>nan</td><td>11.8881</td><td>-25.2888</td><td>97.3639</td><td>-87.9645</td><td>nan</td><td>nan</td><td>nan</td><td>nan</td><td>nan</td><td>none</td><td>nan</td><td>nan</td><td>nan</td><td>nan</td><td>nan</td><td>nan</td><td></td><td>none</td><td>nan</td><td>nan</td><td>nan</td><td>nan</td><td>nan</td><td>nan</td><td>nan</td><td>nan</td><td>nan</td><td>nan</td><td>nan</td><td>nan</td><td>nan</td><td>nan</td><td>nan</td><td>nan</td><td>nan</td><td>nan</td><td>nan</td><td>nan</td><td>nan</td><td>nan</td><td>nan</td><td>nan</td><td>nan</td><td>nan</td><td>nan</td><td>nan</td><td>nan</td><td>nan</td><td>nan</td><td>nan</td><td>nan</td><td>nan</td><td>nan</td><td>nan</td><td></td><td>0</td><td>0</td><td>nan .. nan</td><td>nan .. nan</td><td>nan .. nan</td><td>nan .. nan</td><td>nan .. nan</td><td>nan .. nan</td><td>nan .. nan</td><td>nan .. nan</td></tr>\n",
       "<tr><td>7</td><td>RGB J0136+391</td><td></td><td></td><td>B3 0133+388,1RXS J013632.9+390556</td><td>egal</td><td>hbl</td><td>magic</td><td>magic</td><td>2012-07</td><td>244</td><td>7WhQrw</td><td>TeV J0136+391</td><td>7</td><td>TeV J0136+3905</td><td></td><td>nan</td><td>nan</td><td>24.1358</td><td>39.0998</td><td>132.416</td><td>-22.9398</td><td>nan</td><td>nan</td><td>nan</td><td>nan</td><td>nan</td><td>none</td><td>nan</td><td>nan</td><td>nan</td><td>nan</td><td>nan</td><td>nan</td><td></td><td>none</td><td>nan</td><td>nan</td><td>nan</td><td>nan</td><td>nan</td><td>nan</td><td>nan</td><td>nan</td><td>nan</td><td>nan</td><td>nan</td><td>nan</td><td>nan</td><td>nan</td><td>nan</td><td>nan</td><td>nan</td><td>nan</td><td>nan</td><td>nan</td><td>nan</td><td>nan</td><td>nan</td><td>nan</td><td>nan</td><td>nan</td><td>nan</td><td>nan</td><td>nan</td><td>nan</td><td>nan</td><td>nan</td><td>nan</td><td>nan</td><td>nan</td><td>nan</td><td></td><td>0</td><td>0</td><td>nan .. nan</td><td>nan .. nan</td><td>nan .. nan</td><td>nan .. nan</td><td>nan .. nan</td><td>nan .. nan</td><td>nan .. nan</td><td>nan .. nan</td></tr>\n",
       "<tr><td>8</td><td>RGB J0152+017</td><td></td><td></td><td>RXJ0152.6+0147</td><td>egal</td><td>hbl</td><td>hess</td><td>hess</td><td>2008-02</td><td>156</td><td>tKGVcC</td><td>TeV J0152+017</td><td>8</td><td>TeV J0152+0146</td><td></td><td>nan</td><td>nan</td><td>28.165</td><td>1.78816</td><td>152.377</td><td>-57.5409</td><td>nan</td><td>nan</td><td>nan</td><td>nan</td><td>nan</td><td>none</td><td>nan</td><td>nan</td><td>nan</td><td>nan</td><td>nan</td><td>nan</td><td></td><td>none</td><td>nan</td><td>nan</td><td>nan</td><td>nan</td><td>nan</td><td>nan</td><td>nan</td><td>nan</td><td>nan</td><td>nan</td><td>nan</td><td>nan</td><td>nan</td><td>nan</td><td>nan</td><td>nan</td><td>nan</td><td>nan</td><td>nan</td><td>nan</td><td>nan</td><td>nan</td><td>nan</td><td>nan</td><td>nan</td><td>nan</td><td>nan</td><td>nan</td><td>nan</td><td>nan</td><td>nan</td><td>nan</td><td>nan</td><td>nan</td><td>nan</td><td>nan</td><td>2008A&amp;A...481L.103A</td><td>6</td><td>0</td><td>0.300783 .. nan</td><td>nan .. nan</td><td>nan .. nan</td><td>2.034e-11 .. nan</td><td>nan .. nan</td><td>6.674e-12 .. nan</td><td>6.674e-12 .. nan</td><td>nan .. nan</td></tr>\n",
       "<tr><td>9</td><td>3C 58</td><td></td><td></td><td></td><td>gal</td><td>pwn</td><td>magic</td><td>magic</td><td>2014-05</td><td>252</td><td>2I2TuY</td><td>TeV J0209+648</td><td>9</td><td>TeV J0205+6451</td><td>2014A&amp;A...567L...8A</td><td>5.7</td><td>99.0</td><td>31.4043</td><td>64.8283</td><td>130.718</td><td>3.08385</td><td>31.3792</td><td>64.85</td><td>130.701</td><td>3.10163</td><td>0.025</td><td>point</td><td>nan</td><td>nan</td><td>nan</td><td>nan</td><td>nan</td><td>nan</td><td></td><td>pl</td><td>2e-13</td><td>4e-14</td><td>6e-14</td><td>2.4</td><td>0.2</td><td>0.2</td><td>1.0</td><td>nan</td><td>nan</td><td>nan</td><td>nan</td><td>nan</td><td>nan</td><td>nan</td><td>nan</td><td>nan</td><td>nan</td><td>nan</td><td>nan</td><td>nan</td><td>nan</td><td>nan</td><td>nan</td><td>nan</td><td>nan</td><td>nan</td><td>nan</td><td>nan</td><td>2e-13</td><td>4e-14</td><td>1.42857e-13</td><td>3.51115e-14</td><td>0.688653</td><td>0.169258</td><td>4.82169e-13</td><td>1.3482e-13</td><td></td><td>0</td><td>0</td><td>nan .. nan</td><td>nan .. nan</td><td>nan .. nan</td><td>nan .. nan</td><td>nan .. nan</td><td>nan .. nan</td><td>nan .. nan</td><td>nan .. nan</td></tr>\n",
       "<tr><td>...</td><td>...</td><td>...</td><td>...</td><td>...</td><td>...</td><td>...</td><td>...</td><td>...</td><td>...</td><td>...</td><td>...</td><td>...</td><td>...</td><td>...</td><td>...</td><td>...</td><td>...</td><td>...</td><td>...</td><td>...</td><td>...</td><td>...</td><td>...</td><td>...</td><td>...</td><td>...</td><td>...</td><td>...</td><td>...</td><td>...</td><td>...</td><td>...</td><td>...</td><td>...</td><td>...</td><td>...</td><td>...</td><td>...</td><td>...</td><td>...</td><td>...</td><td>...</td><td>...</td><td>...</td><td>...</td><td>...</td><td>...</td><td>...</td><td>...</td><td>...</td><td>...</td><td>...</td><td>...</td><td>...</td><td>...</td><td>...</td><td>...</td><td>...</td><td>...</td><td>...</td><td>...</td><td>...</td><td>...</td><td>...</td><td>...</td><td>...</td><td>...</td><td>...</td><td>...</td><td>...</td><td>...</td><td>...</td><td>...</td><td>...</td><td>...</td><td>...</td><td>...</td><td>...</td><td>...</td><td>...</td><td>...</td><td>...</td></tr>\n",
       "<tr><td>146</td><td>TeV J2032+4130</td><td>MGRO J2031+41,VER J2031+415</td><td></td><td>0FGL J2032.2+4122</td><td>gal</td><td>unid</td><td>hegra</td><td>hegra,veritas,magic,milagro</td><td>2002-10</td><td>87</td><td>3IY6Gd</td><td>TeV J2032+415</td><td>146</td><td>TeV J2031+4133</td><td>2014ApJ...783...16A</td><td>8.7</td><td>48.2</td><td>308.025</td><td>41.567</td><td>80.2995</td><td>1.11112</td><td>307.917</td><td>41.5647</td><td>80.2497</td><td>1.1751</td><td>0.0527595</td><td>gauss</td><td>0.3</td><td>0.1</td><td>nan</td><td>nan</td><td>nan</td><td>nan</td><td></td><td>pl</td><td>9.5e-13</td><td>1.6e-13</td><td>2.2e-13</td><td>2.1</td><td>0.14</td><td>0.21</td><td>1.0</td><td>nan</td><td>nan</td><td>nan</td><td>nan</td><td>nan</td><td>nan</td><td>nan</td><td>nan</td><td>nan</td><td>nan</td><td>nan</td><td>nan</td><td>nan</td><td>nan</td><td>nan</td><td>nan</td><td>nan</td><td>nan</td><td>0.6</td><td>23.41</td><td>nan</td><td>9.5e-13</td><td>1.6e-13</td><td>8.63636e-13</td><td>1.82315e-13</td><td>4.16322</td><td>0.878862</td><td>3.13046e-12</td><td>7.16534e-13</td><td>2014ApJ...783...16A</td><td>7</td><td>0</td><td>0.79 .. nan</td><td>nan .. nan</td><td>nan .. nan</td><td>1.7e-12 .. nan</td><td>5e-13 .. nan</td><td>nan .. nan</td><td>nan .. nan</td><td>nan .. nan</td></tr>\n",
       "<tr><td>147</td><td>PKS 2155-304</td><td>HESS J2158-302</td><td></td><td></td><td>egal</td><td>hbl</td><td>durham</td><td>durham,hess,magic</td><td>1999-06</td><td>90</td><td>nm0IZL</td><td>TeV J2158-302</td><td>147</td><td>TeV J2158-3013</td><td></td><td>nan</td><td>nan</td><td>329.717</td><td>-30.2256</td><td>17.7305</td><td>-52.2459</td><td>nan</td><td>nan</td><td>nan</td><td>nan</td><td>nan</td><td>none</td><td>nan</td><td>nan</td><td>nan</td><td>nan</td><td>nan</td><td>nan</td><td></td><td>none</td><td>nan</td><td>nan</td><td>nan</td><td>nan</td><td>nan</td><td>nan</td><td>nan</td><td>nan</td><td>nan</td><td>nan</td><td>nan</td><td>nan</td><td>nan</td><td>nan</td><td>nan</td><td>nan</td><td>nan</td><td>nan</td><td>nan</td><td>nan</td><td>nan</td><td>nan</td><td>nan</td><td>nan</td><td>nan</td><td>nan</td><td>nan</td><td>nan</td><td>nan</td><td>nan</td><td>nan</td><td>nan</td><td>nan</td><td>nan</td><td>nan</td><td>nan</td><td>2010A&amp;A...520A..83H</td><td>12</td><td>0</td><td>0.223 .. nan</td><td>nan .. nan</td><td>nan .. nan</td><td>3.71e-10 .. nan</td><td>nan .. nan</td><td>1.3e-11 .. nan</td><td>1.3e-11 .. nan</td><td>nan .. nan</td></tr>\n",
       "<tr><td>148</td><td>BL Lacertae</td><td></td><td></td><td>1ES 2200+420</td><td>egal</td><td>lbl</td><td>crimea</td><td>crimea,veritas,magic</td><td>2001-04</td><td>118</td><td>iIWshp</td><td>TeV J2202+422</td><td>148</td><td>TeV J2202+4216</td><td>2013ApJ...762...92A</td><td>nan</td><td>nan</td><td>330.68</td><td>42.2778</td><td>92.5896</td><td>-10.4412</td><td>330.654</td><td>42.2569</td><td>92.5611</td><td>-10.4459</td><td>0.01</td><td>point</td><td>nan</td><td>nan</td><td>nan</td><td>nan</td><td>nan</td><td>nan</td><td></td><td>pl</td><td>5.8e-10</td><td>7e-11</td><td>nan</td><td>3.6</td><td>0.4</td><td>nan</td><td>0.3</td><td>nan</td><td>nan</td><td>nan</td><td>nan</td><td>nan</td><td>nan</td><td>nan</td><td>nan</td><td>nan</td><td>nan</td><td>nan</td><td>nan</td><td>nan</td><td>nan</td><td>nan</td><td>nan</td><td>nan</td><td>nan</td><td>0.2</td><td>0.6</td><td>nan</td><td>7.60439e-12</td><td>3.77544e-12</td><td>2.92477e-12</td><td>1.89172e-12</td><td>14.099</td><td>9.11919</td><td>7.42346e-12</td><td>5.33059e-12</td><td>2013ApJ...762...92A</td><td>5</td><td>0</td><td>0.224 .. nan</td><td>nan .. nan</td><td>nan .. nan</td><td>1.68999e-09 .. nan</td><td>nan .. nan</td><td>2.94e-10 .. nan</td><td>2.94e-10 .. nan</td><td>nan .. nan</td></tr>\n",
       "<tr><td>149</td><td>SNR G106.3+02.7</td><td>VER J2227+608</td><td></td><td>PSR J2229+6114</td><td>gal</td><td>pwn,snr</td><td>veritas</td><td>veritas</td><td>2009-07</td><td>174</td><td>gFx3Z7</td><td>TeV J2227+608</td><td>149</td><td>TeV J2227+6052</td><td>2009ApJ...703L...6A</td><td>7.3</td><td>33.4</td><td>336.88</td><td>60.83</td><td>106.274</td><td>2.70113</td><td>336.996</td><td>60.8769</td><td>106.346</td><td>2.71166</td><td>0.052915</td><td>gauss</td><td>0.27</td><td>0.05</td><td>0.18</td><td>0.03</td><td>22.0</td><td>nan</td><td>radec</td><td>pl</td><td>1.15e-13</td><td>2.7e-14</td><td>3.5e-14</td><td>2.29</td><td>0.33</td><td>0.3</td><td>3.0</td><td>nan</td><td>nan</td><td>nan</td><td>nan</td><td>nan</td><td>nan</td><td>nan</td><td>nan</td><td>nan</td><td>nan</td><td>nan</td><td>nan</td><td>nan</td><td>nan</td><td>nan</td><td>nan</td><td>nan</td><td>nan</td><td>0.9</td><td>14.0</td><td>0.32</td><td>1.42333e-12</td><td>6.14772e-13</td><td>1.10336e-12</td><td>2.84559e-13</td><td>5.31881</td><td>1.37173</td><td>3.83063e-12</td><td>9.04284e-13</td><td>2009ApJ...703L...6A</td><td>5</td><td>0</td><td>0.997 .. nan</td><td>nan .. nan</td><td>nan .. nan</td><td>1.57e-12 .. nan</td><td>7.93e-13 .. nan</td><td>nan .. nan</td><td>nan .. nan</td><td>nan .. nan</td></tr>\n",
       "<tr><td>150</td><td>Boomerang PWN</td><td>MGRO C4,MGRO J2228+61,0FGL J2229.0+6114</td><td></td><td>SNR G106.6+2.9,PSR J2229+6114</td><td>gal</td><td>pwn,snr</td><td>milagro</td><td>milagro</td><td>2009-04</td><td>182</td><td>qsRoN6</td><td>TeV J2228+611</td><td>150</td><td>TeV J2228+6110</td><td></td><td>nan</td><td>nan</td><td>337.25</td><td>61.2</td><td>106.62</td><td>2.92346</td><td>nan</td><td>nan</td><td>nan</td><td>nan</td><td>nan</td><td>none</td><td>nan</td><td>nan</td><td>nan</td><td>nan</td><td>nan</td><td>nan</td><td></td><td>none</td><td>nan</td><td>nan</td><td>nan</td><td>nan</td><td>nan</td><td>nan</td><td>nan</td><td>nan</td><td>nan</td><td>nan</td><td>nan</td><td>nan</td><td>nan</td><td>nan</td><td>nan</td><td>nan</td><td>nan</td><td>nan</td><td>nan</td><td>nan</td><td>nan</td><td>nan</td><td>nan</td><td>nan</td><td>nan</td><td>nan</td><td>nan</td><td>nan</td><td>nan</td><td>nan</td><td>nan</td><td>nan</td><td>nan</td><td>nan</td><td>nan</td><td>nan</td><td></td><td>0</td><td>0</td><td>nan .. nan</td><td>nan .. nan</td><td>nan .. nan</td><td>nan .. nan</td><td>nan .. nan</td><td>nan .. nan</td><td>nan .. nan</td><td>nan .. nan</td></tr>\n",
       "<tr><td>151</td><td>RGB J2243+203</td><td></td><td></td><td></td><td>egal</td><td>ibl</td><td>veritas</td><td>veritas</td><td>2014-12</td><td>257</td><td>7IL8zC</td><td>TeV J2243+203</td><td>151</td><td>TeV J2243+2021</td><td></td><td>nan</td><td>nan</td><td>340.978</td><td>20.351</td><td>86.5675</td><td>-33.3654</td><td>nan</td><td>nan</td><td>nan</td><td>nan</td><td>nan</td><td>none</td><td>nan</td><td>nan</td><td>nan</td><td>nan</td><td>nan</td><td>nan</td><td></td><td>none</td><td>nan</td><td>nan</td><td>nan</td><td>nan</td><td>nan</td><td>nan</td><td>nan</td><td>nan</td><td>nan</td><td>nan</td><td>nan</td><td>nan</td><td>nan</td><td>nan</td><td>nan</td><td>nan</td><td>nan</td><td>nan</td><td>nan</td><td>nan</td><td>nan</td><td>nan</td><td>nan</td><td>nan</td><td>nan</td><td>nan</td><td>nan</td><td>nan</td><td>nan</td><td>nan</td><td>nan</td><td>nan</td><td>nan</td><td>nan</td><td>nan</td><td>nan</td><td></td><td>0</td><td>0</td><td>nan .. nan</td><td>nan .. nan</td><td>nan .. nan</td><td>nan .. nan</td><td>nan .. nan</td><td>nan .. nan</td><td>nan .. nan</td><td>nan .. nan</td></tr>\n",
       "<tr><td>152</td><td>B3 2247+381</td><td></td><td></td><td></td><td>egal</td><td>hbl</td><td>magic</td><td>magic</td><td>2010-10</td><td>211</td><td>WCU2Cw</td><td>TeV J2250+384</td><td>152</td><td>TeV J2250+3824</td><td></td><td>nan</td><td>nan</td><td>342.524</td><td>38.4103</td><td>98.2542</td><td>-18.5781</td><td>nan</td><td>nan</td><td>nan</td><td>nan</td><td>nan</td><td>none</td><td>nan</td><td>nan</td><td>nan</td><td>nan</td><td>nan</td><td>nan</td><td></td><td>none</td><td>nan</td><td>nan</td><td>nan</td><td>nan</td><td>nan</td><td>nan</td><td>nan</td><td>nan</td><td>nan</td><td>nan</td><td>nan</td><td>nan</td><td>nan</td><td>nan</td><td>nan</td><td>nan</td><td>nan</td><td>nan</td><td>nan</td><td>nan</td><td>nan</td><td>nan</td><td>nan</td><td>nan</td><td>nan</td><td>nan</td><td>nan</td><td>nan</td><td>nan</td><td>nan</td><td>nan</td><td>nan</td><td>nan</td><td>nan</td><td>nan</td><td>nan</td><td>2012A&amp;A...539A.118A</td><td>4</td><td>0</td><td>0.166624 .. nan</td><td>nan .. nan</td><td>nan .. nan</td><td>9.66e-11 .. nan</td><td>nan .. nan</td><td>2.48001e-11 .. nan</td><td>2.48001e-11 .. nan</td><td>nan .. nan</td></tr>\n",
       "<tr><td>153</td><td>Cassiopeia A</td><td></td><td></td><td>Cas A,3C461,G111.7-2.1</td><td>gal</td><td>snr</td><td>hegra</td><td>hegra,magic,veritas</td><td>2001-04</td><td>82</td><td>3dz45u</td><td>TeV J2323+588</td><td>153</td><td>TeV J2323+5848</td><td>2010ApJ...714..163A</td><td>8.3</td><td>22.0</td><td>350.85</td><td>58.815</td><td>111.735</td><td>-2.12957</td><td>350.825</td><td>58.8025</td><td>111.718</td><td>-2.13703</td><td>0.022</td><td>point</td><td>nan</td><td>nan</td><td>nan</td><td>nan</td><td>nan</td><td>nan</td><td></td><td>pl</td><td>1.26e-12</td><td>1.8e-13</td><td>nan</td><td>2.61</td><td>0.24</td><td>0.2</td><td>1.0</td><td>nan</td><td>nan</td><td>nan</td><td>nan</td><td>nan</td><td>nan</td><td>nan</td><td>nan</td><td>nan</td><td>nan</td><td>nan</td><td>nan</td><td>nan</td><td>nan</td><td>nan</td><td>nan</td><td>nan</td><td>nan</td><td>0.3</td><td>5.0</td><td>nan</td><td>1.26e-12</td><td>1.8e-13</td><td>7.82609e-13</td><td>1.61585e-13</td><td>3.77262</td><td>0.77893</td><td>2.49705e-12</td><td>6.41786e-13</td><td>2010ApJ...714..163A</td><td>6</td><td>0</td><td>0.498 .. nan</td><td>nan .. nan</td><td>nan .. nan</td><td>8.96e-12 .. nan</td><td>2.26e-12 .. nan</td><td>nan .. nan</td><td>nan .. nan</td><td>nan .. nan</td></tr>\n",
       "<tr><td>154</td><td>1ES 2344+514</td><td></td><td></td><td></td><td>egal</td><td>hbl</td><td>whipple</td><td>whipple,hegra,magic,veritas</td><td>1998-07</td><td>77</td><td>FcTRDg</td><td>TeV J2347+517</td><td>154</td><td>TeV J2346+5142</td><td></td><td>nan</td><td>nan</td><td>356.77</td><td>51.705</td><td>112.891</td><td>-9.90775</td><td>nan</td><td>nan</td><td>nan</td><td>nan</td><td>nan</td><td>none</td><td>nan</td><td>nan</td><td>nan</td><td>nan</td><td>nan</td><td>nan</td><td></td><td>none</td><td>nan</td><td>nan</td><td>nan</td><td>nan</td><td>nan</td><td>nan</td><td>nan</td><td>nan</td><td>nan</td><td>nan</td><td>nan</td><td>nan</td><td>nan</td><td>nan</td><td>nan</td><td>nan</td><td>nan</td><td>nan</td><td>nan</td><td>nan</td><td>nan</td><td>nan</td><td>nan</td><td>nan</td><td>nan</td><td>nan</td><td>nan</td><td>nan</td><td>nan</td><td>nan</td><td>nan</td><td>nan</td><td>nan</td><td>nan</td><td>nan</td><td>nan</td><td>2011ApJ...738..169A</td><td>5</td><td>0</td><td>0.486098 .. nan</td><td>nan .. nan</td><td>nan .. nan</td><td>1.07001e-10 .. nan</td><td>nan .. nan</td><td>1.85001e-11 .. nan</td><td>1.85001e-11 .. nan</td><td>nan .. nan</td></tr>\n",
       "<tr><td>155</td><td>H 2356-309</td><td>HESS J2359-306</td><td></td><td>1H 2354-315</td><td>egal</td><td>hbl</td><td>hess</td><td>hess</td><td>2006-04</td><td>101</td><td>VIbvxm</td><td>TeV J2359-306</td><td>155</td><td>TeV J2359-3037</td><td></td><td>nan</td><td>nan</td><td>359.783</td><td>-30.628</td><td>12.8391</td><td>-78.0355</td><td>nan</td><td>nan</td><td>nan</td><td>nan</td><td>nan</td><td>none</td><td>nan</td><td>nan</td><td>nan</td><td>nan</td><td>nan</td><td>nan</td><td></td><td>none</td><td>nan</td><td>nan</td><td>nan</td><td>nan</td><td>nan</td><td>nan</td><td>nan</td><td>nan</td><td>nan</td><td>nan</td><td>nan</td><td>nan</td><td>nan</td><td>nan</td><td>nan</td><td>nan</td><td>nan</td><td>nan</td><td>nan</td><td>nan</td><td>nan</td><td>nan</td><td>nan</td><td>nan</td><td>nan</td><td>nan</td><td>nan</td><td>nan</td><td>nan</td><td>nan</td><td>nan</td><td>nan</td><td>nan</td><td>nan</td><td>nan</td><td>nan</td><td>2010A&amp;A...516A..56H</td><td>4</td><td>0</td><td>0.253205 .. nan</td><td>nan .. nan</td><td>nan .. nan</td><td>1.7806e-11 .. nan</td><td>nan .. nan</td><td>9.2845e-12 .. nan</td><td>9.2845e-12 .. nan</td><td>nan .. nan</td></tr>\n",
       "</table>"
      ],
      "text/plain": [
       "<Table length=166>\n",
       "source_id      common_name      ... sed_dnde_errn [40] sed_dnde_ul [40]\n",
       "                                ...  1 / (cm2 s TeV)   1 / (cm2 s TeV) \n",
       "  int32           str21         ...      float32           float32     \n",
       "--------- --------------------- ... ------------------ ----------------\n",
       "        1                 CTA 1 ...         nan .. nan       nan .. nan\n",
       "        2 SHBL J001355.9-185406 ... 4.16499e-13 .. nan       nan .. nan\n",
       "        3             Tycho SNR ...         nan .. nan       nan .. nan\n",
       "        4        KUV 00311-1938 ...         nan .. nan       nan .. nan\n",
       "        5          1ES 0033+595 ...         nan .. nan       nan .. nan\n",
       "        6               NGC 253 ...         nan .. nan       nan .. nan\n",
       "        7         RGB J0136+391 ...         nan .. nan       nan .. nan\n",
       "        8         RGB J0152+017 ...   6.674e-12 .. nan       nan .. nan\n",
       "        9                 3C 58 ...         nan .. nan       nan .. nan\n",
       "      ...                   ... ...                ...              ...\n",
       "      146        TeV J2032+4130 ...         nan .. nan       nan .. nan\n",
       "      147          PKS 2155-304 ...     1.3e-11 .. nan       nan .. nan\n",
       "      148           BL Lacertae ...    2.94e-10 .. nan       nan .. nan\n",
       "      149       SNR G106.3+02.7 ...         nan .. nan       nan .. nan\n",
       "      150         Boomerang PWN ...         nan .. nan       nan .. nan\n",
       "      151         RGB J2243+203 ...         nan .. nan       nan .. nan\n",
       "      152           B3 2247+381 ... 2.48001e-11 .. nan       nan .. nan\n",
       "      153          Cassiopeia A ...         nan .. nan       nan .. nan\n",
       "      154          1ES 2344+514 ... 1.85001e-11 .. nan       nan .. nan\n",
       "      155            H 2356-309 ...  9.2845e-12 .. nan       nan .. nan"
      ]
     },
     "execution_count": 13,
     "metadata": {},
     "output_type": "execute_result"
    }
   ],
   "source": [
    "cat.table"
   ]
  },
  {
   "cell_type": "code",
   "execution_count": 14,
   "metadata": {
    "collapsed": true
   },
   "outputs": [],
   "source": [
    "exclusion_table = cat.table.copy()\n",
    "exclusion_table.rename_column('ra', 'RA')    # needs column RA\n",
    "exclusion_table.rename_column('dec', 'DEC')  # needs column DEC\n",
    "radius = exclusion_table['morph_sigma'].data\n",
    "radius[np.isnan(radius)] = 0.3\n",
    "exclusion_table['Radius'] = radius * u.deg   # needs column Radius\n",
    "exclusion_table = Table(exclusion_table)"
   ]
  },
  {
   "cell_type": "code",
   "execution_count": 15,
   "metadata": {},
   "outputs": [
    {
     "data": {
      "text/html": [
       "&lt;Table length=48&gt;\n",
       "<table id=\"table4566939576\" class=\"table-striped table-bordered table-condensed\">\n",
       "<thead><tr><th>source_id</th><th>common_name</th><th>gamma_names</th><th>fermi_names</th><th>other_names</th><th>where</th><th>classes</th><th>discoverer</th><th>seen_by</th><th>discovery_date</th><th>tevcat_id</th><th>tevcat2_id</th><th>tevcat_name</th><th>tgevcat_id</th><th>tgevcat_name</th><th>reference_id</th><th>significance</th><th>livetime</th><th>RA</th><th>DEC</th><th>glon</th><th>glat</th><th>pos_ra</th><th>pos_dec</th><th>pos_glon</th><th>pos_glat</th><th>pos_err</th><th>morph_type</th><th>morph_sigma</th><th>morph_sigma_err</th><th>morph_sigma2</th><th>morph_sigma2_err</th><th>morph_pa</th><th>morph_pa_err</th><th>morph_pa_frame</th><th>spec_type</th><th>spec_pl_norm</th><th>spec_pl_norm_err</th><th>spec_pl_norm_err_sys</th><th>spec_pl_index</th><th>spec_pl_index_err</th><th>spec_pl_index_err_sys</th><th>spec_pl_e_ref</th><th>spec_pl2_flux</th><th>spec_pl2_flux_err</th><th>spec_pl2_flux_err_sys</th><th>spec_pl2_index</th><th>spec_pl2_index_err</th><th>spec_pl2_index_err_sys</th><th>spec_pl2_e_min</th><th>spec_pl2_e_max</th><th>spec_ecpl_norm</th><th>spec_ecpl_norm_err</th><th>spec_ecpl_norm_err_sys</th><th>spec_ecpl_index</th><th>spec_ecpl_index_err</th><th>spec_ecpl_index_err_sys</th><th>spec_ecpl_e_cut</th><th>spec_ecpl_e_cut_err</th><th>spec_ecpl_e_cut_err_sys</th><th>spec_ecpl_e_ref</th><th>spec_erange_min</th><th>spec_erange_max</th><th>spec_theta</th><th>spec_dnde_1TeV</th><th>spec_dnde_1TeV_err</th><th>spec_flux_1TeV</th><th>spec_flux_1TeV_err</th><th>spec_flux_1TeV_crab</th><th>spec_flux_1TeV_crab_err</th><th>spec_eflux_1TeV_10TeV</th><th>spec_eflux_1TeV_10TeV_err</th><th>sed_reference_id</th><th>sed_n_points</th><th>sed_n_ul</th><th>sed_e_ref [40]</th><th>sed_e_min [40]</th><th>sed_e_max [40]</th><th>sed_dnde [40]</th><th>sed_dnde_err [40]</th><th>sed_dnde_errp [40]</th><th>sed_dnde_errn [40]</th><th>sed_dnde_ul [40]</th><th>Radius</th></tr></thead>\n",
       "<thead><tr><th></th><th></th><th></th><th></th><th></th><th></th><th></th><th></th><th></th><th></th><th></th><th></th><th></th><th></th><th></th><th></th><th></th><th>h</th><th>deg</th><th>deg</th><th>deg</th><th>deg</th><th>deg</th><th>deg</th><th>deg</th><th>deg</th><th>deg</th><th></th><th>deg</th><th>deg</th><th>deg</th><th>deg</th><th>deg</th><th>deg</th><th></th><th></th><th>1 / (cm2 s TeV)</th><th>1 / (cm2 s TeV)</th><th>1 / (cm2 s TeV)</th><th></th><th></th><th></th><th>TeV</th><th>1 / (cm2 s)</th><th>1 / (cm2 s)</th><th>1 / (cm2 s)</th><th></th><th></th><th></th><th>TeV</th><th>TeV</th><th>1 / (cm2 s TeV)</th><th>1 / (cm2 s TeV)</th><th>1 / (cm2 s TeV)</th><th></th><th></th><th></th><th>TeV</th><th>TeV</th><th>TeV</th><th>TeV</th><th>TeV</th><th>TeV</th><th>deg</th><th>1 / (cm2 s TeV)</th><th>1 / (cm2 s TeV)</th><th>1 / (cm2 s)</th><th>1 / (cm2 s)</th><th></th><th></th><th>erg / (cm2 s)</th><th>erg / (cm2 s)</th><th></th><th></th><th></th><th>TeV</th><th>TeV</th><th>TeV</th><th>1 / (cm2 s TeV)</th><th>1 / (cm2 s TeV)</th><th>1 / (cm2 s TeV)</th><th>1 / (cm2 s TeV)</th><th>1 / (cm2 s TeV)</th><th>deg</th></tr></thead>\n",
       "<thead><tr><th>int32</th><th>str21</th><th>str76</th><th>str72</th><th>str73</th><th>str4</th><th>str11</th><th>str8</th><th>str37</th><th>str7</th><th>int64</th><th>str6</th><th>str14</th><th>int64</th><th>str14</th><th>str19</th><th>float32</th><th>float32</th><th>float32</th><th>float32</th><th>float32</th><th>float32</th><th>float32</th><th>float32</th><th>float32</th><th>float32</th><th>float32</th><th>str5</th><th>float32</th><th>float32</th><th>float32</th><th>float32</th><th>float32</th><th>float32</th><th>str8</th><th>str4</th><th>float32</th><th>float32</th><th>float32</th><th>float32</th><th>float32</th><th>float32</th><th>float32</th><th>float32</th><th>float32</th><th>float32</th><th>float32</th><th>float32</th><th>float32</th><th>float32</th><th>float32</th><th>float32</th><th>float32</th><th>float32</th><th>float32</th><th>float32</th><th>float32</th><th>float32</th><th>float32</th><th>float32</th><th>float32</th><th>float32</th><th>float32</th><th>float32</th><th>float32</th><th>float32</th><th>float32</th><th>float32</th><th>float32</th><th>float32</th><th>float32</th><th>float32</th><th>str19</th><th>int32</th><th>int32</th><th>float32</th><th>float32</th><th>float32</th><th>float32</th><th>float32</th><th>float32</th><th>float32</th><th>float32</th><th>float32</th></tr></thead>\n",
       "<tr><td>29</td><td>IC 443</td><td>MAGIC 0616+223,VER J0616+223</td><td></td><td>3C 157,SNR 189.1+03.0</td><td>gal</td><td>snr</td><td>magic</td><td>magic,veritas,milagro</td><td>2007-05</td><td>120</td><td>9xMcgD</td><td>TeV J0616+225</td><td>29</td><td>TeV J0616+2230</td><td>2009ApJ...698L.133A</td><td>8.3</td><td>37.9</td><td>94.5113</td><td>22.66</td><td>189.065</td><td>3.23499</td><td>94.2125</td><td>22.5031</td><td>189.073</td><td>2.91772</td><td>0.03</td><td>gauss</td><td>0.16</td><td>0.03</td><td>nan</td><td>nan</td><td>nan</td><td>nan</td><td></td><td>pl</td><td>8.38e-13</td><td>2.1e-13</td><td>2.5e-13</td><td>2.99</td><td>0.38</td><td>0.3</td><td>1.0</td><td>nan</td><td>nan</td><td>nan</td><td>nan</td><td>nan</td><td>nan</td><td>nan</td><td>nan</td><td>nan</td><td>nan</td><td>nan</td><td>nan</td><td>nan</td><td>nan</td><td>nan</td><td>nan</td><td>nan</td><td>nan</td><td>0.317</td><td>2.0</td><td>0.235</td><td>8.38e-13</td><td>2.1e-13</td><td>4.21106e-13</td><td>1.32673e-13</td><td>2.02997</td><td>0.639561</td><td>1.21741e-12</td><td>4.61186e-13</td><td>2009ApJ...698L.133A</td><td>5</td><td>0</td><td>0.358 .. nan</td><td>nan .. nan</td><td>nan .. nan</td><td>1.64e-11 .. nan</td><td>6.27e-12 .. nan</td><td>nan .. nan</td><td>nan .. nan</td><td>nan .. nan</td><td>0.16</td></tr>\n",
       "<tr><td>44</td><td>HESS J1018-589 B</td><td>HESS J1018-589 B</td><td></td><td>PSR J1016-5857</td><td>gal</td><td>pwn</td><td>hess</td><td>hess</td><td>2010-08</td><td>260</td><td>QhYho8</td><td>TeV J1016-589</td><td>44</td><td>TeV J1016-5858</td><td>2012A&amp;A...541A...5H</td><td>8.5</td><td>nan</td><td>154.088</td><td>-58.9534</td><td>284.079</td><td>-1.87988</td><td>154.129</td><td>-58.98</td><td>284.112</td><td>-1.89021</td><td>0.05</td><td>gauss</td><td>0.15</td><td>0.03</td><td>nan</td><td>nan</td><td>nan</td><td>nan</td><td></td><td>pl</td><td>4.2e-13</td><td>1.1e-13</td><td>8e-14</td><td>2.9</td><td>0.4</td><td>0.2</td><td>1.0</td><td>nan</td><td>nan</td><td>nan</td><td>nan</td><td>nan</td><td>nan</td><td>nan</td><td>nan</td><td>nan</td><td>nan</td><td>nan</td><td>nan</td><td>nan</td><td>nan</td><td>nan</td><td>nan</td><td>nan</td><td>nan</td><td>0.6</td><td>nan</td><td>0.3</td><td>4.2e-13</td><td>1.1e-13</td><td>2.21053e-13</td><td>7.42801e-14</td><td>1.0656</td><td>0.358072</td><td>6.53555e-13</td><td>2.66125e-13</td><td></td><td>0</td><td>0</td><td>nan .. nan</td><td>nan .. nan</td><td>nan .. nan</td><td>nan .. nan</td><td>nan .. nan</td><td>nan .. nan</td><td>nan .. nan</td><td>nan .. nan</td><td>0.15</td></tr>\n",
       "<tr><td>46</td><td>Westerlund 2</td><td>HESS J1023-575</td><td></td><td>RCW 49,WR20a,PSR J1022-5746</td><td>gal</td><td>unid</td><td>hess</td><td>hess</td><td>2007-06</td><td>132</td><td>nvPEhx</td><td>TeV J1023-577</td><td>46</td><td>TeV J1023-5747</td><td>2011A&amp;A...525A..46H</td><td>16.0</td><td>45.9</td><td>155.75</td><td>-57.5</td><td>284.016</td><td>-0.184706</td><td>155.85</td><td>-57.79</td><td>284.217</td><td>-0.40076</td><td>0.0244949</td><td>gauss</td><td>0.18</td><td>0.02</td><td>nan</td><td>nan</td><td>nan</td><td>nan</td><td></td><td>pl</td><td>3.25e-12</td><td>5e-13</td><td>6.5e-13</td><td>2.58</td><td>0.19</td><td>0.2</td><td>1.0</td><td>nan</td><td>nan</td><td>nan</td><td>nan</td><td>nan</td><td>nan</td><td>nan</td><td>nan</td><td>nan</td><td>nan</td><td>nan</td><td>nan</td><td>nan</td><td>nan</td><td>nan</td><td>nan</td><td>nan</td><td>nan</td><td>0.8</td><td>nan</td><td>0.33</td><td>3.25e-12</td><td>5e-13</td><td>2.05696e-12</td><td>4.01658e-13</td><td>9.91573</td><td>1.93622</td><td>6.61633e-12</td><td>1.52409e-12</td><td>2011A&amp;A...525A..46H</td><td>7</td><td>0</td><td>0.7948 .. nan</td><td>nan .. nan</td><td>nan .. nan</td><td>5.59013e-12 .. nan</td><td>nan .. nan</td><td>1.58482e-12 .. nan</td><td>1.5848e-12 .. nan</td><td>nan .. nan</td><td>0.18</td></tr>\n",
       "<tr><td>47</td><td>HESS J1026-582</td><td>HESS J1026-582</td><td></td><td>PSR J1028-5819</td><td>gal</td><td>pwn</td><td>hess</td><td>hess</td><td>2011-01</td><td>220</td><td>UwjiUu</td><td>TeV J1026-582</td><td>47</td><td>TeV J1026-5812</td><td>2011A&amp;A...525A..46H</td><td>7.0</td><td>45.9</td><td>157.166</td><td>-58.2919</td><td>285.073</td><td>-0.459735</td><td>156.66</td><td>-58.2</td><td>284.798</td><td>-0.520425</td><td>0.0519615</td><td>gauss</td><td>0.14</td><td>0.03</td><td>nan</td><td>nan</td><td>nan</td><td>nan</td><td></td><td>pl</td><td>9.9e-13</td><td>3.4e-13</td><td>2e-13</td><td>1.94</td><td>0.2</td><td>0.2</td><td>1.0</td><td>nan</td><td>nan</td><td>nan</td><td>nan</td><td>nan</td><td>nan</td><td>nan</td><td>nan</td><td>nan</td><td>nan</td><td>nan</td><td>nan</td><td>nan</td><td>nan</td><td>nan</td><td>nan</td><td>nan</td><td>nan</td><td>0.8</td><td>nan</td><td>0.33</td><td>9.9e-13</td><td>3.4e-13</td><td>1.05319e-12</td><td>4.25486e-13</td><td>5.07697</td><td>2.05108</td><td>3.91658e-12</td><td>1.63108e-12</td><td>2011A&amp;A...525A..46H</td><td>6</td><td>0</td><td>1.2687 .. nan</td><td>nan .. nan</td><td>nan .. nan</td><td>4.97531e-13 .. nan</td><td>nan .. nan</td><td>3.03601e-13 .. nan</td><td>2.93908e-13 .. nan</td><td>nan .. nan</td><td>0.14</td></tr>\n",
       "<tr><td>61</td><td>HESS J1303-631</td><td></td><td></td><td></td><td>gal</td><td>pwn</td><td>hess</td><td>hess</td><td>2005-09</td><td>94</td><td>4au9RH</td><td>TeV J1303-631</td><td>61</td><td>TeV J1302-6310</td><td>2012A&amp;A...548A..46H</td><td>33.0</td><td>nan</td><td>195.752</td><td>-63.1986</td><td>304.236</td><td>-0.35615</td><td>195.7</td><td>-63.1775</td><td>304.213</td><td>-0.334023</td><td>0.00912871</td><td>gauss</td><td>0.194</td><td>0.008</td><td>0.145</td><td>0.006</td><td>147.0</td><td>6.0</td><td>radec</td><td>ecpl</td><td>nan</td><td>nan</td><td>nan</td><td>nan</td><td>nan</td><td>nan</td><td>nan</td><td>nan</td><td>nan</td><td>nan</td><td>nan</td><td>nan</td><td>nan</td><td>nan</td><td>nan</td><td>5.6e-12</td><td>5e-13</td><td>1.1e-12</td><td>1.5</td><td>0.2</td><td>0.2</td><td>7.7</td><td>2.2</td><td>nan</td><td>1.0</td><td>0.84</td><td>nan</td><td>0.6</td><td>4.91797e-12</td><td>4.75514e-13</td><td>5.46979e-12</td><td>1.22128e-12</td><td>26.3675</td><td>5.88728</td><td>2.22076e-11</td><td>6.40574e-12</td><td>2012A&amp;A...548A..46H</td><td>11</td><td>0</td><td>0.88 .. nan</td><td>nan .. nan</td><td>nan .. nan</td><td>4.25e-12 .. nan</td><td>nan .. nan</td><td>1.09e-12 .. nan</td><td>1.09e-12 .. nan</td><td>nan .. nan</td><td>0.194</td></tr>\n",
       "<tr><td>64</td><td>HESS J1356-645</td><td>HESS J1356-645</td><td></td><td>PSR J1357-6429</td><td>gal</td><td>pwn</td><td>hess</td><td>hess</td><td>2008-12</td><td>170</td><td>ms0x8h</td><td>TeV J1356-645</td><td>64</td><td>TeV J1356-6430</td><td>2011A&amp;A...533A.103H</td><td>10.0</td><td>10.0</td><td>209.0</td><td>-64.5</td><td>309.812</td><td>-2.49414</td><td>209.0</td><td>-64.5</td><td>309.812</td><td>-2.49414</td><td>0.0333333</td><td>gauss</td><td>0.2</td><td>0.02</td><td>nan</td><td>nan</td><td>nan</td><td>nan</td><td></td><td>pl</td><td>2.7e-12</td><td>9e-13</td><td>4e-13</td><td>2.2</td><td>0.2</td><td>0.2</td><td>1.0</td><td>nan</td><td>nan</td><td>nan</td><td>nan</td><td>nan</td><td>nan</td><td>nan</td><td>nan</td><td>nan</td><td>nan</td><td>nan</td><td>nan</td><td>nan</td><td>nan</td><td>nan</td><td>nan</td><td>nan</td><td>nan</td><td>1.0</td><td>20.0</td><td>nan</td><td>2.7e-12</td><td>9e-13</td><td>2.25e-12</td><td>8.38525e-13</td><td>10.8463</td><td>4.04217</td><td>7.98217e-12</td><td>3.15604e-12</td><td>2011A&amp;A...533A.103H</td><td>6</td><td>0</td><td>1.5 .. nan</td><td>nan .. nan</td><td>nan .. nan</td><td>1.3e-12 .. nan</td><td>4.23e-13 .. nan</td><td>nan .. nan</td><td>nan .. nan</td><td>nan .. nan</td><td>0.2</td></tr>\n",
       "<tr><td>65</td><td>HESS J1418-609</td><td>HESS J1418-609</td><td></td><td>Kookaburra</td><td>gal</td><td>pwn</td><td>hess</td><td>hess</td><td>2006-09</td><td>125</td><td>r1X1KA</td><td>TeV J1418-609</td><td>65</td><td>TeV J1418-6058</td><td>2006A&amp;A...456..245A</td><td>13.2</td><td>18.1</td><td>214.517</td><td>-60.9753</td><td>313.247</td><td>0.149624</td><td>214.517</td><td>-60.9753</td><td>313.247</td><td>0.149627</td><td>0.0168394</td><td>gauss</td><td>0.0816667</td><td>0.025</td><td>0.045</td><td>0.0116667</td><td>46.2</td><td>20.4</td><td>radec</td><td>pl</td><td>2.64e-12</td><td>2e-13</td><td>5.3e-13</td><td>2.22</td><td>0.08</td><td>0.1</td><td>1.0</td><td>nan</td><td>nan</td><td>nan</td><td>nan</td><td>nan</td><td>nan</td><td>nan</td><td>nan</td><td>nan</td><td>nan</td><td>nan</td><td>nan</td><td>nan</td><td>nan</td><td>nan</td><td>nan</td><td>nan</td><td>nan</td><td>0.3</td><td>nan</td><td>0.16</td><td>2.64e-12</td><td>2e-13</td><td>2.16393e-12</td><td>2.16816e-13</td><td>10.4314</td><td>1.04518</td><td>7.64124e-12</td><td>8.66392e-13</td><td>2006A&amp;A...456..245A</td><td>9</td><td>0</td><td>0.39 .. nan</td><td>nan .. nan</td><td>nan .. nan</td><td>3.14e-11 .. nan</td><td>nan .. nan</td><td>9e-12 .. nan</td><td>9.16e-12 .. nan</td><td>nan .. nan</td><td>0.0816667</td></tr>\n",
       "<tr><td>66</td><td>HESS J1420-607</td><td>HESS J1420-607</td><td></td><td>PSR J1420-6048</td><td>gal</td><td>pwn</td><td>hess</td><td>hess</td><td>2006-09</td><td>124</td><td>zUDsnw</td><td>TeV J1420-607</td><td>66</td><td>TeV J1420-6045</td><td>2006A&amp;A...456..245A</td><td>15.2</td><td>18.1</td><td>214.692</td><td>-60.9783</td><td>313.326</td><td>0.118774</td><td>215.038</td><td>-60.76</td><td>313.558</td><td>0.268442</td><td>0.0121716</td><td>gauss</td><td>0.055</td><td>0.00833333</td><td>nan</td><td>nan</td><td>nan</td><td>nan</td><td></td><td>pl</td><td>3.48e-12</td><td>2e-13</td><td>7e-13</td><td>2.17</td><td>0.06</td><td>0.1</td><td>1.0</td><td>nan</td><td>nan</td><td>nan</td><td>nan</td><td>nan</td><td>nan</td><td>nan</td><td>nan</td><td>nan</td><td>nan</td><td>nan</td><td>nan</td><td>nan</td><td>nan</td><td>nan</td><td>nan</td><td>nan</td><td>nan</td><td>0.3</td><td>nan</td><td>0.16</td><td>3.48e-12</td><td>2e-13</td><td>2.97436e-12</td><td>2.29099e-13</td><td>14.3381</td><td>1.10439</td><td>1.06237e-11</td><td>9.1843e-13</td><td>2006A&amp;A...456..245A</td><td>10</td><td>0</td><td>0.39 .. nan</td><td>nan .. nan</td><td>nan .. nan</td><td>2.63e-11 .. nan</td><td>nan .. nan</td><td>7.56e-12 .. nan</td><td>7.64e-12 .. nan</td><td>nan .. nan</td><td>0.055</td></tr>\n",
       "<tr><td>68</td><td>HESS J1427-608</td><td></td><td></td><td>Suzaku J1427-6051</td><td>gal</td><td>unid</td><td>hess</td><td>hess</td><td>2007-07</td><td>139</td><td>eee9un</td><td>TeV J1427-608</td><td>68</td><td>TeV J1427-6051</td><td>2008A&amp;A...477..353A</td><td>7.3</td><td>21.0</td><td>216.967</td><td>-60.85</td><td>314.408</td><td>-0.145001</td><td>216.969</td><td>-60.8495</td><td>314.409</td><td>-0.145</td><td>0.05</td><td>gauss</td><td>0.04</td><td>0.02</td><td>0.08</td><td>0.02</td><td>80.0</td><td>17.0</td><td>radec</td><td>pl</td><td>1.3e-12</td><td>4e-13</td><td>2e-13</td><td>2.16</td><td>0.14</td><td>0.2</td><td>1.0</td><td>nan</td><td>nan</td><td>nan</td><td>nan</td><td>nan</td><td>nan</td><td>nan</td><td>nan</td><td>nan</td><td>nan</td><td>nan</td><td>nan</td><td>nan</td><td>nan</td><td>nan</td><td>nan</td><td>nan</td><td>nan</td><td>0.97</td><td>50.0</td><td>0.2</td><td>1.3e-12</td><td>4e-13</td><td>1.12069e-12</td><td>3.70405e-13</td><td>5.40236</td><td>1.78556</td><td>4.01165e-12</td><td>1.37552e-12</td><td>2008A&amp;A...477..353A</td><td>8</td><td>0</td><td>1.24608 .. nan</td><td>nan .. nan</td><td>nan .. nan</td><td>5.30713e-13 .. nan</td><td>nan .. nan</td><td>3.47539e-13 .. nan</td><td>3.33893e-13 .. nan</td><td>nan .. nan</td><td>0.04</td></tr>\n",
       "<tr><td>...</td><td>...</td><td>...</td><td>...</td><td>...</td><td>...</td><td>...</td><td>...</td><td>...</td><td>...</td><td>...</td><td>...</td><td>...</td><td>...</td><td>...</td><td>...</td><td>...</td><td>...</td><td>...</td><td>...</td><td>...</td><td>...</td><td>...</td><td>...</td><td>...</td><td>...</td><td>...</td><td>...</td><td>...</td><td>...</td><td>...</td><td>...</td><td>...</td><td>...</td><td>...</td><td>...</td><td>...</td><td>...</td><td>...</td><td>...</td><td>...</td><td>...</td><td>...</td><td>...</td><td>...</td><td>...</td><td>...</td><td>...</td><td>...</td><td>...</td><td>...</td><td>...</td><td>...</td><td>...</td><td>...</td><td>...</td><td>...</td><td>...</td><td>...</td><td>...</td><td>...</td><td>...</td><td>...</td><td>...</td><td>...</td><td>...</td><td>...</td><td>...</td><td>...</td><td>...</td><td>...</td><td>...</td><td>...</td><td>...</td><td>...</td><td>...</td><td>...</td><td>...</td><td>...</td><td>...</td><td>...</td><td>...</td><td>...</td><td>...</td></tr>\n",
       "<tr><td>120</td><td>HESS J1831-098</td><td>HESS J1831-098</td><td></td><td>PSR J1831-952</td><td>gal</td><td>unid,pwn</td><td>hess</td><td>hess</td><td>2011-10</td><td>231</td><td>buLRDe</td><td>TeV J1831-099</td><td>120</td><td>TeV J1831-0954</td><td>2011ICRC....7..244S</td><td>7.9</td><td>40.0</td><td>277.85</td><td>-9.9</td><td>21.8484</td><td>-0.105417</td><td>277.854</td><td>-9.9</td><td>21.8503</td><td>-0.109056</td><td>nan</td><td>gauss</td><td>0.15</td><td>nan</td><td>nan</td><td>nan</td><td>nan</td><td>nan</td><td></td><td>pl</td><td>1.1e-12</td><td>1e-13</td><td>nan</td><td>2.1</td><td>0.1</td><td>nan</td><td>1.0</td><td>nan</td><td>nan</td><td>nan</td><td>nan</td><td>nan</td><td>nan</td><td>nan</td><td>nan</td><td>nan</td><td>nan</td><td>nan</td><td>nan</td><td>nan</td><td>nan</td><td>nan</td><td>nan</td><td>nan</td><td>nan</td><td>nan</td><td>nan</td><td>0.3</td><td>1.1e-12</td><td>1e-13</td><td>1e-12</td><td>1.28565e-13</td><td>4.82057</td><td>0.619755</td><td>3.62475e-12</td><td>5.19266e-13</td><td>2011ICRC....7..244S</td><td>9</td><td>0</td><td>0.3025 .. nan</td><td>0.2397 .. nan</td><td>0.4217 .. nan</td><td>6.94212e-12 .. nan</td><td>3.89341e-12 .. nan</td><td>nan .. nan</td><td>nan .. nan</td><td>nan .. nan</td><td>0.15</td></tr>\n",
       "<tr><td>123</td><td>HESS J1834-087</td><td>HESS J1834-087,1HWC J1836-090c</td><td></td><td>W41</td><td>gal</td><td>unid</td><td>hess</td><td>hess,magic,hawc</td><td>2005-03</td><td>116</td><td>4xiQfb</td><td>TeV J1834-087</td><td>123</td><td>TeV J1834-0845</td><td>2006ApJ...636..777A</td><td>8.1</td><td>7.3</td><td>278.716</td><td>-8.74394</td><td>23.2683</td><td>-0.329883</td><td>278.694</td><td>-8.76454</td><td>23.24</td><td>-0.32</td><td>0.02</td><td>gauss</td><td>0.09</td><td>0.02</td><td>nan</td><td>nan</td><td>nan</td><td>nan</td><td></td><td>pl2</td><td>nan</td><td>nan</td><td>nan</td><td>nan</td><td>nan</td><td>nan</td><td>nan</td><td>1.87e-11</td><td>1e-12</td><td>3e-13</td><td>2.45</td><td>0.16</td><td>0.2</td><td>0.2</td><td>nan</td><td>nan</td><td>nan</td><td>nan</td><td>nan</td><td>nan</td><td>nan</td><td>nan</td><td>nan</td><td>nan</td><td>nan</td><td>nan</td><td>nan</td><td>0.2</td><td>2.62847e-12</td><td>4.11566e-13</td><td>1.81274e-12</td><td>4.76757e-13</td><td>8.73843</td><td>2.29824</td><td>6.03791e-12</td><td>1.84061e-12</td><td>2006ApJ...636..777A</td><td>6</td><td>0</td><td>0.27063 .. nan</td><td>nan .. nan</td><td>nan .. nan</td><td>6.1041e-11 .. nan</td><td>nan .. nan</td><td>1.49205e-11 .. nan</td><td>1.45674e-11 .. nan</td><td>nan .. nan</td><td>0.09</td></tr>\n",
       "<tr><td>124</td><td>HESS J1837-069</td><td>HESS J1837-069,1HWC J1838-060,1HWC J1836-074c</td><td></td><td></td><td>gal</td><td>pwn</td><td>hess</td><td>hess,hawc</td><td>2005-03</td><td>117</td><td>giVWlK</td><td>TeV J1837-069</td><td>124</td><td>TeV J1837-0656</td><td>2006ApJ...636..777A</td><td>12.2</td><td>7.6</td><td>279.428</td><td>-6.9275</td><td>25.2057</td><td>-0.1212</td><td>279.405</td><td>-6.93895</td><td>25.185</td><td>-0.106</td><td>0.0138564</td><td>gauss</td><td>0.12</td><td>0.02</td><td>0.05</td><td>0.02</td><td>149.0</td><td>10.0</td><td>galactic</td><td>pl2</td><td>nan</td><td>nan</td><td>nan</td><td>nan</td><td>nan</td><td>nan</td><td>nan</td><td>3.04e-11</td><td>1.6e-12</td><td>3e-13</td><td>2.27</td><td>0.06</td><td>0.2</td><td>0.2</td><td>nan</td><td>nan</td><td>nan</td><td>nan</td><td>nan</td><td>nan</td><td>nan</td><td>nan</td><td>nan</td><td>nan</td><td>nan</td><td>nan</td><td>nan</td><td>0.23</td><td>5.00018e-12</td><td>3.60664e-13</td><td>3.93715e-12</td><td>4.32999e-13</td><td>18.9793</td><td>2.0873</td><td>1.37367e-11</td><td>1.69107e-12</td><td>2006ApJ...636..777A</td><td>12</td><td>0</td><td>0.222308 .. nan</td><td>nan .. nan</td><td>nan .. nan</td><td>2.82024e-10 .. nan</td><td>nan .. nan</td><td>1.54296e-10 .. nan</td><td>1.44221e-10 .. nan</td><td>nan .. nan</td><td>0.12</td></tr>\n",
       "<tr><td>130</td><td>HESS J1857+026</td><td>MAGIC J1857.2+0263,MAGIC J1857.6+0297,1HWC J1857+023</td><td></td><td></td><td>gal</td><td>unid</td><td>hess</td><td>hess,magic,hawc</td><td>2007-07</td><td>143</td><td>BDIaeo</td><td>TeV J1857+026</td><td>130</td><td>TeV J1857+0242</td><td>2008A&amp;A...477..353A</td><td>8.7</td><td>21.0</td><td>284.296</td><td>2.66667</td><td>35.96</td><td>-0.0612988</td><td>284.297</td><td>2.6798</td><td>35.972</td><td>-0.056</td><td>0.05</td><td>gauss</td><td>0.11</td><td>0.08</td><td>0.08</td><td>0.03</td><td>-3.0</td><td>49.0</td><td>radec</td><td>pl</td><td>6.1e-12</td><td>7e-13</td><td>2e-13</td><td>2.39</td><td>0.08</td><td>0.2</td><td>1.0</td><td>nan</td><td>nan</td><td>nan</td><td>nan</td><td>nan</td><td>nan</td><td>nan</td><td>nan</td><td>nan</td><td>nan</td><td>nan</td><td>nan</td><td>nan</td><td>nan</td><td>nan</td><td>nan</td><td>nan</td><td>nan</td><td>0.6</td><td>80.0</td><td>0.46</td><td>6.1e-12</td><td>7e-13</td><td>4.38849e-12</td><td>5.63386e-13</td><td>21.155</td><td>2.71584</td><td>1.48509e-11</td><td>2.06479e-12</td><td>2008A&amp;A...477..353A</td><td>8</td><td>0</td><td>0.822273 .. nan</td><td>nan .. nan</td><td>nan .. nan</td><td>8.3688e-12 .. nan</td><td>nan .. nan</td><td>2.05708e-12 .. nan</td><td>1.99903e-12 .. nan</td><td>nan .. nan</td><td>0.11</td></tr>\n",
       "<tr><td>131</td><td>HESS J1858+020</td><td>1HWC J1857+023</td><td></td><td>G35.6-0.4</td><td>gal</td><td>unid</td><td>hess</td><td>hess,hawc</td><td>2007-07</td><td>144</td><td>KxJfNI</td><td>TeV J1858+020</td><td>131</td><td>TeV J1858+0205</td><td>2008A&amp;A...477..353A</td><td>7.0</td><td>25.0</td><td>284.583</td><td>2.09</td><td>35.5781</td><td>-0.580171</td><td>284.584</td><td>2.08956</td><td>35.578</td><td>-0.581</td><td>0.05</td><td>gauss</td><td>0.08</td><td>0.02</td><td>0.02</td><td>0.04</td><td>4.0</td><td>17.0</td><td>radec</td><td>pl</td><td>6e-13</td><td>1e-13</td><td>2e-13</td><td>2.17</td><td>0.12</td><td>0.2</td><td>1.0</td><td>nan</td><td>nan</td><td>nan</td><td>nan</td><td>nan</td><td>nan</td><td>nan</td><td>nan</td><td>nan</td><td>nan</td><td>nan</td><td>nan</td><td>nan</td><td>nan</td><td>nan</td><td>nan</td><td>nan</td><td>nan</td><td>0.5</td><td>80.0</td><td>0.15</td><td>6e-13</td><td>1e-13</td><td>5.1282e-13</td><td>1.00357e-13</td><td>2.47209</td><td>0.483779</td><td>1.83167e-12</td><td>3.86223e-13</td><td>2008A&amp;A...477..353A</td><td>8</td><td>0</td><td>0.817632 .. nan</td><td>nan .. nan</td><td>nan .. nan</td><td>1.27006e-12 .. nan</td><td>nan .. nan</td><td>4.58488e-13 .. nan</td><td>4.28811e-13 .. nan</td><td>nan .. nan</td><td>0.08</td></tr>\n",
       "<tr><td>134</td><td>HESS J1912+101</td><td></td><td></td><td>PSR J1913+1011</td><td>gal</td><td>unid</td><td>hess</td><td>hess</td><td>2008-02</td><td>157</td><td>J26r5R</td><td>TeV J1912+101</td><td>134</td><td>TeV J1912+1009</td><td>2008A&amp;A...484..435A</td><td>7.5</td><td>20.8</td><td>288.335</td><td>10.1897</td><td>44.4846</td><td>-0.166885</td><td>288.204</td><td>10.1517</td><td>44.3913</td><td>-0.0706395</td><td>0.05</td><td>gauss</td><td>0.26</td><td>0.03</td><td>nan</td><td>nan</td><td>nan</td><td>nan</td><td></td><td>pl</td><td>3.5e-12</td><td>6e-13</td><td>1e-12</td><td>2.7</td><td>0.2</td><td>0.3</td><td>1.0</td><td>nan</td><td>nan</td><td>nan</td><td>nan</td><td>nan</td><td>nan</td><td>nan</td><td>nan</td><td>nan</td><td>nan</td><td>nan</td><td>nan</td><td>nan</td><td>nan</td><td>nan</td><td>nan</td><td>nan</td><td>nan</td><td>0.8</td><td>nan</td><td>0.5</td><td>3.5e-12</td><td>6e-13</td><td>2.05882e-12</td><td>4.2806e-13</td><td>9.9247</td><td>2.06349</td><td>6.4125e-12</td><td>1.55235e-12</td><td>2008A&amp;A...484..435A</td><td>4</td><td>1</td><td>0.872 .. nan</td><td>nan .. nan</td><td>nan .. nan</td><td>3.82e-12 .. nan</td><td>nan .. nan</td><td>1.21e-12 .. nan</td><td>1.18e-12 .. nan</td><td>nan .. nan</td><td>0.26</td></tr>\n",
       "<tr><td>135</td><td>W 51C</td><td>HESS J1923+141</td><td></td><td>SNR G49.2-0.7,0FGL J1923.0+1411</td><td>gal</td><td>snr,mc</td><td>hess</td><td>hess,magic,milagro</td><td>2008-10</td><td>178</td><td>ParXkE</td><td>TeV J1923+141</td><td>135</td><td>TeV J1922+1411</td><td>2012A&amp;A...541A..13A</td><td>11.4</td><td>50.0</td><td>290.818</td><td>14.145</td><td>49.1158</td><td>-0.461604</td><td>290.73</td><td>14.191</td><td>49.1161</td><td>-0.364672</td><td>0.015</td><td>gauss</td><td>0.12</td><td>0.02</td><td>nan</td><td>nan</td><td>nan</td><td>nan</td><td></td><td>pl</td><td>9.7e-13</td><td>1e-13</td><td>nan</td><td>2.58</td><td>0.07</td><td>0.22</td><td>1.0</td><td>nan</td><td>nan</td><td>nan</td><td>nan</td><td>nan</td><td>nan</td><td>nan</td><td>nan</td><td>nan</td><td>nan</td><td>nan</td><td>nan</td><td>nan</td><td>nan</td><td>nan</td><td>nan</td><td>nan</td><td>nan</td><td>0.075</td><td>nan</td><td>nan</td><td>9.7e-13</td><td>1e-13</td><td>6.13924e-13</td><td>6.8888e-14</td><td>2.95946</td><td>0.33208</td><td>1.97472e-12</td><td>2.38752e-13</td><td></td><td>0</td><td>0</td><td>nan .. nan</td><td>nan .. nan</td><td>nan .. nan</td><td>nan .. nan</td><td>nan .. nan</td><td>nan .. nan</td><td>nan .. nan</td><td>nan .. nan</td><td>0.12</td></tr>\n",
       "<tr><td>136</td><td>SNR G054.1+00.3</td><td>VER J1930+188</td><td></td><td>PSR J1930+1852</td><td>gal</td><td>pwn,snr</td><td>veritas</td><td>veritas</td><td>2009-07</td><td>193</td><td>F0Luol</td><td>TeV J1930+188</td><td>136</td><td>TeV J1930+1852</td><td>2010ApJ...719L..69A</td><td>7.0</td><td>36.6</td><td>292.629</td><td>18.867</td><td>54.0947</td><td>0.260453</td><td>292.633</td><td>18.87</td><td>54.0993</td><td>0.258463</td><td>0.0240563</td><td>gauss</td><td>0.055</td><td>0.00833333</td><td>nan</td><td>nan</td><td>nan</td><td>nan</td><td></td><td>pl</td><td>7.5e-13</td><td>1.2e-13</td><td>1.5e-13</td><td>2.39</td><td>0.23</td><td>0.3</td><td>1.0</td><td>nan</td><td>nan</td><td>nan</td><td>nan</td><td>nan</td><td>nan</td><td>nan</td><td>nan</td><td>nan</td><td>nan</td><td>nan</td><td>nan</td><td>nan</td><td>nan</td><td>nan</td><td>nan</td><td>nan</td><td>nan</td><td>0.25</td><td>4.0</td><td>0.15</td><td>7.5e-13</td><td>1.2e-13</td><td>5.39568e-13</td><td>1.24194e-13</td><td>2.60103</td><td>0.598686</td><td>1.82593e-12</td><td>5.05142e-13</td><td>2010ApJ...719L..69A</td><td>5</td><td>2</td><td>0.31071 .. nan</td><td>nan .. nan</td><td>nan .. nan</td><td>1.098e-11 .. nan</td><td>5.66021e-12 .. nan</td><td>nan .. nan</td><td>nan .. nan</td><td>nan .. nan</td><td>0.055</td></tr>\n",
       "<tr><td>144</td><td>Gamma Cygni</td><td>VER J2019+407</td><td></td><td>1FGL J2020.0+4049,SNR G78.2+2.1</td><td>gal</td><td>unid</td><td>veritas</td><td>veritas</td><td>2009-11</td><td>201</td><td>IWrXQp</td><td>TeV J2019+407</td><td>144</td><td>TeV J2020+4045</td><td>2013ApJ...770...93A</td><td>7.5</td><td>21.4</td><td>305.557</td><td>40.2567</td><td>78.1486</td><td>1.86709</td><td>305.017</td><td>40.76</td><td>78.3298</td><td>2.49107</td><td>0.03</td><td>gauss</td><td>0.23</td><td>0.03</td><td>nan</td><td>nan</td><td>nan</td><td>nan</td><td></td><td>pl</td><td>1.5e-12</td><td>2e-13</td><td>4e-13</td><td>2.37</td><td>0.14</td><td>0.2</td><td>1.0</td><td>nan</td><td>nan</td><td>nan</td><td>nan</td><td>nan</td><td>nan</td><td>nan</td><td>nan</td><td>nan</td><td>nan</td><td>nan</td><td>nan</td><td>nan</td><td>nan</td><td>nan</td><td>nan</td><td>nan</td><td>nan</td><td>0.32</td><td>10.0</td><td>0.24</td><td>1.5e-12</td><td>2e-13</td><td>1.09489e-12</td><td>1.8393e-13</td><td>5.278</td><td>0.886649</td><td>3.72454e-12</td><td>7.16222e-13</td><td>2013ApJ...770...93A</td><td>10</td><td>0</td><td>0.282 .. nan</td><td>0.224 .. nan</td><td>0.355 .. nan</td><td>3.70864e-11 .. nan</td><td>1.21458e-11 .. nan</td><td>nan .. nan</td><td>nan .. nan</td><td>nan .. nan</td><td>0.23</td></tr>\n",
       "<tr><td>149</td><td>SNR G106.3+02.7</td><td>VER J2227+608</td><td></td><td>PSR J2229+6114</td><td>gal</td><td>pwn,snr</td><td>veritas</td><td>veritas</td><td>2009-07</td><td>174</td><td>gFx3Z7</td><td>TeV J2227+608</td><td>149</td><td>TeV J2227+6052</td><td>2009ApJ...703L...6A</td><td>7.3</td><td>33.4</td><td>336.88</td><td>60.83</td><td>106.274</td><td>2.70113</td><td>336.996</td><td>60.8769</td><td>106.346</td><td>2.71166</td><td>0.052915</td><td>gauss</td><td>0.27</td><td>0.05</td><td>0.18</td><td>0.03</td><td>22.0</td><td>nan</td><td>radec</td><td>pl</td><td>1.15e-13</td><td>2.7e-14</td><td>3.5e-14</td><td>2.29</td><td>0.33</td><td>0.3</td><td>3.0</td><td>nan</td><td>nan</td><td>nan</td><td>nan</td><td>nan</td><td>nan</td><td>nan</td><td>nan</td><td>nan</td><td>nan</td><td>nan</td><td>nan</td><td>nan</td><td>nan</td><td>nan</td><td>nan</td><td>nan</td><td>nan</td><td>0.9</td><td>14.0</td><td>0.32</td><td>1.42333e-12</td><td>6.14772e-13</td><td>1.10336e-12</td><td>2.84559e-13</td><td>5.31881</td><td>1.37173</td><td>3.83063e-12</td><td>9.04284e-13</td><td>2009ApJ...703L...6A</td><td>5</td><td>0</td><td>0.997 .. nan</td><td>nan .. nan</td><td>nan .. nan</td><td>1.57e-12 .. nan</td><td>7.93e-13 .. nan</td><td>nan .. nan</td><td>nan .. nan</td><td>nan .. nan</td><td>0.27</td></tr>\n",
       "</table>"
      ],
      "text/plain": [
       "<Table length=48>\n",
       "source_id   common_name    ... sed_dnde_ul [40]   Radius \n",
       "                           ... 1 / (cm2 s TeV)     deg   \n",
       "  int32        str21       ...     float32       float32 \n",
       "--------- ---------------- ... ---------------- ---------\n",
       "       29           IC 443 ...       nan .. nan      0.16\n",
       "       44 HESS J1018-589 B ...       nan .. nan      0.15\n",
       "       46     Westerlund 2 ...       nan .. nan      0.18\n",
       "       47   HESS J1026-582 ...       nan .. nan      0.14\n",
       "       61   HESS J1303-631 ...       nan .. nan     0.194\n",
       "       64   HESS J1356-645 ...       nan .. nan       0.2\n",
       "       65   HESS J1418-609 ...       nan .. nan 0.0816667\n",
       "       66   HESS J1420-607 ...       nan .. nan     0.055\n",
       "       68   HESS J1427-608 ...       nan .. nan      0.04\n",
       "      ...              ... ...              ...       ...\n",
       "      120   HESS J1831-098 ...       nan .. nan      0.15\n",
       "      123   HESS J1834-087 ...       nan .. nan      0.09\n",
       "      124   HESS J1837-069 ...       nan .. nan      0.12\n",
       "      130   HESS J1857+026 ...       nan .. nan      0.11\n",
       "      131   HESS J1858+020 ...       nan .. nan      0.08\n",
       "      134   HESS J1912+101 ...       nan .. nan      0.26\n",
       "      135            W 51C ...       nan .. nan      0.12\n",
       "      136  SNR G054.1+00.3 ...       nan .. nan     0.055\n",
       "      144      Gamma Cygni ...       nan .. nan      0.23\n",
       "      149  SNR G106.3+02.7 ...       nan .. nan      0.27"
      ]
     },
     "execution_count": 15,
     "metadata": {},
     "output_type": "execute_result"
    }
   ],
   "source": [
    "exclusion_table[np.where(exclusion_table['Radius']<0.3)]"
   ]
  },
  {
   "cell_type": "markdown",
   "metadata": {},
   "source": [
    "### Run the OffDataBackgroundMaker\n",
    "\n",
    "Make the acceptance curves in the different group of observation conditions you defined above using the obs_table containaing the group id for each observation used to compute the bkg model"
   ]
  },
  {
   "cell_type": "code",
   "execution_count": 16,
   "metadata": {
    "collapsed": true
   },
   "outputs": [],
   "source": [
    "bgmaker = OffDataBackgroundMaker(\n",
    "    data_store=data_store,\n",
    "    outdir=str(scratch_dir),\n",
    "    run_list=None,\n",
    "    obs_table=obs_table_with_group_id,\n",
    "    ntot_group=obs_groups.n_groups,\n",
    "    excluded_sources=exclusion_table,  ## also needs a group_def.fits ?\n",
    ")"
   ]
  },
  {
   "cell_type": "code",
   "execution_count": 17,
   "metadata": {
    "collapsed": true
   },
   "outputs": [],
   "source": [
    "# Define the energy and offset binning to use\n",
    "ebounds = EnergyBounds.equal_log_spacing(0.1, 100, 15, 'TeV')\n",
    "offset = sqrt_space(start=0, stop=2.5, num=100) * u.deg ## !!!"
   ]
  },
  {
   "cell_type": "code",
   "execution_count": 18,
   "metadata": {
    "collapsed": true
   },
   "outputs": [],
   "source": [
    "# Make the model (i.e. stack counts and livetime)\n",
    "bgmaker.make_model(\"2D\", ebounds=ebounds, offset=offset)\n",
    "\n",
    "# Smooth the model\n",
    "bgmaker.smooth_models(\"2D\")\n",
    "\n",
    "# Write the model to disk\n",
    "bgmaker.save_models(\"2D\")   ## using outdir param\n",
    "bgmaker.save_models(modeltype=\"2D\", smooth=True)"
   ]
  },
  {
   "cell_type": "markdown",
   "metadata": {},
   "source": [
    "Congratulations, you have produced a background model.\n",
    "\n",
    "The following files were generated in our scratch directory:"
   ]
  },
  {
   "cell_type": "code",
   "execution_count": 19,
   "metadata": {},
   "outputs": [
    {
     "data": {
      "text/plain": [
       "['background_2D_group_000_table.fits.gz',\n",
       " 'background_2D_group_001_table.fits.gz',\n",
       " 'group-def.fits',\n",
       " 'smooth_background_2D_group_000_table.fits.gz',\n",
       " 'smooth_background_2D_group_001_table.fits.gz']"
      ]
     },
     "execution_count": 19,
     "metadata": {},
     "output_type": "execute_result"
    }
   ],
   "source": [
    "[path.name for path in scratch_dir.glob('*')]\n"
   ]
  },
  {
   "cell_type": "markdown",
   "metadata": {
    "collapsed": true
   },
   "source": [
    "## Inspect the background model\n",
    "\n",
    "Our template background model has two axes: offset and energy.\n",
    "\n",
    "Let's make a few plots to see what it looks like:\n",
    "1. Acceptance curve (background rate as a function of field of view offset for a given energy)\n",
    "1. Rate spectrum (background rate as a function of energy for a given offset)\n",
    "1. Rate image (background rate as a function of energy and offset)\n",
    "\n",
    "### Acceptance curve"
   ]
  },
  {
   "cell_type": "code",
   "execution_count": 20,
   "metadata": {
    "collapsed": true
   },
   "outputs": [],
   "source": [
    "# Read one of the background models from file\n",
    "filename = scratch_dir / 'smooth_background_2D_group_000_table.fits.gz'\n",
    "model = EnergyOffsetBackgroundModel.read(str(filename))"
   ]
  },
  {
   "cell_type": "code",
   "execution_count": 21,
   "metadata": {},
   "outputs": [
    {
     "data": {
      "text/plain": [
       "(<matplotlib.axes._subplots.AxesSubplot at 0x11d5f7f98>,\n",
       " <matplotlib.colorbar.Colorbar at 0x11d806550>)"
      ]
     },
     "execution_count": 21,
     "metadata": {},
     "output_type": "execute_result"
    },
    {
     "data": {
      "image/png": "[encoded data removed]",
      "text/plain": [
       "<matplotlib.figure.Figure at 0x117909978>"
      ]
     },
     "metadata": {},
     "output_type": "display_data"
    }
   ],
   "source": [
    "model.bg_rate.plot()"
   ]
  },
  {
   "cell_type": "code",
   "execution_count": 22,
   "metadata": {},
   "outputs": [
    {
     "data": {
      "text/plain": [
       "(<matplotlib.axes._subplots.AxesSubplot at 0x11db9af28>,\n",
       " <matplotlib.colorbar.Colorbar at 0x11dbc87b8>)"
      ]
     },
     "execution_count": 22,
     "metadata": {},
     "output_type": "execute_result"
    },
    {
     "data": {
      "image/png": "[encoded data removed]",
      "text/plain": [
       "<matplotlib.figure.Figure at 0x11dbacb00>"
      ]
     },
     "metadata": {},
     "output_type": "display_data"
    }
   ],
   "source": [
    "model.counts.plot()"
   ]
  },
  {
   "cell_type": "code",
   "execution_count": 23,
   "metadata": {
    "collapsed": true
   },
   "outputs": [],
   "source": [
    "offsets = model.bg_rate.offset_bin_center\n",
    "energies = model.bg_rate.energy  "
   ]
  },
  {
   "cell_type": "code",
   "execution_count": 24,
   "metadata": {},
   "outputs": [
    {
     "data": {
      "text/latex": [
       "$[0.1,~0.15848932,~0.25118864,~0.39810717,~0.63095734,~1,~1.5848932,~2.5118864,~3.9810717,~6.3095734,~10,~15.848932,~25.118864,~39.810717,~63.095734,~100] \\; \\mathrm{TeV}$"
      ],
      "text/plain": [
       "<EnergyBounds [   0.1       ,   0.15848932,   0.25118864,   0.39810717,\n",
       "                  0.63095734,   1.        ,   1.58489319,   2.51188643,\n",
       "                  3.98107171,   6.30957344,  10.        ,  15.84893192,\n",
       "                 25.11886432,  39.81071706,  63.09573445, 100.        ] TeV>"
      ]
     },
     "execution_count": 24,
     "metadata": {},
     "output_type": "execute_result"
    }
   ],
   "source": [
    "energies"
   ]
  },
  {
   "cell_type": "code",
   "execution_count": 25,
   "metadata": {},
   "outputs": [
    {
     "data": {
      "text/plain": [
       "<matplotlib.legend.Legend at 0x11dee3860>"
      ]
     },
     "execution_count": 25,
     "metadata": {},
     "output_type": "execute_result"
    },
    {
     "data": {
      "image/png": "[encoded data removed]",
      "text/plain": [
       "<matplotlib.figure.Figure at 0x11dee37f0>"
      ]
     },
     "metadata": {},
     "output_type": "display_data"
    }
   ],
   "source": [
    "iE = 5 ### fith band !!!!!\n",
    "\n",
    "x = offsets\n",
    "y = model.bg_rate.data[iE,:]\n",
    "plt.plot(x, y, label=\"bkg model smooth\")\n",
    "title = \"energy band: \"+str(\"%.2f\"%energies[iE].value)+\"-\"+str(\"%.2f\"%energies[iE+1].value)+\" TeV\"  \n",
    "plt.title(title)\n",
    "plt.xlabel(\"Offset (degree)\")\n",
    "plt.ylabel(\"Bkg rate (MeV-1 s-1 sr-1)\")\n",
    "plt.legend()"
   ]
  },
  {
   "cell_type": "markdown",
   "metadata": {},
   "source": [
    "### Background rate spectrum"
   ]
  },
  {
   "cell_type": "code",
   "execution_count": 26,
   "metadata": {},
   "outputs": [
    {
     "data": {
      "text/plain": [
       "array([ 0.12562973,  0.30329699,  0.39526433,  0.46885652,  0.53217606,\n",
       "        0.58864534,  0.64011374,  0.68771954,  0.73222371,  0.77416526,\n",
       "        0.81394275,  0.85186081,  0.88815856,  0.92302782,  0.95662524,\n",
       "        0.98908075,  1.02050354,  1.05098642,  1.08060907,  1.1094405 ,\n",
       "        1.13754095,  1.16496338,  1.19175466,  1.21795646,  1.24360609,\n",
       "        1.26873706,  1.29337964,  1.31756124,  1.34130681,  1.36463914,\n",
       "        1.38757907,  1.41014577,  1.43235689,  1.45422873,  1.47577638,\n",
       "        1.49701385,  1.51795416,  1.53860944,  1.55899104,  1.57910955,\n",
       "        1.59897491,  1.61859643,  1.6379829 ,  1.65714254,  1.67608316,\n",
       "        1.69481209,  1.71333628,  1.73166229,  1.74979637,  1.76774441,\n",
       "        1.78551202,  1.80310455,  1.82052706,  1.8377844 ,  1.85488117,\n",
       "        1.87182178,  1.88861043,  1.90525113,  1.92174774,  1.93810392,\n",
       "        1.95432321,  1.97040899,  1.9863645 ,  2.00219286,  2.01789705,\n",
       "        2.03347997,  2.04894436,  2.0642929 ,  2.07952815,  2.09465259,\n",
       "        2.1096686 ,  2.12457848,  2.13938444,  2.15408863,  2.16869312,\n",
       "        2.18319992,  2.19761095,  2.21192809,  2.22615314,  2.24028787,\n",
       "        2.25433398,  2.2682931 ,  2.28216684,  2.29595675,  2.30966432,\n",
       "        2.32329101,  2.33683824,  2.35030739,  2.36369978,  2.37701671,\n",
       "        2.39025945,  2.40342922,  2.41652722,  2.4295546 ,  2.44251251,\n",
       "        2.45540202,  2.46822423,  2.48098016,  2.49367085])"
      ]
     },
     "execution_count": 26,
     "metadata": {},
     "output_type": "execute_result"
    }
   ],
   "source": [
    "offsets.deg"
   ]
  },
  {
   "cell_type": "code",
   "execution_count": 27,
   "metadata": {},
   "outputs": [
    {
     "data": {
      "text/plain": [
       "<matplotlib.text.Text at 0x11dfd6a20>"
      ]
     },
     "execution_count": 27,
     "metadata": {},
     "output_type": "execute_result"
    },
    {
     "data": {
      "image/png": "[encoded data removed]",
      "text/plain": [
       "<matplotlib.figure.Figure at 0x11dfd0710>"
      ]
     },
     "metadata": {},
     "output_type": "display_data"
    }
   ],
   "source": [
    "x = energies.log_centers\n",
    "y = model.bg_rate.data[:,10]\n",
    "plt.loglog(x, y, label=\"bkg model smooth\")\n",
    "plt.title(\"offset: \"+str(\"%.2f\"%offsets[10].value)+\" deg\")\n",
    "plt.xlabel(\"Energy (TeV)\")\n",
    "plt.ylabel(\"Bkg rate (MeV-1 s-1 sr-1)\")"
   ]
  },
  {
   "cell_type": "markdown",
   "metadata": {},
   "source": [
    "### Background rate image with energy and offset axes\n",
    "\n",
    "It doesn't look good in this case.\n",
    "To do this well, you need to use more off or AGN runs to build the background model!"
   ]
  },
  {
   "cell_type": "code",
   "execution_count": 28,
   "metadata": {},
   "outputs": [
    {
     "data": {
      "text/plain": [
       "(<matplotlib.axes._subplots.AxesSubplot at 0x11db842b0>,\n",
       " <matplotlib.colorbar.Colorbar at 0x11d889f60>)"
      ]
     },
     "execution_count": 28,
     "metadata": {},
     "output_type": "execute_result"
    },
    {
     "data": {
      "image/png": "[encoded data removed]",
      "text/plain": [
       "<matplotlib.figure.Figure at 0x11df92c88>"
      ]
     },
     "metadata": {},
     "output_type": "display_data"
    }
   ],
   "source": [
    "model.bg_rate.plot()"
   ]
  },
  {
   "cell_type": "markdown",
   "metadata": {},
   "source": [
    "## Make new HDU index table including background\n",
    "\n",
    "Here we first copy the dataset of the 4 crab runs from gammapy-extra in a new directory containing the data you will use for the analysis. \n",
    "\n",
    "We use the same dataset to produce the bkg or for the analysis. Of course normally you produce the bkg model using thousands of AGN runs not the 4 Crab test runs."
   ]
  },
  {
   "cell_type": "code",
   "execution_count": 29,
   "metadata": {
    "collapsed": true
   },
   "outputs": [],
   "source": [
    "# Make a new hdu table in your dataset directory that contains the link to the acceptance curve to use to build the bkg model in your cube analysis\n",
    "data_dir = make_fresh_dir('data')"
   ]
  },
  {
   "cell_type": "code",
   "execution_count": 30,
   "metadata": {
    "collapsed": true
   },
   "outputs": [],
   "source": [
    "ds = DataStore.from_dir(\"$GAMMAPY_EXTRA/datasets/hess-crab4-hd-hap-prod2\")\n",
    "ds.copy_obs(ds.obs_table, data_dir)"
   ]
  },
  {
   "cell_type": "markdown",
   "metadata": {},
   "source": [
    "The hdu_table in this directory contains no link to a bkg model for each observation. "
   ]
  },
  {
   "cell_type": "code",
   "execution_count": 31,
   "metadata": {},
   "outputs": [
    {
     "data": {
      "text/html": [
       "&lt;HDUIndexTable length=28&gt;\n",
       "<table id=\"table4802410480\" class=\"table-striped table-bordered table-condensed\">\n",
       "<thead><tr><th>OBS_ID</th><th>HDU_TYPE</th><th>HDU_CLASS</th><th>FILE_DIR</th><th>FILE_NAME</th><th>HDU_NAME</th><th>SIZE</th><th>MTIME</th><th>MD5</th></tr></thead>\n",
       "<thead><tr><th>int64</th><th>str6</th><th>str10</th><th>str26</th><th>str30</th><th>str12</th><th>int64</th><th>float64</th><th>str32</th></tr></thead>\n",
       "<tr><td>23523</td><td>gti</td><td>gti</td><td>run023400-023599/run023523</td><td>hess_events_023523.fits.gz</td><td>GTI</td><td>620975</td><td>1455089616.34</td><td>9e402094c3a3e05ae4199b7cc9a01215</td></tr>\n",
       "<tr><td>23523</td><td>events</td><td>events</td><td>run023400-023599/run023523</td><td>hess_events_023523.fits.gz</td><td>EVENTS</td><td>620975</td><td>1455089616.34</td><td>9e402094c3a3e05ae4199b7cc9a01215</td></tr>\n",
       "<tr><td>23523</td><td>aeff</td><td>aeff_2d</td><td>run023400-023599/run023523</td><td>hess_aeff_2d_023523.fits.gz</td><td>AEFF_2D</td><td>3727</td><td>1455089616.34</td><td>6430c082176f092e0aed0f2bf9840915</td></tr>\n",
       "<tr><td>23523</td><td>edisp</td><td>edisp_2d</td><td>run023400-023599/run023523</td><td>hess_edisp_2d_023523.fits.gz</td><td>EDISP_2D</td><td>28963</td><td>1455089616.34</td><td>f580ea6cb104e4d6735b8d2940ac6774</td></tr>\n",
       "<tr><td>23523</td><td>psf</td><td>psf_3gauss</td><td>run023400-023599/run023523</td><td>hess_psf_3gauss_023523.fits.gz</td><td>PSF_2D_GAUSS</td><td>3027</td><td>1455089616.34</td><td>87f2d5c5ca56575a4a083b33e9700312</td></tr>\n",
       "<tr><td>23523</td><td>psf</td><td>psf_king</td><td>run023400-023599/run023523</td><td>hess_psf_king_023523.fits.gz</td><td>PSF_2D_KING</td><td>1823</td><td>1455089616.34</td><td>7760e349a40883345406c7e3ea1cbd54</td></tr>\n",
       "<tr><td>23523</td><td>psf</td><td>psf_table</td><td>run023400-023599/run023523</td><td>hess_psf_table_023523.fits.gz</td><td>PSF_2D_TABLE</td><td>221574</td><td>1455089616.35</td><td>74b745938341d0f64b79f60da7f1ad0f</td></tr>\n",
       "<tr><td>23526</td><td>psf</td><td>psf_king</td><td>run023400-023599/run023526</td><td>hess_psf_king_023526.fits.gz</td><td>PSF_2D_KING</td><td>1834</td><td>1455089616.56</td><td>5873e4ec0771bdfcc6d82608199a4067</td></tr>\n",
       "<tr><td>23526</td><td>psf</td><td>psf_3gauss</td><td>run023400-023599/run023526</td><td>hess_psf_3gauss_023526.fits.gz</td><td>PSF_2D_GAUSS</td><td>3002</td><td>1455089616.56</td><td>f27364b40bbf8e35c747828e60224b28</td></tr>\n",
       "<tr><td>23526</td><td>edisp</td><td>edisp_2d</td><td>run023400-023599/run023526</td><td>hess_edisp_2d_023526.fits.gz</td><td>EDISP_2D</td><td>28882</td><td>1455089616.56</td><td>c7e99f4d282a55c7fdd4024167bdbef5</td></tr>\n",
       "<tr><td>...</td><td>...</td><td>...</td><td>...</td><td>...</td><td>...</td><td>...</td><td>...</td><td>...</td></tr>\n",
       "<tr><td>23559</td><td>events</td><td>events</td><td>run023400-023599/run023559</td><td>hess_events_023559.fits.gz</td><td>EVENTS</td><td>620577</td><td>1455089616.77</td><td>311bd2ede3dddb3504c11b9c3dadac32</td></tr>\n",
       "<tr><td>23559</td><td>gti</td><td>gti</td><td>run023400-023599/run023559</td><td>hess_events_023559.fits.gz</td><td>GTI</td><td>620577</td><td>1455089616.77</td><td>311bd2ede3dddb3504c11b9c3dadac32</td></tr>\n",
       "<tr><td>23559</td><td>aeff</td><td>aeff_2d</td><td>run023400-023599/run023559</td><td>hess_aeff_2d_023559.fits.gz</td><td>AEFF_2D</td><td>3715</td><td>1455089616.78</td><td>50eb94ec65ac146ff60845860d84a1a2</td></tr>\n",
       "<tr><td>23592</td><td>psf</td><td>psf_king</td><td>run023400-023599/run023592</td><td>hess_psf_king_023592.fits.gz</td><td>PSF_2D_KING</td><td>1818</td><td>1455089617.0</td><td>514f94397507d1160341387ed56e80ba</td></tr>\n",
       "<tr><td>23592</td><td>gti</td><td>gti</td><td>run023400-023599/run023592</td><td>hess_events_023592.fits.gz</td><td>GTI</td><td>598107</td><td>1455089616.99</td><td>3c94433be8e9f29aa198065403570dbb</td></tr>\n",
       "<tr><td>23592</td><td>events</td><td>events</td><td>run023400-023599/run023592</td><td>hess_events_023592.fits.gz</td><td>EVENTS</td><td>598107</td><td>1455089616.99</td><td>3c94433be8e9f29aa198065403570dbb</td></tr>\n",
       "<tr><td>23592</td><td>aeff</td><td>aeff_2d</td><td>run023400-023599/run023592</td><td>hess_aeff_2d_023592.fits.gz</td><td>AEFF_2D</td><td>3721</td><td>1455089616.99</td><td>5e2f5dc70fecb5060b6e1662d59d9507</td></tr>\n",
       "<tr><td>23592</td><td>edisp</td><td>edisp_2d</td><td>run023400-023599/run023592</td><td>hess_edisp_2d_023592.fits.gz</td><td>EDISP_2D</td><td>28931</td><td>1455089616.99</td><td>37db40409b6c37a9060aef8817a14ffe</td></tr>\n",
       "<tr><td>23592</td><td>psf</td><td>psf_3gauss</td><td>run023400-023599/run023592</td><td>hess_psf_3gauss_023592.fits.gz</td><td>PSF_2D_GAUSS</td><td>3015</td><td>1455089617.0</td><td>3763f28acd61d96724ad5584fe1f39c4</td></tr>\n",
       "<tr><td>23592</td><td>psf</td><td>psf_table</td><td>run023400-023599/run023592</td><td>hess_psf_table_023592.fits.gz</td><td>PSF_2D_TABLE</td><td>221709</td><td>1455089617.0</td><td>38be05a13aa0bd492c9979c5b7d3d47f</td></tr>\n",
       "</table>"
      ],
      "text/plain": [
       "<HDUIndexTable length=28>\n",
       "OBS_ID HDU_TYPE HDU_CLASS  ...     MTIME                   MD5               \n",
       "int64    str6     str10    ...    float64                 str32              \n",
       "------ -------- ---------- ... ------------- --------------------------------\n",
       " 23523      gti        gti ... 1455089616.34 9e402094c3a3e05ae4199b7cc9a01215\n",
       " 23523   events     events ... 1455089616.34 9e402094c3a3e05ae4199b7cc9a01215\n",
       " 23523     aeff    aeff_2d ... 1455089616.34 6430c082176f092e0aed0f2bf9840915\n",
       " 23523    edisp   edisp_2d ... 1455089616.34 f580ea6cb104e4d6735b8d2940ac6774\n",
       " 23523      psf psf_3gauss ... 1455089616.34 87f2d5c5ca56575a4a083b33e9700312\n",
       " 23523      psf   psf_king ... 1455089616.34 7760e349a40883345406c7e3ea1cbd54\n",
       " 23523      psf  psf_table ... 1455089616.35 74b745938341d0f64b79f60da7f1ad0f\n",
       " 23526      psf   psf_king ... 1455089616.56 5873e4ec0771bdfcc6d82608199a4067\n",
       " 23526      psf psf_3gauss ... 1455089616.56 f27364b40bbf8e35c747828e60224b28\n",
       " 23526    edisp   edisp_2d ... 1455089616.56 c7e99f4d282a55c7fdd4024167bdbef5\n",
       "   ...      ...        ... ...           ...                              ...\n",
       " 23559   events     events ... 1455089616.77 311bd2ede3dddb3504c11b9c3dadac32\n",
       " 23559      gti        gti ... 1455089616.77 311bd2ede3dddb3504c11b9c3dadac32\n",
       " 23559     aeff    aeff_2d ... 1455089616.78 50eb94ec65ac146ff60845860d84a1a2\n",
       " 23592      psf   psf_king ...  1455089617.0 514f94397507d1160341387ed56e80ba\n",
       " 23592      gti        gti ... 1455089616.99 3c94433be8e9f29aa198065403570dbb\n",
       " 23592   events     events ... 1455089616.99 3c94433be8e9f29aa198065403570dbb\n",
       " 23592     aeff    aeff_2d ... 1455089616.99 5e2f5dc70fecb5060b6e1662d59d9507\n",
       " 23592    edisp   edisp_2d ... 1455089616.99 37db40409b6c37a9060aef8817a14ffe\n",
       " 23592      psf psf_3gauss ...  1455089617.0 3763f28acd61d96724ad5584fe1f39c4\n",
       " 23592      psf  psf_table ...  1455089617.0 38be05a13aa0bd492c9979c5b7d3d47f"
      ]
     },
     "execution_count": 31,
     "metadata": {},
     "output_type": "execute_result"
    }
   ],
   "source": [
    "data_store = DataStore.from_dir(data_dir)\n",
    "data_store.hdu_table"
   ]
  },
  {
   "cell_type": "markdown",
   "metadata": {},
   "source": [
    "In order to produce a background image or background cube we have to create a hdu table that contains for each observation a link to the bkg model to use depending of the observation conditions of the run."
   ]
  },
  {
   "cell_type": "code",
   "execution_count": 32,
   "metadata": {
    "collapsed": true
   },
   "outputs": [],
   "source": [
    "#Copy the background directory in the one where is located the hdu table, here data\n",
    "shutil.move(str(scratch_dir), str(data_dir))\n",
    "\n",
    "# Create the new hdu table with a link to the background model\n",
    "group_filename = data_dir / 'background/group-def.fits'\n",
    "\n",
    "#relat_path= (scratch_dir.absolute()).relative_to(data_dir.absolute())\n",
    "hdu_index_table = bgmaker.make_total_index_table(\n",
    "    data_store=data_store,\n",
    "    modeltype='2D',\n",
    "    out_dir_background_model=scratch_dir,\n",
    "    filename_obs_group_table=str(group_filename),\n",
    "    smooth=False,\n",
    ")\n",
    "\n",
    "# Write the new hdu table\n",
    "filename = data_dir / 'hdu-index.fits.gz'\n",
    "hdu_index_table.write(str(filename), overwrite=True)"
   ]
  },
  {
   "cell_type": "code",
   "execution_count": 33,
   "metadata": {},
   "outputs": [
    {
     "data": {
      "text/html": [
       "&lt;HDUIndexTable masked=True length=32&gt;\n",
       "<table id=\"table4801814768\" class=\"table-striped table-bordered table-condensed\">\n",
       "<thead><tr><th>OBS_ID</th><th>HDU_TYPE</th><th>HDU_CLASS</th><th>FILE_DIR</th><th>FILE_NAME</th><th>HDU_NAME</th><th>SIZE</th><th>MTIME</th><th>MD5</th></tr></thead>\n",
       "<thead><tr><th>int64</th><th>str6</th><th>str10</th><th>str26</th><th>str37</th><th>str12</th><th>int64</th><th>float64</th><th>str32</th></tr></thead>\n",
       "<tr><td>23523</td><td>gti</td><td>gti</td><td>run023400-023599/run023523</td><td>hess_events_023523.fits.gz</td><td>GTI</td><td>620975</td><td>1455089616.34</td><td>9e402094c3a3e05ae4199b7cc9a01215</td></tr>\n",
       "<tr><td>23523</td><td>events</td><td>events</td><td>run023400-023599/run023523</td><td>hess_events_023523.fits.gz</td><td>EVENTS</td><td>620975</td><td>1455089616.34</td><td>9e402094c3a3e05ae4199b7cc9a01215</td></tr>\n",
       "<tr><td>23523</td><td>aeff</td><td>aeff_2d</td><td>run023400-023599/run023523</td><td>hess_aeff_2d_023523.fits.gz</td><td>AEFF_2D</td><td>3727</td><td>1455089616.34</td><td>6430c082176f092e0aed0f2bf9840915</td></tr>\n",
       "<tr><td>23523</td><td>edisp</td><td>edisp_2d</td><td>run023400-023599/run023523</td><td>hess_edisp_2d_023523.fits.gz</td><td>EDISP_2D</td><td>28963</td><td>1455089616.34</td><td>f580ea6cb104e4d6735b8d2940ac6774</td></tr>\n",
       "<tr><td>23523</td><td>psf</td><td>psf_3gauss</td><td>run023400-023599/run023523</td><td>hess_psf_3gauss_023523.fits.gz</td><td>PSF_2D_GAUSS</td><td>3027</td><td>1455089616.34</td><td>87f2d5c5ca56575a4a083b33e9700312</td></tr>\n",
       "<tr><td>23523</td><td>psf</td><td>psf_king</td><td>run023400-023599/run023523</td><td>hess_psf_king_023523.fits.gz</td><td>PSF_2D_KING</td><td>1823</td><td>1455089616.34</td><td>7760e349a40883345406c7e3ea1cbd54</td></tr>\n",
       "<tr><td>23523</td><td>psf</td><td>psf_table</td><td>run023400-023599/run023523</td><td>hess_psf_table_023523.fits.gz</td><td>PSF_2D_TABLE</td><td>221574</td><td>1455089616.35</td><td>74b745938341d0f64b79f60da7f1ad0f</td></tr>\n",
       "<tr><td>23526</td><td>psf</td><td>psf_king</td><td>run023400-023599/run023526</td><td>hess_psf_king_023526.fits.gz</td><td>PSF_2D_KING</td><td>1834</td><td>1455089616.56</td><td>5873e4ec0771bdfcc6d82608199a4067</td></tr>\n",
       "<tr><td>23526</td><td>psf</td><td>psf_3gauss</td><td>run023400-023599/run023526</td><td>hess_psf_3gauss_023526.fits.gz</td><td>PSF_2D_GAUSS</td><td>3002</td><td>1455089616.56</td><td>f27364b40bbf8e35c747828e60224b28</td></tr>\n",
       "<tr><td>23526</td><td>edisp</td><td>edisp_2d</td><td>run023400-023599/run023526</td><td>hess_edisp_2d_023526.fits.gz</td><td>EDISP_2D</td><td>28882</td><td>1455089616.56</td><td>c7e99f4d282a55c7fdd4024167bdbef5</td></tr>\n",
       "<tr><td>...</td><td>...</td><td>...</td><td>...</td><td>...</td><td>...</td><td>...</td><td>...</td><td>...</td></tr>\n",
       "<tr><td>23592</td><td>gti</td><td>gti</td><td>run023400-023599/run023592</td><td>hess_events_023592.fits.gz</td><td>GTI</td><td>598107</td><td>1455089616.99</td><td>3c94433be8e9f29aa198065403570dbb</td></tr>\n",
       "<tr><td>23592</td><td>events</td><td>events</td><td>run023400-023599/run023592</td><td>hess_events_023592.fits.gz</td><td>EVENTS</td><td>598107</td><td>1455089616.99</td><td>3c94433be8e9f29aa198065403570dbb</td></tr>\n",
       "<tr><td>23592</td><td>aeff</td><td>aeff_2d</td><td>run023400-023599/run023592</td><td>hess_aeff_2d_023592.fits.gz</td><td>AEFF_2D</td><td>3721</td><td>1455089616.99</td><td>5e2f5dc70fecb5060b6e1662d59d9507</td></tr>\n",
       "<tr><td>23592</td><td>edisp</td><td>edisp_2d</td><td>run023400-023599/run023592</td><td>hess_edisp_2d_023592.fits.gz</td><td>EDISP_2D</td><td>28931</td><td>1455089616.99</td><td>37db40409b6c37a9060aef8817a14ffe</td></tr>\n",
       "<tr><td>23592</td><td>psf</td><td>psf_3gauss</td><td>run023400-023599/run023592</td><td>hess_psf_3gauss_023592.fits.gz</td><td>PSF_2D_GAUSS</td><td>3015</td><td>1455089617.0</td><td>3763f28acd61d96724ad5584fe1f39c4</td></tr>\n",
       "<tr><td>23592</td><td>psf</td><td>psf_table</td><td>run023400-023599/run023592</td><td>hess_psf_table_023592.fits.gz</td><td>PSF_2D_TABLE</td><td>221709</td><td>1455089617.0</td><td>38be05a13aa0bd492c9979c5b7d3d47f</td></tr>\n",
       "<tr><td>23526</td><td>bkg</td><td>bkg_2d</td><td>background</td><td>background_2D_group_000_table.fits.gz</td><td>bkg_2d</td><td>--</td><td>--</td><td>--</td></tr>\n",
       "<tr><td>23559</td><td>bkg</td><td>bkg_2d</td><td>background</td><td>background_2D_group_000_table.fits.gz</td><td>bkg_2d</td><td>--</td><td>--</td><td>--</td></tr>\n",
       "<tr><td>23592</td><td>bkg</td><td>bkg_2d</td><td>background</td><td>background_2D_group_000_table.fits.gz</td><td>bkg_2d</td><td>--</td><td>--</td><td>--</td></tr>\n",
       "<tr><td>23523</td><td>bkg</td><td>bkg_2d</td><td>background</td><td>background_2D_group_001_table.fits.gz</td><td>bkg_2d</td><td>--</td><td>--</td><td>--</td></tr>\n",
       "</table>"
      ],
      "text/plain": [
       "<HDUIndexTable masked=True length=32>\n",
       "OBS_ID HDU_TYPE HDU_CLASS  ...     MTIME                   MD5               \n",
       "int64    str6     str10    ...    float64                 str32              \n",
       "------ -------- ---------- ... ------------- --------------------------------\n",
       " 23523      gti        gti ... 1455089616.34 9e402094c3a3e05ae4199b7cc9a01215\n",
       " 23523   events     events ... 1455089616.34 9e402094c3a3e05ae4199b7cc9a01215\n",
       " 23523     aeff    aeff_2d ... 1455089616.34 6430c082176f092e0aed0f2bf9840915\n",
       " 23523    edisp   edisp_2d ... 1455089616.34 f580ea6cb104e4d6735b8d2940ac6774\n",
       " 23523      psf psf_3gauss ... 1455089616.34 87f2d5c5ca56575a4a083b33e9700312\n",
       " 23523      psf   psf_king ... 1455089616.34 7760e349a40883345406c7e3ea1cbd54\n",
       " 23523      psf  psf_table ... 1455089616.35 74b745938341d0f64b79f60da7f1ad0f\n",
       " 23526      psf   psf_king ... 1455089616.56 5873e4ec0771bdfcc6d82608199a4067\n",
       " 23526      psf psf_3gauss ... 1455089616.56 f27364b40bbf8e35c747828e60224b28\n",
       " 23526    edisp   edisp_2d ... 1455089616.56 c7e99f4d282a55c7fdd4024167bdbef5\n",
       "   ...      ...        ... ...           ...                              ...\n",
       " 23592      gti        gti ... 1455089616.99 3c94433be8e9f29aa198065403570dbb\n",
       " 23592   events     events ... 1455089616.99 3c94433be8e9f29aa198065403570dbb\n",
       " 23592     aeff    aeff_2d ... 1455089616.99 5e2f5dc70fecb5060b6e1662d59d9507\n",
       " 23592    edisp   edisp_2d ... 1455089616.99 37db40409b6c37a9060aef8817a14ffe\n",
       " 23592      psf psf_3gauss ...  1455089617.0 3763f28acd61d96724ad5584fe1f39c4\n",
       " 23592      psf  psf_table ...  1455089617.0 38be05a13aa0bd492c9979c5b7d3d47f\n",
       " 23526      bkg     bkg_2d ...            --                               --\n",
       " 23559      bkg     bkg_2d ...            --                               --\n",
       " 23592      bkg     bkg_2d ...            --                               --\n",
       " 23523      bkg     bkg_2d ...            --                               --"
      ]
     },
     "execution_count": 33,
     "metadata": {},
     "output_type": "execute_result"
    }
   ],
   "source": [
    "hdu_index_table"
   ]
  },
  {
   "cell_type": "code",
   "execution_count": 34,
   "metadata": {},
   "outputs": [
    {
     "name": "stdout",
     "output_type": "stream",
     "text": [
      "background   background_2D_group_000_table.fits.gz\n"
     ]
    }
   ],
   "source": [
    "print(hdu_index_table[-4][\"FILE_DIR\"], \" \", hdu_index_table[-4][\"FILE_NAME\"])"
   ]
  },
  {
   "cell_type": "code",
   "execution_count": 35,
   "metadata": {},
   "outputs": [
    {
     "name": "stdout",
     "output_type": "stream",
     "text": [
      "background   background_2D_group_001_table.fits.gz\n"
     ]
    }
   ],
   "source": [
    "print(hdu_index_table[-1][\"FILE_DIR\"], \" \", hdu_index_table[-1][\"FILE_NAME\"])"
   ]
  },
  {
   "cell_type": "markdown",
   "metadata": {},
   "source": [
    "## Exercises\n",
    "\n",
    "- Use real AGN run\n",
    "- Change the binning for the grouping: thinner zenithal bin, add efficiency binning ....\n",
    "- Change the energy binning (ebounds) and the offset (offset) used to compute the acceptance curve\n"
   ]
  },
  {
   "cell_type": "code",
   "execution_count": null,
   "metadata": {
    "collapsed": true
   },
   "outputs": [],
   "source": []
  },
  {
   "cell_type": "markdown",
   "metadata": {},
   "source": [
    "## What next?\n",
    "\n",
    "In this tutorial we have created a template background model in the `bkg_2d` format, i.e. with offset and energy axes (see [spec](http://gamma-astro-data-formats.readthedocs.io/en/latest/irfs/background/index.html#bkg-2d-format)).\n",
    "\n",
    "In future tutorials, we will use this background model as one of the model components for source analysis."
   ]
  },
  {
   "cell_type": "code",
   "execution_count": null,
   "metadata": {
    "collapsed": true
   },
   "outputs": [],
   "source": []
  }
 ],
 "metadata": {
  "kernelspec": {
   "display_name": "Python [conda env:gammapy-dev]",
   "language": "python",
   "name": "conda-env-gammapy-dev-py"
  },
  "language_info": {
   "codemirror_mode": {
    "name": "ipython",
    "version": 3
   },
   "file_extension": ".py",
   "mimetype": "text/x-python",
   "name": "python",
   "nbconvert_exporter": "python",
   "pygments_lexer": "ipython3",
   "version": "3.6.1"
  },
  "toc": {
   "colors": {
    "hover_highlight": "#DAA520",
    "navigate_num": "#000000",
    "navigate_text": "#333333",
    "running_highlight": "#FF0000",
    "selected_highlight": "#FFD700",
    "sidebar_border": "#EEEEEE",
    "wrapper_background": "#FFFFFF"
   },
   "moveMenuLeft": true,
   "nav_menu": {
    "height": "293px",
    "width": "253px"
   },
   "navigate_menu": true,
   "number_sections": false,
   "sideBar": true,
   "threshold": 4,
   "toc_cell": false,
   "toc_position": {
    "height": "725px",
    "left": "0px",
    "right": "1218px",
    "top": "108px",
    "width": "403px"
   },
   "toc_section_display": "block",
   "toc_window_display": true,
   "widenNotebook": false
  }
 },
 "nbformat": 4,
 "nbformat_minor": 2
}
