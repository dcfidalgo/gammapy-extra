{
 "cells": [
  {
   "cell_type": "markdown",
   "metadata": {},
   "source": [
    "# Rapid introduction on using numpy, scipy, matplotlib\n",
    "\n",
    "This is meant to be a very brief reminder. It is strongly suggested to refer to more detailed\n",
    "introductions and tutorials see for instance:\n",
    "- [A Whirlwind tour of Python](http://nbviewer.jupyter.org/github/jakevdp/WhirlwindTourOfPython/blob/master/Index.ipynb)\n",
    "- [Python data science handbook](http://nbviewer.jupyter.org/github/jakevdp/PythonDataScienceHandbook/blob/master/notebooks/Index.ipynb)\n",
    "- [Scipy lectures](http://www.scipy-lectures.org/)\n",
    "\n",
    "## Introduction\n",
    "\n",
    "Here we will look at :\n",
    "- basic features regarding array manipulation and indexing\n",
    "- do a bit of plotting with matplotlib\n",
    "- use a number of useful scipy features\n",
    "- see an example of vectorization with a simple Monte Carlo problem"
   ]
  },
  {
   "cell_type": "markdown",
   "metadata": {},
   "source": [
    "## numpy: arrays, indexing etc\n",
    "\n"
   ]
  },
  {
   "cell_type": "code",
   "execution_count": 1,
   "metadata": {
    "collapsed": true
   },
   "outputs": [],
   "source": [
    "import numpy as np"
   ]
  },
  {
   "cell_type": "code",
   "execution_count": 2,
   "metadata": {},
   "outputs": [
    {
     "data": {
      "text/plain": [
       "array([3, 4, 5])"
      ]
     },
     "execution_count": 2,
     "metadata": {},
     "output_type": "execute_result"
    }
   ],
   "source": [
    "np.array([3,4,5])"
   ]
  },
  {
   "cell_type": "code",
   "execution_count": 3,
   "metadata": {},
   "outputs": [
    {
     "data": {
      "text/plain": [
       "array([[1, 2],\n",
       "       [3, 4]])"
      ]
     },
     "execution_count": 3,
     "metadata": {},
     "output_type": "execute_result"
    }
   ],
   "source": [
    "np.array([[1, 2],[3,4]])"
   ]
  },
  {
   "cell_type": "code",
   "execution_count": 4,
   "metadata": {},
   "outputs": [
    {
     "data": {
      "text/plain": [
       "array([  1.,   2.,   3.,   4.,   5.,   6.,   7.,   8.,   9.,  10.])"
      ]
     },
     "execution_count": 4,
     "metadata": {},
     "output_type": "execute_result"
    }
   ],
   "source": [
    "### linearly spaced 1D array\n",
    "np.linspace(1.,10.,10)"
   ]
  },
  {
   "cell_type": "code",
   "execution_count": 5,
   "metadata": {},
   "outputs": [
    {
     "data": {
      "text/plain": [
       "array([  1.        ,   1.29154967,   1.66810054,   2.15443469,\n",
       "         2.7825594 ,   3.59381366,   4.64158883,   5.9948425 ,\n",
       "         7.74263683,  10.        ])"
      ]
     },
     "execution_count": 5,
     "metadata": {},
     "output_type": "execute_result"
    }
   ],
   "source": [
    "### log spaced 1D array\n",
    "np.logspace(0.,1.,10)"
   ]
  },
  {
   "cell_type": "code",
   "execution_count": 6,
   "metadata": {},
   "outputs": [
    {
     "data": {
      "text/plain": [
       "array([ 0.,  0.,  0.,  0.,  0.])"
      ]
     },
     "execution_count": 6,
     "metadata": {},
     "output_type": "execute_result"
    }
   ],
   "source": [
    "### 1D array of zeros\n",
    "np.zeros(5)"
   ]
  },
  {
   "cell_type": "code",
   "execution_count": 7,
   "metadata": {},
   "outputs": [
    {
     "data": {
      "text/plain": [
       "array([[ 0.,  0.,  0.],\n",
       "       [ 0.,  0.,  0.],\n",
       "       [ 0.,  0.,  0.]])"
      ]
     },
     "execution_count": 7,
     "metadata": {},
     "output_type": "execute_result"
    }
   ],
   "source": [
    "### 2D array of zeros\n",
    "np.zeros((3,3))"
   ]
  },
  {
   "cell_type": "markdown",
   "metadata": {},
   "source": [
    "### Types and casts\n",
    "\n",
    "See numpy [dtypes](https://docs.scipy.org/doc/numpy/reference/arrays.dtypes.html)"
   ]
  },
  {
   "cell_type": "code",
   "execution_count": 8,
   "metadata": {},
   "outputs": [
    {
     "name": "stdout",
     "output_type": "stream",
     "text": [
      "[ 1  1  1  2  2  3  4  5  7 10]\n"
     ]
    }
   ],
   "source": [
    "x_int = np.logspace(0.,1.,10).astype('int')   # cast array as int\n",
    "print(x_int)"
   ]
  },
  {
   "cell_type": "code",
   "execution_count": 9,
   "metadata": {},
   "outputs": [
    {
     "name": "stdout",
     "output_type": "stream",
     "text": [
      "2\n"
     ]
    }
   ],
   "source": [
    "x_int[1] = 2.34   # 2.34 is cast as int\n",
    "print(x_int[1])"
   ]
  },
  {
   "cell_type": "code",
   "execution_count": 10,
   "metadata": {},
   "outputs": [
    {
     "data": {
      "text/plain": [
       "dtype('<U1')"
      ]
     },
     "execution_count": 10,
     "metadata": {},
     "output_type": "execute_result"
    }
   ],
   "source": [
    "array_string = np.array(['a','b','c','d'])\n",
    "array_string.dtype    # 1 character string"
   ]
  },
  {
   "cell_type": "code",
   "execution_count": 11,
   "metadata": {},
   "outputs": [
    {
     "data": {
      "text/plain": [
       "'b'"
      ]
     },
     "execution_count": 11,
     "metadata": {},
     "output_type": "execute_result"
    }
   ],
   "source": [
    "array_string[1]='bbbb'   # 'bbbb' is cast on 1 character string\n",
    "array_string[1]"
   ]
  },
  {
   "cell_type": "code",
   "execution_count": 12,
   "metadata": {},
   "outputs": [
    {
     "data": {
      "text/plain": [
       "b'bbbb'"
      ]
     },
     "execution_count": 12,
     "metadata": {},
     "output_type": "execute_result"
    }
   ],
   "source": [
    "array_string = np.array(['a','b','c','d'],dtype=np.dtype('S10'))\n",
    "array_string[1] = 'bbbb'   # 'bbbb' is cast on 10 character string\n",
    "array_string[1]"
   ]
  },
  {
   "cell_type": "markdown",
   "metadata": {},
   "source": [
    "### array indexing & slicing"
   ]
  },
  {
   "cell_type": "code",
   "execution_count": 13,
   "metadata": {
    "collapsed": true
   },
   "outputs": [],
   "source": [
    "x = np.arange(10)"
   ]
  },
  {
   "cell_type": "code",
   "execution_count": 14,
   "metadata": {},
   "outputs": [
    {
     "data": {
      "text/plain": [
       "9"
      ]
     },
     "execution_count": 14,
     "metadata": {},
     "output_type": "execute_result"
    }
   ],
   "source": [
    "x[-1]   # last element"
   ]
  },
  {
   "cell_type": "code",
   "execution_count": 15,
   "metadata": {},
   "outputs": [
    {
     "data": {
      "text/plain": [
       "array([3, 4, 5])"
      ]
     },
     "execution_count": 15,
     "metadata": {},
     "output_type": "execute_result"
    }
   ],
   "source": [
    "x[3:6]  # subarray"
   ]
  },
  {
   "cell_type": "code",
   "execution_count": 16,
   "metadata": {},
   "outputs": [
    {
     "data": {
      "text/plain": [
       "array([1, 3, 5, 7, 9])"
      ]
     },
     "execution_count": 16,
     "metadata": {},
     "output_type": "execute_result"
    }
   ],
   "source": [
    "x[1::2] # stride"
   ]
  },
  {
   "cell_type": "code",
   "execution_count": 17,
   "metadata": {},
   "outputs": [
    {
     "data": {
      "text/plain": [
       "array([9, 8, 7, 6, 5, 4, 3, 2, 1, 0])"
      ]
     },
     "execution_count": 17,
     "metadata": {},
     "output_type": "execute_result"
    }
   ],
   "source": [
    "x[::-1] # stride"
   ]
  },
  {
   "cell_type": "code",
   "execution_count": 18,
   "metadata": {},
   "outputs": [
    {
     "data": {
      "text/plain": [
       "array([[ 0,  1,  2,  3,  4],\n",
       "       [10, 11, 12, 13, 14],\n",
       "       [20, 21, 22, 23, 24],\n",
       "       [30, 31, 32, 33, 34],\n",
       "       [40, 41, 42, 43, 44]])"
      ]
     },
     "execution_count": 18,
     "metadata": {},
     "output_type": "execute_result"
    }
   ],
   "source": [
    "x = np.array([np.arange(10*i,10*i+5) for i in range(5)])\n",
    "x"
   ]
  },
  {
   "cell_type": "code",
   "execution_count": 19,
   "metadata": {},
   "outputs": [
    {
     "name": "stdout",
     "output_type": "stream",
     "text": [
      "first column :  [ 0 10 20 30 40]\n",
      "last row     :  [40 41 42 43 44]\n"
     ]
    }
   ],
   "source": [
    "print(\"first column : \", x[:,0])\n",
    "print(\"last row     : \", x[-1,:])"
   ]
  },
  {
   "cell_type": "code",
   "execution_count": 20,
   "metadata": {},
   "outputs": [
    {
     "name": "stdout",
     "output_type": "stream",
     "text": [
      "[[ 0  1  2  3  4]\n",
      " [10 11 12 13 14]\n",
      " [20 21 22 23 24]\n",
      " [30 31 32 33 34]\n",
      " [41 42 43 44 45]]\n"
     ]
    }
   ],
   "source": [
    "b=x[-1,:]   # This is a view not a copy!\n",
    "b[:] += 1\n",
    "\n",
    "print(x) # the initial matrix is changed!"
   ]
  },
  {
   "cell_type": "code",
   "execution_count": 21,
   "metadata": {},
   "outputs": [
    {
     "name": "stdout",
     "output_type": "stream",
     "text": [
      "[[False  True False  True False]\n",
      " [False  True False  True False]\n",
      " [False  True False  True False]\n",
      " [False  True False  True False]\n",
      " [ True False  True False  True]]\n"
     ]
    }
   ],
   "source": [
    "# Fancy indexing \n",
    "print(x % 2 == 1)"
   ]
  },
  {
   "cell_type": "code",
   "execution_count": 22,
   "metadata": {},
   "outputs": [
    {
     "name": "stdout",
     "output_type": "stream",
     "text": [
      "[[ 0  0  2  0  4]\n",
      " [10  0 12  0 14]\n",
      " [20  0 22  0 24]\n",
      " [30  0 32  0 34]\n",
      " [ 0 42  0 44  0]]\n"
     ]
    }
   ],
   "source": [
    "x[x % 2 == 1] = 0\n",
    "print(x)"
   ]
  },
  {
   "cell_type": "markdown",
   "metadata": {},
   "source": [
    "### Broadcasting"
   ]
  },
  {
   "cell_type": "code",
   "execution_count": 23,
   "metadata": {},
   "outputs": [
    {
     "data": {
      "text/plain": [
       "array([ 5.,  6.,  7.,  8.,  9.])"
      ]
     },
     "execution_count": 23,
     "metadata": {},
     "output_type": "execute_result"
    }
   ],
   "source": [
    "x = np.linspace(1, 5, 5) + 4   # 4 is broadcast to 5 element array\n",
    "x"
   ]
  },
  {
   "cell_type": "code",
   "execution_count": 24,
   "metadata": {},
   "outputs": [
    {
     "data": {
      "text/plain": [
       "array([[ 5.,  6.,  7.,  8.,  9.],\n",
       "       [ 5.,  6.,  7.,  8.,  9.],\n",
       "       [ 5.,  6.,  7.,  8.,  9.]])"
      ]
     },
     "execution_count": 24,
     "metadata": {},
     "output_type": "execute_result"
    }
   ],
   "source": [
    "y = np.zeros((3, 5)) + x   # x is broadcast to (3,5) array\n",
    "y"
   ]
  },
  {
   "cell_type": "markdown",
   "metadata": {},
   "source": [
    "## Plotting with matplotlib\n",
    "\n",
    "We will see some plotting:\n",
    "- Simple plots\n",
    "- Histograms with matplotlib"
   ]
  },
  {
   "cell_type": "code",
   "execution_count": 25,
   "metadata": {
    "collapsed": true
   },
   "outputs": [],
   "source": [
    "# This is for embedding figures in the notebook\n",
    "%matplotlib inline   \n",
    "import matplotlib.pyplot as plt\n",
    "plt.style.use('ggplot')         # Fancy style"
   ]
  },
  {
   "cell_type": "markdown",
   "metadata": {},
   "source": [
    "## <span class=\"burk\">Vectorization or loops</span>: A very simple MC\n",
    "\n",
    "We want to solve a simple statistical question. Assume a Poisson random process of mean mu. What is the density probability function pdf(n_val) of having at least one realization of the Poisson process out of N larger than n_val? \n",
    "\n",
    "See for instance [this paper](https://arxiv.org/pdf/0903.4373.pdf)\n",
    "\n",
    "While this problem has an analytical solution we would like to test it with a simple MC. \n",
    "\n",
    "We will first do it as one would do it with a C code and we will progressively vectorize the problem. We will use a timer to compare performance.\n",
    "\n"
   ]
  },
  {
   "cell_type": "code",
   "execution_count": 26,
   "metadata": {},
   "outputs": [
    {
     "name": "stdout",
     "output_type": "stream",
     "text": [
      "7.69 s ± 322 ms per loop (mean ± std. dev. of 7 runs, 1 loop each)\n"
     ]
    }
   ],
   "source": [
    "### Define the function\n",
    "def poisson_sample_maximum(mu, N, Ntrials):\n",
    "    \"\"\"\n",
    "    Generate a set of Ntrials random variables defined as the maximum of N \n",
    "    random Poisson R.V. of mean mu\n",
    "    \"\"\"\n",
    "    res = np.zeros(Ntrials)\n",
    "    ### Do a loop\n",
    "    for i in range(Ntrials):\n",
    "        ### Generate N random varslues \n",
    "        Y = np.random.poisson(mu, size=(N))\n",
    "        ### Take the maximum \n",
    "        res[i] = np.max(Y)\n",
    "\n",
    "    return res \n",
    "   \n",
    "mu = 5\n",
    "N = 10\n",
    "Ntrials = 1000000\n",
    "    \n",
    "%timeit values = poisson_sample_maximum(mu, N, Ntrials)"
   ]
  },
  {
   "cell_type": "markdown",
   "metadata": {},
   "source": [
    "It does work, but no so fast...\n",
    "\n",
    "To do it in a efficient and pythonic way we have to avoid loops as much as possible.\n",
    "\n",
    "The idea here will then be to do all trials at once requiring random.poisson to produce a 2D matrix of size Nxtrials"
   ]
  },
  {
   "cell_type": "code",
   "execution_count": 32,
   "metadata": {},
   "outputs": [
    {
     "name": "stdout",
     "output_type": "stream",
     "text": [
      "999 ms ± 48.2 ms per loop (mean ± std. dev. of 7 runs, 1 loop each)\n"
     ]
    }
   ],
   "source": [
    "### Define a better function\n",
    "def poisson_sample_maximum_better(mu, N, Ntrials):\n",
    "    \"\"\"\n",
    "    Generate a set of Ntrials random variables defined as the maximum of N \n",
    "    random Poisson R.V. of mean mu\n",
    "    \"\"\"\n",
    "    ### Generate N*Ntrials random values in N x Ntrials matrix\n",
    "    Y = np.random.poisson(mu,size=(N, Ntrials))\n",
    "    ### Return the maximum in each row\n",
    "    return np.max(Y,0) # Y shape is N x Ntrials  np.max(Y,1) is max for each col\n",
    "   \n",
    "mu = 5\n",
    "N = 10\n",
    "Ntrials = 1000000\n",
    "    \n",
    "%timeit values = poisson_sample_maximum_better(mu, N, Ntrials)"
   ]
  },
  {
   "cell_type": "markdown",
   "metadata": {},
   "source": [
    "We can now compare the distribution of MC simulated values to the actual analytical function.\n"
   ]
  },
  {
   "cell_type": "code",
   "execution_count": 33,
   "metadata": {},
   "outputs": [
    {
     "data": {
      "text/plain": [
       "(1e-06, 1)"
      ]
     },
     "execution_count": 33,
     "metadata": {},
     "output_type": "execute_result"
    },
    {
     "data": {
      "image/png": "[encoded data removed]",
      "text/plain": [
       "<matplotlib.figure.Figure at 0x113065c88>"
      ]
     },
     "metadata": {},
     "output_type": "display_data"
    }
   ],
   "source": [
    "values = poisson_sample_maximum_better(mu,N,Ntrials)\n",
    "\n",
    "### Make and plot the normalized histogram\n",
    "### We define the binning ouselves to have bins for each integer\n",
    "bins = np.arange(0, 10 * mu)\n",
    "histo = plt.hist(values, bins=bins, normed=True, log=True)\n",
    "\n",
    "### Now compare to the analytical solution\n",
    "from scipy.special import gammaincc\n",
    "\n",
    "### Define a lambda function to compute analytical solution\n",
    "proba = lambda nv, Nr, mu_p : gammaincc(nv + 1, mu_p) ** Nr - gammaincc(nv, mu_p) ** Nr\n",
    "\n",
    "x = 0.5 * (bins[:-1] + bins[1:])\n",
    "y = proba(bins[:-1], N, mu)\n",
    "plt.plot(x, y)\n",
    "plt.ylim(1e-6,1)   # restrict y range"
   ]
  },
  {
   "cell_type": "markdown",
   "metadata": {},
   "source": [
    "## Exercices\n",
    "\n",
    "- write a vectorized function that takes an array of int and returns an array where square integers are replaced by their square root and the others are left unchanged"
   ]
  },
  {
   "cell_type": "code",
   "execution_count": 29,
   "metadata": {},
   "outputs": [
    {
     "name": "stdout",
     "output_type": "stream",
     "text": [
      "7.0\n",
      "[  0.   1.   2.   3.   2.   5.   6.   7.   8.   3.  10.  11.  12.  13.  14.\n",
      "  15.   4.  17.  18.  19.  20.  21.  22.  23.  24.   5.]\n"
     ]
    }
   ],
   "source": [
    "### A solution\n",
    "def replace_square(n):\n",
    "    sqrt_n = np.sqrt(n)\n",
    "    return n + (sqrt_n == sqrt_n.astype(int))*(-n + sqrt_n)\n",
    "\n",
    "print(replace_square(7.0))\n",
    "print(replace_square(np.arange(26)))"
   ]
  },
  {
   "cell_type": "code",
   "execution_count": 30,
   "metadata": {},
   "outputs": [
    {
     "name": "stdout",
     "output_type": "stream",
     "text": [
      "7.0\n",
      "[  0.   1.   2.   3.   2.   5.   6.   7.   8.   3.  10.  11.  12.  13.  14.\n",
      "  15.   4.  17.  18.  19.  20.  21.  22.  23.  24.   5.]\n"
     ]
    }
   ],
   "source": [
    "### or using where\n",
    "def replace_square2(n):\n",
    "    sqrt_n = np.sqrt(n)\n",
    "    return np.where(sqrt_n == sqrt_n.astype(int), \n",
    "                    sqrt_n, n)\n",
    "        \n",
    "print(replace_square2(7.0))       \n",
    "print(replace_square2(np.arange(26)))"
   ]
  },
  {
   "cell_type": "code",
   "execution_count": null,
   "metadata": {
    "collapsed": true
   },
   "outputs": [],
   "source": []
  }
 ],
 "metadata": {
  "kernelspec": {
   "display_name": "Python [default]",
   "language": "python",
   "name": "python3"
  },
  "language_info": {
   "codemirror_mode": {
    "name": "ipython",
    "version": 3
   },
   "file_extension": ".py",
   "mimetype": "text/x-python",
   "name": "python",
   "nbconvert_exporter": "python",
   "pygments_lexer": "ipython3",
   "version": "3.6.1"
  },
  "toc": {
   "colors": {
    "hover_highlight": "#DAA520",
    "navigate_num": "#000000",
    "navigate_text": "#333333",
    "running_highlight": "#FF0000",
    "selected_highlight": "#FFD700",
    "sidebar_border": "#EEEEEE",
    "wrapper_background": "#FFFFFF"
   },
   "moveMenuLeft": true,
   "nav_menu": {
    "height": "174px",
    "width": "252px"
   },
   "navigate_menu": true,
   "number_sections": false,
   "sideBar": true,
   "threshold": 4,
   "toc_cell": false,
   "toc_section_display": "block",
   "toc_window_display": false,
   "widenNotebook": false
  }
 },
 "nbformat": 4,
 "nbformat_minor": 1
}
