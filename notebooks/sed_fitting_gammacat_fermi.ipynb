{
 "cells": [
  {
   "cell_type": "markdown",
   "metadata": {},
   "source": [
    "# Flux point fitting in Gammapy\n",
    "\n",
    "In this tutorial we're going to learn how to fit spectral models to combined Fermi-LAT and IACT flux points.\n",
    "\n",
    "The central class we're going to use for this example analysis is:  \n",
    "- [gammapy.spectrum.FluxPointFitter](http://docs.gammapy.org/en/latest/api/gammapy.spectrum.FluxPointFitter.html)\n",
    "\n",
    "\n",
    "In addition we will work with the following data classes:\n",
    "\n",
    "- [gammapy.spectrum.FluxPoints](http://docs.gammapy.org/en/latest/api/gammapy.spectrum.FluxPoints.html)\n",
    "- [gammapy.catalog.SourceCatalogGammaCat](http://docs.gammapy.org/en/latest/api/gammapy.catalog.SourceCatalogGammaCat.html)\n",
    "- [gammapy.catalog.SourceCatalog3FHL](http://docs.gammapy.org/en/latest/api/gammapy.catalog.SourceCatalog3FHL.html)\n",
    "- [gammapy.catalog.SourceCatalog3FGL](http://docs.gammapy.org/en/latest/api/gammapy.catalog.SourceCatalog3FGL.html)\n",
    "\n",
    "And the following spectral model classes:\n",
    "- [PowerLaw](http://docs.gammapy.org/en/latest/api/gammapy.spectrum.models.PowerLaw.html)\n",
    "- [ExponentialCutoffPowerLaw](http://docs.gammapy.org/en/latest/api/gammapy.spectrum.models.ExponentialCutoffPowerLaw.html)\n",
    "- [LogParabola](http://docs.gammapy.org/en/latest/api/gammapy.spectrum.models.LogParabola.html)\n"
   ]
  },
  {
   "cell_type": "markdown",
   "metadata": {},
   "source": [
    "Let us start with the usual IPython notebook and Python imports:"
   ]
  },
  {
   "cell_type": "code",
   "execution_count": 1,
   "metadata": {
    "collapsed": true
   },
   "outputs": [],
   "source": [
    "%matplotlib notebook\n",
    "import numpy as np\n",
    "import matplotlib.pyplot as plt"
   ]
  },
  {
   "cell_type": "code",
   "execution_count": 12,
   "metadata": {
    "collapsed": true
   },
   "outputs": [],
   "source": [
    "from astropy import units as u\n",
    "from astropy.table import vstack\n",
    "from gammapy.spectrum.models import PowerLaw, ExponentialCutoffPowerLaw, LogParabola\n",
    "from gammapy.spectrum import FluxPointFitter, FluxPoints\n",
    "from gammapy.catalog import SourceCatalog3FGL, SourceCatalogGammaCat, SourceCatalog3FHL"
   ]
  },
  {
   "cell_type": "markdown",
   "metadata": {},
   "source": [
    "Next we instantiate the source catalogs so that we can access the data for the source we would like to analyse:"
   ]
  },
  {
   "cell_type": "code",
   "execution_count": 13,
   "metadata": {},
   "outputs": [
    {
     "name": "stdout",
     "output_type": "stream",
     "text": [
      "0.7.dev5120\n"
     ]
    }
   ],
   "source": [
    "import gammapy\n",
    "print(gammapy.__version__)"
   ]
  },
  {
   "cell_type": "code",
   "execution_count": 14,
   "metadata": {
    "collapsed": true
   },
   "outputs": [],
   "source": [
    "fermi_3fgl = SourceCatalog3FGL()\n",
    "fermi_3fhl = SourceCatalog3FHL()\n",
    "gammacat = SourceCatalogGammaCat()"
   ]
  },
  {
   "cell_type": "markdown",
   "metadata": {},
   "source": [
    "## Data Preparation\n",
    "\n",
    "For this analysis we choose to work with the source 'HESS J1507-622' and the associated Fermi-LAT sources '3FGL J1506.6-6219' and '3FHL J1507.9-6228e'. We access the data from the catalogs just by source name:"
   ]
  },
  {
   "cell_type": "code",
   "execution_count": 15,
   "metadata": {
    "collapsed": true
   },
   "outputs": [],
   "source": [
    "source_gammacat =  gammacat['HESS J1507-622']\n",
    "source_fermi_3fgl = fermi_3fgl['3FGL J1506.6-6219']\n",
    "source_fermi_3fhl = fermi_3fhl['3FHL J1507.9-6228e']"
   ]
  },
  {
   "cell_type": "markdown",
   "metadata": {},
   "source": [
    "The corresponding flux points data can be accessed with `.flux_points` attribute:"
   ]
  },
  {
   "cell_type": "code",
   "execution_count": 16,
   "metadata": {},
   "outputs": [
    {
     "data": {
      "text/html": [
       "&lt;Table length=6&gt;\n",
       "<table id=\"table4754839928\" class=\"table-striped table-bordered table-condensed\">\n",
       "<thead><tr><th>e_ref</th><th>dnde</th><th>dnde_errn</th><th>dnde_errp</th></tr></thead>\n",
       "<thead><tr><th>TeV</th><th>1 / (cm2 s TeV)</th><th>1 / (cm2 s TeV)</th><th>1 / (cm2 s TeV)</th></tr></thead>\n",
       "<thead><tr><th>float32</th><th>float32</th><th>float32</th><th>float32</th></tr></thead>\n",
       "<tr><td>0.8609</td><td>2.29119e-12</td><td>8.70543e-13</td><td>8.95502e-13</td></tr>\n",
       "<tr><td>1.56151</td><td>6.98172e-13</td><td>2.20354e-13</td><td>2.30407e-13</td></tr>\n",
       "<tr><td>2.76375</td><td>1.69062e-13</td><td>6.7587e-14</td><td>7.18838e-14</td></tr>\n",
       "<tr><td>4.8916</td><td>7.72925e-14</td><td>2.40132e-14</td><td>2.60749e-14</td></tr>\n",
       "<tr><td>9.98858</td><td>1.03253e-14</td><td>5.06315e-15</td><td>5.64195e-15</td></tr>\n",
       "<tr><td>27.0403</td><td>7.44987e-16</td><td>5.72089e-16</td><td>7.25999e-16</td></tr>\n",
       "</table>"
      ],
      "text/plain": [
       "<Table length=6>\n",
       " e_ref        dnde         dnde_errn       dnde_errp   \n",
       "  TeV   1 / (cm2 s TeV) 1 / (cm2 s TeV) 1 / (cm2 s TeV)\n",
       "float32     float32         float32         float32    \n",
       "------- --------------- --------------- ---------------\n",
       " 0.8609     2.29119e-12     8.70543e-13     8.95502e-13\n",
       "1.56151     6.98172e-13     2.20354e-13     2.30407e-13\n",
       "2.76375     1.69062e-13      6.7587e-14     7.18838e-14\n",
       " 4.8916     7.72925e-14     2.40132e-14     2.60749e-14\n",
       "9.98858     1.03253e-14     5.06315e-15     5.64195e-15\n",
       "27.0403     7.44987e-16     5.72089e-16     7.25999e-16"
      ]
     },
     "execution_count": 16,
     "metadata": {},
     "output_type": "execute_result"
    }
   ],
   "source": [
    "flux_points_gammacat = source_gammacat.flux_points\n",
    "flux_points_gammacat.table"
   ]
  },
  {
   "cell_type": "markdown",
   "metadata": {},
   "source": [
    "In the Fermi-LAT catalogs, integral flux points are given. Currently the flux point fitter only works with differential flux points, so we apply the conversion here."
   ]
  },
  {
   "cell_type": "code",
   "execution_count": 17,
   "metadata": {
    "collapsed": true
   },
   "outputs": [],
   "source": [
    "flux_points_3fgl = source_fermi_3fgl.flux_points.to_sed_type(\n",
    "    sed_type='dnde',\n",
    "    model=source_fermi_3fgl.spectral_model,\n",
    ")\n",
    "flux_points_3fhl = source_fermi_3fhl.flux_points.to_sed_type(\n",
    "    sed_type='dnde',\n",
    "    model=source_fermi_3fhl.spectral_model,\n",
    ")"
   ]
  },
  {
   "cell_type": "markdown",
   "metadata": {},
   "source": [
    "Finally we stack the flux points into a single `FluxPoints` object and drop the upper limit values, because currently we can't handle them in the fit:"
   ]
  },
  {
   "cell_type": "code",
   "execution_count": 18,
   "metadata": {
    "collapsed": true
   },
   "outputs": [],
   "source": [
    "# stack flux point tables\n",
    "flux_points = FluxPoints.stack([\n",
    "    flux_points_gammacat,\n",
    "    flux_points_3fhl,\n",
    "    flux_points_3fgl\n",
    "])\n",
    "\n",
    "# drop the flux upper limit values\n",
    "flux_points = flux_points.drop_ul()"
   ]
  },
  {
   "cell_type": "markdown",
   "metadata": {},
   "source": [
    "## Fitter Setup"
   ]
  },
  {
   "cell_type": "markdown",
   "metadata": {},
   "source": [
    "We initialze the fitter object with the `'chi2assym'` statistic, because we have assymmetric errors on the flux points. As optimizer we choose the `'simplex'` algorithm and to estimate the errors we use `'cover'` method: "
   ]
  },
  {
   "cell_type": "code",
   "execution_count": 19,
   "metadata": {
    "collapsed": true
   },
   "outputs": [],
   "source": [
    "fitter = FluxPointFitter(\n",
    "    stat='chi2assym',\n",
    "    optimizer='simplex',\n",
    "    error_estimator='covar',\n",
    ")"
   ]
  },
  {
   "cell_type": "markdown",
   "metadata": {},
   "source": [
    "## Power Law Fit\n",
    "\n",
    "First we start with fitting a simple [power law](http://docs.gammapy.org/en/latest/api/gammapy.spectrum.models.PowerLaw.html#gammapy.spectrum.models.PowerLaw)."
   ]
  },
  {
   "cell_type": "code",
   "execution_count": 20,
   "metadata": {
    "collapsed": true
   },
   "outputs": [],
   "source": [
    "pwl = PowerLaw(\n",
    "    index=2. * u.Unit(''),\n",
    "    amplitude=1e-12 * u.Unit('cm-2 s-1 TeV-1'),\n",
    "    reference=1. * u.TeV\n",
    ")"
   ]
  },
  {
   "cell_type": "markdown",
   "metadata": {},
   "source": [
    "After creating the model we run the fit by passing the `'flux_points'` and `'pwl'` objects:"
   ]
  },
  {
   "cell_type": "code",
   "execution_count": 21,
   "metadata": {
    "collapsed": true
   },
   "outputs": [],
   "source": [
    "result_pwl = fitter.run(flux_points, pwl)"
   ]
  },
  {
   "cell_type": "markdown",
   "metadata": {},
   "source": [
    "And print the result:"
   ]
  },
  {
   "cell_type": "code",
   "execution_count": 22,
   "metadata": {},
   "outputs": [
    {
     "name": "stdout",
     "output_type": "stream",
     "text": [
      "PowerLaw\n",
      "\n",
      "Parameters: \n",
      "\n",
      "\t   name     value     error         unit      min max frozen\n",
      "\t--------- --------- --------- --------------- --- --- ------\n",
      "\t    index 1.950e+00 2.656e-02                 nan nan  False\n",
      "\tamplitude 1.248e-12 1.599e-13 1 / (cm2 s TeV) nan nan  False\n",
      "\treference 1.000e+00 0.000e+00             TeV nan nan   True\n",
      "\n",
      "Covariance: \n",
      "\n",
      "\tname/name   index   amplitude\n",
      "\t--------- --------- ---------\n",
      "\t    index  0.000706 -2.25e-15\n",
      "\tamplitude -2.25e-15  2.56e-26\n"
     ]
    }
   ],
   "source": [
    "print(result_pwl['best-fit-model'])"
   ]
  },
  {
   "cell_type": "markdown",
   "metadata": {},
   "source": [
    "As a quick check we print the value of the fit statistics per degrees of freedom as well:"
   ]
  },
  {
   "cell_type": "code",
   "execution_count": 23,
   "metadata": {},
   "outputs": [
    {
     "name": "stdout",
     "output_type": "stream",
     "text": [
      "2.503884292158586\n"
     ]
    }
   ],
   "source": [
    "print(result_pwl['statval/dof'])"
   ]
  },
  {
   "cell_type": "markdown",
   "metadata": {},
   "source": [
    "Finally we plot the data points and the best fit model:"
   ]
  },
  {
   "cell_type": "code",
   "execution_count": 24,
   "metadata": {},
   "outputs": [
    {
     "data": {
      "application/javascript": [
       "/* Put everything inside the global mpl namespace */\n",
       "window.mpl = {};\n",
       "\n",
       "\n",
       "mpl.get_websocket_type = function() {\n",
       "    if (typeof(WebSocket) !== 'undefined') {\n",
       "        return WebSocket;\n",
       "    } else if (typeof(MozWebSocket) !== 'undefined') {\n",
       "        return MozWebSocket;\n",
       "    } else {\n",
       "        alert('Your browser does not have WebSocket support.' +\n",
       "              'Please try Chrome, Safari or Firefox ≥ 6. ' +\n",
       "              'Firefox 4 and 5 are also supported but you ' +\n",
       "              'have to enable WebSockets in about:config.');\n",
       "    };\n",
       "}\n",
       "\n",
       "mpl.figure = function(figure_id, websocket, ondownload, parent_element) {\n",
       "    this.id = figure_id;\n",
       "\n",
       "    this.ws = websocket;\n",
       "\n",
       "    this.supports_binary = (this.ws.binaryType != undefined);\n",
       "\n",
       "    if (!this.supports_binary) {\n",
       "        var warnings = document.getElementById(\"mpl-warnings\");\n",
       "        if (warnings) {\n",
       "            warnings.style.display = 'block';\n",
       "            warnings.textContent = (\n",
       "                \"This browser does not support binary websocket messages. \" +\n",
       "                    \"Performance may be slow.\");\n",
       "        }\n",
       "    }\n",
       "\n",
       "    this.imageObj = new Image();\n",
       "\n",
       "    this.context = undefined;\n",
       "    this.message = undefined;\n",
       "    this.canvas = undefined;\n",
       "    this.rubberband_canvas = undefined;\n",
       "    this.rubberband_context = undefined;\n",
       "    this.format_dropdown = undefined;\n",
       "\n",
       "    this.image_mode = 'full';\n",
       "\n",
       "    this.root = $('<div/>');\n",
       "    this._root_extra_style(this.root)\n",
       "    this.root.attr('style', 'display: inline-block');\n",
       "\n",
       "    $(parent_element).append(this.root);\n",
       "\n",
       "    this._init_header(this);\n",
       "    this._init_canvas(this);\n",
       "    this._init_toolbar(this);\n",
       "\n",
       "    var fig = this;\n",
       "\n",
       "    this.waiting = false;\n",
       "\n",
       "    this.ws.onopen =  function () {\n",
       "            fig.send_message(\"supports_binary\", {value: fig.supports_binary});\n",
       "            fig.send_message(\"send_image_mode\", {});\n",
       "            if (mpl.ratio != 1) {\n",
       "                fig.send_message(\"set_dpi_ratio\", {'dpi_ratio': mpl.ratio});\n",
       "            }\n",
       "            fig.send_message(\"refresh\", {});\n",
       "        }\n",
       "\n",
       "    this.imageObj.onload = function() {\n",
       "            if (fig.image_mode == 'full') {\n",
       "                // Full images could contain transparency (where diff images\n",
       "                // almost always do), so we need to clear the canvas so that\n",
       "                // there is no ghosting.\n",
       "                fig.context.clearRect(0, 0, fig.canvas.width, fig.canvas.height);\n",
       "            }\n",
       "            fig.context.drawImage(fig.imageObj, 0, 0);\n",
       "        };\n",
       "\n",
       "    this.imageObj.onunload = function() {\n",
       "        this.ws.close();\n",
       "    }\n",
       "\n",
       "    this.ws.onmessage = this._make_on_message_function(this);\n",
       "\n",
       "    this.ondownload = ondownload;\n",
       "}\n",
       "\n",
       "mpl.figure.prototype._init_header = function() {\n",
       "    var titlebar = $(\n",
       "        '<div class=\"ui-dialog-titlebar ui-widget-header ui-corner-all ' +\n",
       "        'ui-helper-clearfix\"/>');\n",
       "    var titletext = $(\n",
       "        '<div class=\"ui-dialog-title\" style=\"width: 100%; ' +\n",
       "        'text-align: center; padding: 3px;\"/>');\n",
       "    titlebar.append(titletext)\n",
       "    this.root.append(titlebar);\n",
       "    this.header = titletext[0];\n",
       "}\n",
       "\n",
       "\n",
       "\n",
       "mpl.figure.prototype._canvas_extra_style = function(canvas_div) {\n",
       "\n",
       "}\n",
       "\n",
       "\n",
       "mpl.figure.prototype._root_extra_style = function(canvas_div) {\n",
       "\n",
       "}\n",
       "\n",
       "mpl.figure.prototype._init_canvas = function() {\n",
       "    var fig = this;\n",
       "\n",
       "    var canvas_div = $('<div/>');\n",
       "\n",
       "    canvas_div.attr('style', 'position: relative; clear: both; outline: 0');\n",
       "\n",
       "    function canvas_keyboard_event(event) {\n",
       "        return fig.key_event(event, event['data']);\n",
       "    }\n",
       "\n",
       "    canvas_div.keydown('key_press', canvas_keyboard_event);\n",
       "    canvas_div.keyup('key_release', canvas_keyboard_event);\n",
       "    this.canvas_div = canvas_div\n",
       "    this._canvas_extra_style(canvas_div)\n",
       "    this.root.append(canvas_div);\n",
       "\n",
       "    var canvas = $('<canvas/>');\n",
       "    canvas.addClass('mpl-canvas');\n",
       "    canvas.attr('style', \"left: 0; top: 0; z-index: 0; outline: 0\")\n",
       "\n",
       "    this.canvas = canvas[0];\n",
       "    this.context = canvas[0].getContext(\"2d\");\n",
       "\n",
       "    var backingStore = this.context.backingStorePixelRatio ||\n",
       "\tthis.context.webkitBackingStorePixelRatio ||\n",
       "\tthis.context.mozBackingStorePixelRatio ||\n",
       "\tthis.context.msBackingStorePixelRatio ||\n",
       "\tthis.context.oBackingStorePixelRatio ||\n",
       "\tthis.context.backingStorePixelRatio || 1;\n",
       "\n",
       "    mpl.ratio = (window.devicePixelRatio || 1) / backingStore;\n",
       "\n",
       "    var rubberband = $('<canvas/>');\n",
       "    rubberband.attr('style', \"position: absolute; left: 0; top: 0; z-index: 1;\")\n",
       "\n",
       "    var pass_mouse_events = true;\n",
       "\n",
       "    canvas_div.resizable({\n",
       "        start: function(event, ui) {\n",
       "            pass_mouse_events = false;\n",
       "        },\n",
       "        resize: function(event, ui) {\n",
       "            fig.request_resize(ui.size.width, ui.size.height);\n",
       "        },\n",
       "        stop: function(event, ui) {\n",
       "            pass_mouse_events = true;\n",
       "            fig.request_resize(ui.size.width, ui.size.height);\n",
       "        },\n",
       "    });\n",
       "\n",
       "    function mouse_event_fn(event) {\n",
       "        if (pass_mouse_events)\n",
       "            return fig.mouse_event(event, event['data']);\n",
       "    }\n",
       "\n",
       "    rubberband.mousedown('button_press', mouse_event_fn);\n",
       "    rubberband.mouseup('button_release', mouse_event_fn);\n",
       "    // Throttle sequential mouse events to 1 every 20ms.\n",
       "    rubberband.mousemove('motion_notify', mouse_event_fn);\n",
       "\n",
       "    rubberband.mouseenter('figure_enter', mouse_event_fn);\n",
       "    rubberband.mouseleave('figure_leave', mouse_event_fn);\n",
       "\n",
       "    canvas_div.on(\"wheel\", function (event) {\n",
       "        event = event.originalEvent;\n",
       "        event['data'] = 'scroll'\n",
       "        if (event.deltaY < 0) {\n",
       "            event.step = 1;\n",
       "        } else {\n",
       "            event.step = -1;\n",
       "        }\n",
       "        mouse_event_fn(event);\n",
       "    });\n",
       "\n",
       "    canvas_div.append(canvas);\n",
       "    canvas_div.append(rubberband);\n",
       "\n",
       "    this.rubberband = rubberband;\n",
       "    this.rubberband_canvas = rubberband[0];\n",
       "    this.rubberband_context = rubberband[0].getContext(\"2d\");\n",
       "    this.rubberband_context.strokeStyle = \"#000000\";\n",
       "\n",
       "    this._resize_canvas = function(width, height) {\n",
       "        // Keep the size of the canvas, canvas container, and rubber band\n",
       "        // canvas in synch.\n",
       "        canvas_div.css('width', width)\n",
       "        canvas_div.css('height', height)\n",
       "\n",
       "        canvas.attr('width', width * mpl.ratio);\n",
       "        canvas.attr('height', height * mpl.ratio);\n",
       "        canvas.attr('style', 'width: ' + width + 'px; height: ' + height + 'px;');\n",
       "\n",
       "        rubberband.attr('width', width);\n",
       "        rubberband.attr('height', height);\n",
       "    }\n",
       "\n",
       "    // Set the figure to an initial 600x600px, this will subsequently be updated\n",
       "    // upon first draw.\n",
       "    this._resize_canvas(600, 600);\n",
       "\n",
       "    // Disable right mouse context menu.\n",
       "    $(this.rubberband_canvas).bind(\"contextmenu\",function(e){\n",
       "        return false;\n",
       "    });\n",
       "\n",
       "    function set_focus () {\n",
       "        canvas.focus();\n",
       "        canvas_div.focus();\n",
       "    }\n",
       "\n",
       "    window.setTimeout(set_focus, 100);\n",
       "}\n",
       "\n",
       "mpl.figure.prototype._init_toolbar = function() {\n",
       "    var fig = this;\n",
       "\n",
       "    var nav_element = $('<div/>')\n",
       "    nav_element.attr('style', 'width: 100%');\n",
       "    this.root.append(nav_element);\n",
       "\n",
       "    // Define a callback function for later on.\n",
       "    function toolbar_event(event) {\n",
       "        return fig.toolbar_button_onclick(event['data']);\n",
       "    }\n",
       "    function toolbar_mouse_event(event) {\n",
       "        return fig.toolbar_button_onmouseover(event['data']);\n",
       "    }\n",
       "\n",
       "    for(var toolbar_ind in mpl.toolbar_items) {\n",
       "        var name = mpl.toolbar_items[toolbar_ind][0];\n",
       "        var tooltip = mpl.toolbar_items[toolbar_ind][1];\n",
       "        var image = mpl.toolbar_items[toolbar_ind][2];\n",
       "        var method_name = mpl.toolbar_items[toolbar_ind][3];\n",
       "\n",
       "        if (!name) {\n",
       "            // put a spacer in here.\n",
       "            continue;\n",
       "        }\n",
       "        var button = $('<button/>');\n",
       "        button.addClass('ui-button ui-widget ui-state-default ui-corner-all ' +\n",
       "                        'ui-button-icon-only');\n",
       "        button.attr('role', 'button');\n",
       "        button.attr('aria-disabled', 'false');\n",
       "        button.click(method_name, toolbar_event);\n",
       "        button.mouseover(tooltip, toolbar_mouse_event);\n",
       "\n",
       "        var icon_img = $('<span/>');\n",
       "        icon_img.addClass('ui-button-icon-primary ui-icon');\n",
       "        icon_img.addClass(image);\n",
       "        icon_img.addClass('ui-corner-all');\n",
       "\n",
       "        var tooltip_span = $('<span/>');\n",
       "        tooltip_span.addClass('ui-button-text');\n",
       "        tooltip_span.html(tooltip);\n",
       "\n",
       "        button.append(icon_img);\n",
       "        button.append(tooltip_span);\n",
       "\n",
       "        nav_element.append(button);\n",
       "    }\n",
       "\n",
       "    var fmt_picker_span = $('<span/>');\n",
       "\n",
       "    var fmt_picker = $('<select/>');\n",
       "    fmt_picker.addClass('mpl-toolbar-option ui-widget ui-widget-content');\n",
       "    fmt_picker_span.append(fmt_picker);\n",
       "    nav_element.append(fmt_picker_span);\n",
       "    this.format_dropdown = fmt_picker[0];\n",
       "\n",
       "    for (var ind in mpl.extensions) {\n",
       "        var fmt = mpl.extensions[ind];\n",
       "        var option = $(\n",
       "            '<option/>', {selected: fmt === mpl.default_extension}).html(fmt);\n",
       "        fmt_picker.append(option)\n",
       "    }\n",
       "\n",
       "    // Add hover states to the ui-buttons\n",
       "    $( \".ui-button\" ).hover(\n",
       "        function() { $(this).addClass(\"ui-state-hover\");},\n",
       "        function() { $(this).removeClass(\"ui-state-hover\");}\n",
       "    );\n",
       "\n",
       "    var status_bar = $('<span class=\"mpl-message\"/>');\n",
       "    nav_element.append(status_bar);\n",
       "    this.message = status_bar[0];\n",
       "}\n",
       "\n",
       "mpl.figure.prototype.request_resize = function(x_pixels, y_pixels) {\n",
       "    // Request matplotlib to resize the figure. Matplotlib will then trigger a resize in the client,\n",
       "    // which will in turn request a refresh of the image.\n",
       "    this.send_message('resize', {'width': x_pixels, 'height': y_pixels});\n",
       "}\n",
       "\n",
       "mpl.figure.prototype.send_message = function(type, properties) {\n",
       "    properties['type'] = type;\n",
       "    properties['figure_id'] = this.id;\n",
       "    this.ws.send(JSON.stringify(properties));\n",
       "}\n",
       "\n",
       "mpl.figure.prototype.send_draw_message = function() {\n",
       "    if (!this.waiting) {\n",
       "        this.waiting = true;\n",
       "        this.ws.send(JSON.stringify({type: \"draw\", figure_id: this.id}));\n",
       "    }\n",
       "}\n",
       "\n",
       "\n",
       "mpl.figure.prototype.handle_save = function(fig, msg) {\n",
       "    var format_dropdown = fig.format_dropdown;\n",
       "    var format = format_dropdown.options[format_dropdown.selectedIndex].value;\n",
       "    fig.ondownload(fig, format);\n",
       "}\n",
       "\n",
       "\n",
       "mpl.figure.prototype.handle_resize = function(fig, msg) {\n",
       "    var size = msg['size'];\n",
       "    if (size[0] != fig.canvas.width || size[1] != fig.canvas.height) {\n",
       "        fig._resize_canvas(size[0], size[1]);\n",
       "        fig.send_message(\"refresh\", {});\n",
       "    };\n",
       "}\n",
       "\n",
       "mpl.figure.prototype.handle_rubberband = function(fig, msg) {\n",
       "    var x0 = msg['x0'] / mpl.ratio;\n",
       "    var y0 = (fig.canvas.height - msg['y0']) / mpl.ratio;\n",
       "    var x1 = msg['x1'] / mpl.ratio;\n",
       "    var y1 = (fig.canvas.height - msg['y1']) / mpl.ratio;\n",
       "    x0 = Math.floor(x0) + 0.5;\n",
       "    y0 = Math.floor(y0) + 0.5;\n",
       "    x1 = Math.floor(x1) + 0.5;\n",
       "    y1 = Math.floor(y1) + 0.5;\n",
       "    var min_x = Math.min(x0, x1);\n",
       "    var min_y = Math.min(y0, y1);\n",
       "    var width = Math.abs(x1 - x0);\n",
       "    var height = Math.abs(y1 - y0);\n",
       "\n",
       "    fig.rubberband_context.clearRect(\n",
       "        0, 0, fig.canvas.width, fig.canvas.height);\n",
       "\n",
       "    fig.rubberband_context.strokeRect(min_x, min_y, width, height);\n",
       "}\n",
       "\n",
       "mpl.figure.prototype.handle_figure_label = function(fig, msg) {\n",
       "    // Updates the figure title.\n",
       "    fig.header.textContent = msg['label'];\n",
       "}\n",
       "\n",
       "mpl.figure.prototype.handle_cursor = function(fig, msg) {\n",
       "    var cursor = msg['cursor'];\n",
       "    switch(cursor)\n",
       "    {\n",
       "    case 0:\n",
       "        cursor = 'pointer';\n",
       "        break;\n",
       "    case 1:\n",
       "        cursor = 'default';\n",
       "        break;\n",
       "    case 2:\n",
       "        cursor = 'crosshair';\n",
       "        break;\n",
       "    case 3:\n",
       "        cursor = 'move';\n",
       "        break;\n",
       "    }\n",
       "    fig.rubberband_canvas.style.cursor = cursor;\n",
       "}\n",
       "\n",
       "mpl.figure.prototype.handle_message = function(fig, msg) {\n",
       "    fig.message.textContent = msg['message'];\n",
       "}\n",
       "\n",
       "mpl.figure.prototype.handle_draw = function(fig, msg) {\n",
       "    // Request the server to send over a new figure.\n",
       "    fig.send_draw_message();\n",
       "}\n",
       "\n",
       "mpl.figure.prototype.handle_image_mode = function(fig, msg) {\n",
       "    fig.image_mode = msg['mode'];\n",
       "}\n",
       "\n",
       "mpl.figure.prototype.updated_canvas_event = function() {\n",
       "    // Called whenever the canvas gets updated.\n",
       "    this.send_message(\"ack\", {});\n",
       "}\n",
       "\n",
       "// A function to construct a web socket function for onmessage handling.\n",
       "// Called in the figure constructor.\n",
       "mpl.figure.prototype._make_on_message_function = function(fig) {\n",
       "    return function socket_on_message(evt) {\n",
       "        if (evt.data instanceof Blob) {\n",
       "            /* FIXME: We get \"Resource interpreted as Image but\n",
       "             * transferred with MIME type text/plain:\" errors on\n",
       "             * Chrome.  But how to set the MIME type?  It doesn't seem\n",
       "             * to be part of the websocket stream */\n",
       "            evt.data.type = \"image/png\";\n",
       "\n",
       "            /* Free the memory for the previous frames */\n",
       "            if (fig.imageObj.src) {\n",
       "                (window.URL || window.webkitURL).revokeObjectURL(\n",
       "                    fig.imageObj.src);\n",
       "            }\n",
       "\n",
       "            fig.imageObj.src = (window.URL || window.webkitURL).createObjectURL(\n",
       "                evt.data);\n",
       "            fig.updated_canvas_event();\n",
       "            fig.waiting = false;\n",
       "            return;\n",
       "        }\n",
       "        else if (typeof evt.data === 'string' && evt.data.slice(0, 21) == \"data:image/png;base64\") {\n",
       "            fig.imageObj.src = evt.data;\n",
       "            fig.updated_canvas_event();\n",
       "            fig.waiting = false;\n",
       "            return;\n",
       "        }\n",
       "\n",
       "        var msg = JSON.parse(evt.data);\n",
       "        var msg_type = msg['type'];\n",
       "\n",
       "        // Call the  \"handle_{type}\" callback, which takes\n",
       "        // the figure and JSON message as its only arguments.\n",
       "        try {\n",
       "            var callback = fig[\"handle_\" + msg_type];\n",
       "        } catch (e) {\n",
       "            console.log(\"No handler for the '\" + msg_type + \"' message type: \", msg);\n",
       "            return;\n",
       "        }\n",
       "\n",
       "        if (callback) {\n",
       "            try {\n",
       "                // console.log(\"Handling '\" + msg_type + \"' message: \", msg);\n",
       "                callback(fig, msg);\n",
       "            } catch (e) {\n",
       "                console.log(\"Exception inside the 'handler_\" + msg_type + \"' callback:\", e, e.stack, msg);\n",
       "            }\n",
       "        }\n",
       "    };\n",
       "}\n",
       "\n",
       "// from http://stackoverflow.com/questions/1114465/getting-mouse-location-in-canvas\n",
       "mpl.findpos = function(e) {\n",
       "    //this section is from http://www.quirksmode.org/js/events_properties.html\n",
       "    var targ;\n",
       "    if (!e)\n",
       "        e = window.event;\n",
       "    if (e.target)\n",
       "        targ = e.target;\n",
       "    else if (e.srcElement)\n",
       "        targ = e.srcElement;\n",
       "    if (targ.nodeType == 3) // defeat Safari bug\n",
       "        targ = targ.parentNode;\n",
       "\n",
       "    // jQuery normalizes the pageX and pageY\n",
       "    // pageX,Y are the mouse positions relative to the document\n",
       "    // offset() returns the position of the element relative to the document\n",
       "    var x = e.pageX - $(targ).offset().left;\n",
       "    var y = e.pageY - $(targ).offset().top;\n",
       "\n",
       "    return {\"x\": x, \"y\": y};\n",
       "};\n",
       "\n",
       "/*\n",
       " * return a copy of an object with only non-object keys\n",
       " * we need this to avoid circular references\n",
       " * http://stackoverflow.com/a/24161582/3208463\n",
       " */\n",
       "function simpleKeys (original) {\n",
       "  return Object.keys(original).reduce(function (obj, key) {\n",
       "    if (typeof original[key] !== 'object')\n",
       "        obj[key] = original[key]\n",
       "    return obj;\n",
       "  }, {});\n",
       "}\n",
       "\n",
       "mpl.figure.prototype.mouse_event = function(event, name) {\n",
       "    var canvas_pos = mpl.findpos(event)\n",
       "\n",
       "    if (name === 'button_press')\n",
       "    {\n",
       "        this.canvas.focus();\n",
       "        this.canvas_div.focus();\n",
       "    }\n",
       "\n",
       "    var x = canvas_pos.x * mpl.ratio;\n",
       "    var y = canvas_pos.y * mpl.ratio;\n",
       "\n",
       "    this.send_message(name, {x: x, y: y, button: event.button,\n",
       "                             step: event.step,\n",
       "                             guiEvent: simpleKeys(event)});\n",
       "\n",
       "    /* This prevents the web browser from automatically changing to\n",
       "     * the text insertion cursor when the button is pressed.  We want\n",
       "     * to control all of the cursor setting manually through the\n",
       "     * 'cursor' event from matplotlib */\n",
       "    event.preventDefault();\n",
       "    return false;\n",
       "}\n",
       "\n",
       "mpl.figure.prototype._key_event_extra = function(event, name) {\n",
       "    // Handle any extra behaviour associated with a key event\n",
       "}\n",
       "\n",
       "mpl.figure.prototype.key_event = function(event, name) {\n",
       "\n",
       "    // Prevent repeat events\n",
       "    if (name == 'key_press')\n",
       "    {\n",
       "        if (event.which === this._key)\n",
       "            return;\n",
       "        else\n",
       "            this._key = event.which;\n",
       "    }\n",
       "    if (name == 'key_release')\n",
       "        this._key = null;\n",
       "\n",
       "    var value = '';\n",
       "    if (event.ctrlKey && event.which != 17)\n",
       "        value += \"ctrl+\";\n",
       "    if (event.altKey && event.which != 18)\n",
       "        value += \"alt+\";\n",
       "    if (event.shiftKey && event.which != 16)\n",
       "        value += \"shift+\";\n",
       "\n",
       "    value += 'k';\n",
       "    value += event.which.toString();\n",
       "\n",
       "    this._key_event_extra(event, name);\n",
       "\n",
       "    this.send_message(name, {key: value,\n",
       "                             guiEvent: simpleKeys(event)});\n",
       "    return false;\n",
       "}\n",
       "\n",
       "mpl.figure.prototype.toolbar_button_onclick = function(name) {\n",
       "    if (name == 'download') {\n",
       "        this.handle_save(this, null);\n",
       "    } else {\n",
       "        this.send_message(\"toolbar_button\", {name: name});\n",
       "    }\n",
       "};\n",
       "\n",
       "mpl.figure.prototype.toolbar_button_onmouseover = function(tooltip) {\n",
       "    this.message.textContent = tooltip;\n",
       "};\n",
       "mpl.toolbar_items = [[\"Home\", \"Reset original view\", \"fa fa-home icon-home\", \"home\"], [\"Back\", \"Back to  previous view\", \"fa fa-arrow-left icon-arrow-left\", \"back\"], [\"Forward\", \"Forward to next view\", \"fa fa-arrow-right icon-arrow-right\", \"forward\"], [\"\", \"\", \"\", \"\"], [\"Pan\", \"Pan axes with left mouse, zoom with right\", \"fa fa-arrows icon-move\", \"pan\"], [\"Zoom\", \"Zoom to rectangle\", \"fa fa-square-o icon-check-empty\", \"zoom\"], [\"\", \"\", \"\", \"\"], [\"Download\", \"Download plot\", \"fa fa-floppy-o icon-save\", \"download\"]];\n",
       "\n",
       "mpl.extensions = [\"eps\", \"jpeg\", \"pdf\", \"png\", \"ps\", \"raw\", \"svg\", \"tif\"];\n",
       "\n",
       "mpl.default_extension = \"png\";var comm_websocket_adapter = function(comm) {\n",
       "    // Create a \"websocket\"-like object which calls the given IPython comm\n",
       "    // object with the appropriate methods. Currently this is a non binary\n",
       "    // socket, so there is still some room for performance tuning.\n",
       "    var ws = {};\n",
       "\n",
       "    ws.close = function() {\n",
       "        comm.close()\n",
       "    };\n",
       "    ws.send = function(m) {\n",
       "        //console.log('sending', m);\n",
       "        comm.send(m);\n",
       "    };\n",
       "    // Register the callback with on_msg.\n",
       "    comm.on_msg(function(msg) {\n",
       "        //console.log('receiving', msg['content']['data'], msg);\n",
       "        // Pass the mpl event to the overriden (by mpl) onmessage function.\n",
       "        ws.onmessage(msg['content']['data'])\n",
       "    });\n",
       "    return ws;\n",
       "}\n",
       "\n",
       "mpl.mpl_figure_comm = function(comm, msg) {\n",
       "    // This is the function which gets called when the mpl process\n",
       "    // starts-up an IPython Comm through the \"matplotlib\" channel.\n",
       "\n",
       "    var id = msg.content.data.id;\n",
       "    // Get hold of the div created by the display call when the Comm\n",
       "    // socket was opened in Python.\n",
       "    var element = $(\"#\" + id);\n",
       "    var ws_proxy = comm_websocket_adapter(comm)\n",
       "\n",
       "    function ondownload(figure, format) {\n",
       "        window.open(figure.imageObj.src);\n",
       "    }\n",
       "\n",
       "    var fig = new mpl.figure(id, ws_proxy,\n",
       "                           ondownload,\n",
       "                           element.get(0));\n",
       "\n",
       "    // Call onopen now - mpl needs it, as it is assuming we've passed it a real\n",
       "    // web socket which is closed, not our websocket->open comm proxy.\n",
       "    ws_proxy.onopen();\n",
       "\n",
       "    fig.parent_element = element.get(0);\n",
       "    fig.cell_info = mpl.find_output_cell(\"<div id='\" + id + \"'></div>\");\n",
       "    if (!fig.cell_info) {\n",
       "        console.error(\"Failed to find cell for figure\", id, fig);\n",
       "        return;\n",
       "    }\n",
       "\n",
       "    var output_index = fig.cell_info[2]\n",
       "    var cell = fig.cell_info[0];\n",
       "\n",
       "};\n",
       "\n",
       "mpl.figure.prototype.handle_close = function(fig, msg) {\n",
       "    var width = fig.canvas.width/mpl.ratio\n",
       "    fig.root.unbind('remove')\n",
       "\n",
       "    // Update the output cell to use the data from the current canvas.\n",
       "    fig.push_to_output();\n",
       "    var dataURL = fig.canvas.toDataURL();\n",
       "    // Re-enable the keyboard manager in IPython - without this line, in FF,\n",
       "    // the notebook keyboard shortcuts fail.\n",
       "    IPython.keyboard_manager.enable()\n",
       "    $(fig.parent_element).html('<img src=\"' + dataURL + '\" width=\"' + width + '\">');\n",
       "    fig.close_ws(fig, msg);\n",
       "}\n",
       "\n",
       "mpl.figure.prototype.close_ws = function(fig, msg){\n",
       "    fig.send_message('closing', msg);\n",
       "    // fig.ws.close()\n",
       "}\n",
       "\n",
       "mpl.figure.prototype.push_to_output = function(remove_interactive) {\n",
       "    // Turn the data on the canvas into data in the output cell.\n",
       "    var width = this.canvas.width/mpl.ratio\n",
       "    var dataURL = this.canvas.toDataURL();\n",
       "    this.cell_info[1]['text/html'] = '<img src=\"' + dataURL + '\" width=\"' + width + '\">';\n",
       "}\n",
       "\n",
       "mpl.figure.prototype.updated_canvas_event = function() {\n",
       "    // Tell IPython that the notebook contents must change.\n",
       "    IPython.notebook.set_dirty(true);\n",
       "    this.send_message(\"ack\", {});\n",
       "    var fig = this;\n",
       "    // Wait a second, then push the new image to the DOM so\n",
       "    // that it is saved nicely (might be nice to debounce this).\n",
       "    setTimeout(function () { fig.push_to_output() }, 1000);\n",
       "}\n",
       "\n",
       "mpl.figure.prototype._init_toolbar = function() {\n",
       "    var fig = this;\n",
       "\n",
       "    var nav_element = $('<div/>')\n",
       "    nav_element.attr('style', 'width: 100%');\n",
       "    this.root.append(nav_element);\n",
       "\n",
       "    // Define a callback function for later on.\n",
       "    function toolbar_event(event) {\n",
       "        return fig.toolbar_button_onclick(event['data']);\n",
       "    }\n",
       "    function toolbar_mouse_event(event) {\n",
       "        return fig.toolbar_button_onmouseover(event['data']);\n",
       "    }\n",
       "\n",
       "    for(var toolbar_ind in mpl.toolbar_items){\n",
       "        var name = mpl.toolbar_items[toolbar_ind][0];\n",
       "        var tooltip = mpl.toolbar_items[toolbar_ind][1];\n",
       "        var image = mpl.toolbar_items[toolbar_ind][2];\n",
       "        var method_name = mpl.toolbar_items[toolbar_ind][3];\n",
       "\n",
       "        if (!name) { continue; };\n",
       "\n",
       "        var button = $('<button class=\"btn btn-default\" href=\"#\" title=\"' + name + '\"><i class=\"fa ' + image + ' fa-lg\"></i></button>');\n",
       "        button.click(method_name, toolbar_event);\n",
       "        button.mouseover(tooltip, toolbar_mouse_event);\n",
       "        nav_element.append(button);\n",
       "    }\n",
       "\n",
       "    // Add the status bar.\n",
       "    var status_bar = $('<span class=\"mpl-message\" style=\"text-align:right; float: right;\"/>');\n",
       "    nav_element.append(status_bar);\n",
       "    this.message = status_bar[0];\n",
       "\n",
       "    // Add the close button to the window.\n",
       "    var buttongrp = $('<div class=\"btn-group inline pull-right\"></div>');\n",
       "    var button = $('<button class=\"btn btn-mini btn-primary\" href=\"#\" title=\"Stop Interaction\"><i class=\"fa fa-power-off icon-remove icon-large\"></i></button>');\n",
       "    button.click(function (evt) { fig.handle_close(fig, {}); } );\n",
       "    button.mouseover('Stop Interaction', toolbar_mouse_event);\n",
       "    buttongrp.append(button);\n",
       "    var titlebar = this.root.find($('.ui-dialog-titlebar'));\n",
       "    titlebar.prepend(buttongrp);\n",
       "}\n",
       "\n",
       "mpl.figure.prototype._root_extra_style = function(el){\n",
       "    var fig = this\n",
       "    el.on(\"remove\", function(){\n",
       "\tfig.close_ws(fig, {});\n",
       "    });\n",
       "}\n",
       "\n",
       "mpl.figure.prototype._canvas_extra_style = function(el){\n",
       "    // this is important to make the div 'focusable\n",
       "    el.attr('tabindex', 0)\n",
       "    // reach out to IPython and tell the keyboard manager to turn it's self\n",
       "    // off when our div gets focus\n",
       "\n",
       "    // location in version 3\n",
       "    if (IPython.notebook.keyboard_manager) {\n",
       "        IPython.notebook.keyboard_manager.register_events(el);\n",
       "    }\n",
       "    else {\n",
       "        // location in version 2\n",
       "        IPython.keyboard_manager.register_events(el);\n",
       "    }\n",
       "\n",
       "}\n",
       "\n",
       "mpl.figure.prototype._key_event_extra = function(event, name) {\n",
       "    var manager = IPython.notebook.keyboard_manager;\n",
       "    if (!manager)\n",
       "        manager = IPython.keyboard_manager;\n",
       "\n",
       "    // Check for shift+enter\n",
       "    if (event.shiftKey && event.which == 13) {\n",
       "        this.canvas_div.blur();\n",
       "        // select the cell after this one\n",
       "        var index = IPython.notebook.find_cell_index(this.cell_info[0]);\n",
       "        IPython.notebook.select(index + 1);\n",
       "    }\n",
       "}\n",
       "\n",
       "mpl.figure.prototype.handle_save = function(fig, msg) {\n",
       "    fig.ondownload(fig, null);\n",
       "}\n",
       "\n",
       "\n",
       "mpl.find_output_cell = function(html_output) {\n",
       "    // Return the cell and output element which can be found *uniquely* in the notebook.\n",
       "    // Note - this is a bit hacky, but it is done because the \"notebook_saving.Notebook\"\n",
       "    // IPython event is triggered only after the cells have been serialised, which for\n",
       "    // our purposes (turning an active figure into a static one), is too late.\n",
       "    var cells = IPython.notebook.get_cells();\n",
       "    var ncells = cells.length;\n",
       "    for (var i=0; i<ncells; i++) {\n",
       "        var cell = cells[i];\n",
       "        if (cell.cell_type === 'code'){\n",
       "            for (var j=0; j<cell.output_area.outputs.length; j++) {\n",
       "                var data = cell.output_area.outputs[j];\n",
       "                if (data.data) {\n",
       "                    // IPython >= 3 moved mimebundle to data attribute of output\n",
       "                    data = data.data;\n",
       "                }\n",
       "                if (data['text/html'] == html_output) {\n",
       "                    return [cell, data, j];\n",
       "                }\n",
       "            }\n",
       "        }\n",
       "    }\n",
       "}\n",
       "\n",
       "// Register the function which deals with the matplotlib target/channel.\n",
       "// The kernel may be null if the page has been refreshed.\n",
       "if (IPython.notebook.kernel != null) {\n",
       "    IPython.notebook.kernel.comm_manager.register_target('matplotlib', mpl.mpl_figure_comm);\n",
       "}\n"
      ],
      "text/plain": [
       "<IPython.core.display.Javascript object>"
      ]
     },
     "metadata": {},
     "output_type": "display_data"
    },
    {
     "data": {
      "text/html": [
       "<img src=\"data:image/png;base64,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\" width=\"734\">"
      ],
      "text/plain": [
       "<IPython.core.display.HTML object>"
      ]
     },
     "metadata": {},
     "output_type": "display_data"
    },
    {
     "data": {
      "text/plain": [
       "(1e-13, 1e-11)"
      ]
     },
     "execution_count": 24,
     "metadata": {},
     "output_type": "execute_result"
    }
   ],
   "source": [
    "ax = flux_points.plot(energy_power=2)\n",
    "result_pwl['best-fit-model'].plot(energy_range=[1e-4, 1e2] * u.TeV, ax=ax, energy_power=2)\n",
    "result_pwl['best-fit-model'].plot_error(energy_range=[1e-4, 1e2] * u.TeV, ax=ax, energy_power=2)\n",
    "ax.set_ylim(1e-13, 1e-11)"
   ]
  },
  {
   "cell_type": "markdown",
   "metadata": {},
   "source": [
    "## Exponential Cut-Off Powerlaw Fit\n",
    "\n",
    "Next we fit an [exponential cut-off power](http://docs.gammapy.org/en/latest/api/gammapy.spectrum.models.ExponentialCutoffPowerLaw.html#gammapy.spectrum.models.ExponentialCutoffPowerLaw) law to the data."
   ]
  },
  {
   "cell_type": "code",
   "execution_count": 25,
   "metadata": {
    "collapsed": true
   },
   "outputs": [],
   "source": [
    "ecpl = ExponentialCutoffPowerLaw(\n",
    "    index=2. * u.Unit(''),\n",
    "    amplitude=1e-12 * u.Unit('cm-2 s-1 TeV-1'),\n",
    "    reference=1. * u.TeV,\n",
    "    lambda_=0. / u.TeV\n",
    ")"
   ]
  },
  {
   "cell_type": "markdown",
   "metadata": {},
   "source": [
    "We run the fitter again by passing the flux points and the `ecpl` model instance:"
   ]
  },
  {
   "cell_type": "code",
   "execution_count": 26,
   "metadata": {},
   "outputs": [
    {
     "name": "stdout",
     "output_type": "stream",
     "text": [
      "ExponentialCutoffPowerLaw\n",
      "\n",
      "Parameters: \n",
      "\n",
      "\t   name     value     error         unit      min max frozen\n",
      "\t--------- --------- --------- --------------- --- --- ------\n",
      "\t    index 1.876e+00 4.388e-02                 nan nan  False\n",
      "\tamplitude 1.932e-12 3.873e-13 1 / (cm2 s TeV) nan nan  False\n",
      "\treference 1.000e+00 0.000e+00             TeV nan nan   True\n",
      "\t  lambda_ 6.147e-02 5.795e-02         1 / TeV nan nan  False\n",
      "\n",
      "Covariance: \n",
      "\n",
      "\tname/name   index   amplitude lambda_ \n",
      "\t--------- --------- --------- --------\n",
      "\t    index   0.00193 -1.35e-14 -0.00178\n",
      "\tamplitude -1.35e-14   1.5e-25 1.73e-14\n",
      "\t  lambda_  -0.00178  1.73e-14  0.00336\n"
     ]
    }
   ],
   "source": [
    "result_ecpl = fitter.run(flux_points, ecpl)\n",
    "print(result_ecpl['best-fit-model'])"
   ]
  },
  {
   "cell_type": "code",
   "execution_count": 27,
   "metadata": {},
   "outputs": [
    {
     "name": "stdout",
     "output_type": "stream",
     "text": [
      "2.0013539393880415\n"
     ]
    }
   ],
   "source": [
    "print(result_ecpl['statval/dof'])"
   ]
  },
  {
   "cell_type": "markdown",
   "metadata": {},
   "source": [
    "We plot the data and best fit model:"
   ]
  },
  {
   "cell_type": "code",
   "execution_count": 28,
   "metadata": {},
   "outputs": [
    {
     "data": {
      "text/plain": [
       "(1e-13, 1e-11)"
      ]
     },
     "execution_count": 28,
     "metadata": {},
     "output_type": "execute_result"
    }
   ],
   "source": [
    "ax = flux_points.plot(energy_power=2)\n",
    "result_ecpl['best-fit-model'].plot(energy_range=[1e-4, 1e2] * u.TeV, ax=ax, energy_power=2)\n",
    "result_ecpl['best-fit-model'].plot_error(energy_range=[1e-4, 1e2] * u.TeV, ax=ax, energy_power=2)\n",
    "ax.set_ylim(1e-13, 1e-11)"
   ]
  },
  {
   "cell_type": "markdown",
   "metadata": {},
   "source": [
    "## Log-Parabola Fit\n",
    "\n",
    "Finally we try to fit a [log-parabola](http://docs.gammapy.org/en/latest/api/gammapy.spectrum.models.LogParabola.html#gammapy.spectrum.models.LogParabola) model:"
   ]
  },
  {
   "cell_type": "code",
   "execution_count": 18,
   "metadata": {
    "collapsed": true
   },
   "outputs": [],
   "source": [
    "log_parabola = LogParabola(\n",
    "    alpha=2. * u.Unit(''),\n",
    "    amplitude=1e-12 * u.Unit('cm-2 s-1 TeV-1'),\n",
    "    reference=1. * u.TeV,\n",
    "    beta=0. * u.Unit('')\n",
    ")"
   ]
  },
  {
   "cell_type": "code",
   "execution_count": 19,
   "metadata": {},
   "outputs": [
    {
     "name": "stdout",
     "output_type": "stream",
     "text": [
      "LogParabola\n",
      "\n",
      "Parameters: \n",
      "\n",
      "\t   name     value     error         unit      min max frozen\n",
      "\t--------- --------- --------- --------------- --- --- ------\n",
      "\tamplitude 1.957e-12 2.803e-13 1 / (cm2 s TeV) nan nan  False\n",
      "\treference 1.000e+00 0.000e+00             TeV nan nan   True\n",
      "\t    alpha 2.141e+00 7.391e-02                 nan nan  False\n",
      "\t     beta 4.968e-02 1.761e-02                 nan nan  False\n",
      "\n",
      "Covariance: \n",
      "\n",
      "\tname/name amplitude  alpha     beta  \n",
      "\t--------- --------- -------- --------\n",
      "\tamplitude  7.86e-26 1.86e-15 2.21e-15\n",
      "\t    alpha  1.86e-15  0.00546  0.00112\n",
      "\t     beta  2.21e-15  0.00112  0.00031\n"
     ]
    }
   ],
   "source": [
    "result_log_parabola = fitter.run(flux_points, log_parabola)\n",
    "print(result_log_parabola['best-fit-model'])"
   ]
  },
  {
   "cell_type": "code",
   "execution_count": 20,
   "metadata": {},
   "outputs": [
    {
     "name": "stdout",
     "output_type": "stream",
     "text": [
      "1.589033377366349\n"
     ]
    }
   ],
   "source": [
    "print(result_log_parabola['statval/dof'])"
   ]
  },
  {
   "cell_type": "code",
   "execution_count": 21,
   "metadata": {},
   "outputs": [
    {
     "data": {
      "text/plain": [
       "(1e-13, 1e-11)"
      ]
     },
     "execution_count": 21,
     "metadata": {},
     "output_type": "execute_result"
    },
    {
     "data": {
      "image/png": "[encoded data removed]",
      "text/plain": [
       "<matplotlib.figure.Figure at 0x7f8b291bee10>"
      ]
     },
     "metadata": {},
     "output_type": "display_data"
    }
   ],
   "source": [
    "ax = flux_points.plot(energy_power=2)\n",
    "result_log_parabola['best-fit-model'].plot(energy_range=[1e-4, 1e2] * u.TeV, ax=ax, energy_power=2)\n",
    "result_log_parabola['best-fit-model'].plot_error(energy_range=[1e-4, 1e2] * u.TeV, ax=ax, energy_power=2)\n",
    "ax.set_ylim(1e-13, 1e-11)"
   ]
  },
  {
   "cell_type": "markdown",
   "metadata": {},
   "source": [
    "## Exercises\n",
    "\n",
    "- Fit a `PowerLaw2` and `ExponentialCutoffPowerLaw3FGL` to the same data.\n",
    "- Fit a `ExponentialCutoffPowerLaw` model to Vela X ('HESS J0835-455') only and check if the best fit values correspond to the values given in the Gammacat catalog"
   ]
  },
  {
   "cell_type": "markdown",
   "metadata": {},
   "source": [
    "## What next?\n",
    "\n",
    "This was an introduction to SED fitting in Gammapy.\n",
    "\n",
    "* If you would like to learn how to perform a full Poisson maximum likelihood spectral fit, please check out the [spectrum pipe](spectrum_pipe.ipynb) tutorial.\n",
    "* If you are interested in simulation of spectral data in the context of CTA, please check out the [spectrum simulation cta](spectrum_simulation_cta.ipynb) notebook.\n",
    "* To learn more about other parts of Gammapy (e.g. Fermi-LAT and TeV data analysis), check out the other tutorial notebooks.\n",
    "* To see what's available in Gammapy, browse the [Gammapy docs](http://docs.gammapy.org/) or use the full-text search.\n",
    "* If you have any questions, ask on the mailing list ."
   ]
  }
 ],
 "metadata": {
  "kernelspec": {
   "display_name": "Python [conda env:gammapy-dev]",
   "language": "python",
   "name": "conda-env-gammapy-dev-py"
  },
  "language_info": {
   "codemirror_mode": {
    "name": "ipython",
    "version": 3
   },
   "file_extension": ".py",
   "mimetype": "text/x-python",
   "name": "python",
   "nbconvert_exporter": "python",
   "pygments_lexer": "ipython3",
   "version": "3.6.1"
  },
  "toc": {
   "colors": {
    "hover_highlight": "#DAA520",
    "navigate_num": "#000000",
    "navigate_text": "#333333",
    "running_highlight": "#FF0000",
    "selected_highlight": "#FFD700",
    "sidebar_border": "#EEEEEE",
    "wrapper_background": "#FFFFFF"
   },
   "moveMenuLeft": true,
   "nav_menu": {
    "height": "163px",
    "width": "253px"
   },
   "navigate_menu": true,
   "number_sections": false,
   "sideBar": true,
   "threshold": 4,
   "toc_cell": false,
   "toc_section_display": "block",
   "toc_window_display": false,
   "widenNotebook": false
  }
 },
 "nbformat": 4,
 "nbformat_minor": 1
}
