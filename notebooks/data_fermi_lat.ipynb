{
 "cells": [
  {
   "cell_type": "markdown",
   "metadata": {},
   "source": [
    "# Fermi-LAT data with Gammapy\n",
    "\n",
    "## Introduction\n",
    "\n",
    "This tutorial will show you how to work with pepared Fermi-LAT datasets.\n",
    "\n",
    "The main class to load and handle the data is:\n",
    "\n",
    "* [gammapy.dataset.FermiLATDataset](http://docs.gammapy.org/en/latest/api/gammapy.datasets.FermiLATDataset.html)\n",
    "\n",
    "\n",
    "Additionally we will use objects of these types:\n",
    "\n",
    "* [gammapy.data.EventList](http://docs.gammapy.org/en/latest/api/gammapy.data.EventList.html) for event lists.\n",
    "* [gammapy.irf.EnergyDependentTablePSF](http://docs.gammapy.org/en/latest/api/gammapy.irf.EnergyDependentTablePSF.html) for the point spread function.\n",
    "* [gammapy.cube.SkyCube](http://docs.gammapy.org/en/latest/api/gammapy.cube.SkyCube.html) for the galactic diffuse background model. \n",
    "* [gammapy.cube.SkyCubeHPX](http://docs.gammapy.org/en/latest/api/gammapy.cube.SkyCubeHPX.html) for the exposure. \n",
    "\n",
    "* [gammapy.spectrum.models.TableModel](http://docs.gammapy.org/en/latest/api/gammapy.spectrum.models.TableModel.html#gammapy.spectrum.models.TableModel) for the isotropic diffuse model.\n",
    "* [gammapy.image.FermiLATBasicImageEstimator](http://docs.gammapy.org/en/latest/api/gammapy.image.FermiLATBasicImageEstimator.html) for generating a full WCS dataset, that can be used as an input for image based analyses.\n",
    "\n",
    "\n",
    "## Setup\n",
    "\n",
    "**IMPORTANT**: For this notebook you have to get the prepared datasets provided in the [gammapy-fermi-lat-data](https://github.com/gammapy/gammapy-fermi-lat-data) repository. Please follow the instructions [here](https://github.com/gammapy/gammapy-fermi-lat-data#get-the-data) to download the data and setup your environment."
   ]
  },
  {
   "cell_type": "code",
   "execution_count": 1,
   "metadata": {
    "collapsed": true
   },
   "outputs": [],
   "source": [
    "%matplotlib inline\n",
    "import numpy as np\n",
    "import matplotlib.pyplot as plt"
   ]
  },
  {
   "cell_type": "code",
   "execution_count": 2,
   "metadata": {
    "collapsed": true
   },
   "outputs": [],
   "source": [
    "from astropy import units as u\n",
    "from astropy.visualization import simple_norm\n",
    "from gammapy.datasets import FermiLATDataset\n",
    "from gammapy.image import SkyImage, FermiLATBasicImageEstimator"
   ]
  },
  {
   "cell_type": "markdown",
   "metadata": {},
   "source": [
    "## FermiLATDataset class\n",
    "\n",
    "To access the prepared Fermi-LAT datasets Gammapy provides a convenience class called [FermiLATDataset](http://docs.gammapy.org/en/latest/api/gammapy.datasets.FermiLATDataset.html#gammapy.datasets.FermiLATDataset). It is initialized with a path to an index configuration file, which tells the dataset class where to find the data. Once \n",
    "the object is initialized the data can be accessed as properties of this object, which return the corresponding Gammapy data objects for event lists, sky images and point spread functions (PSF). \n",
    "\n",
    "So let's start with exploring the Fermi-LAT 2FHL dataset:"
   ]
  },
  {
   "cell_type": "code",
   "execution_count": 3,
   "metadata": {},
   "outputs": [
    {
     "name": "stdout",
     "output_type": "stream",
     "text": [
      "# Fermi dataset entry file\r\n",
      "# The file has to be kept in sync with fermi_2fhl_data_prepare.sh\r\n",
      "name : 2FHL\r\n",
      "\r\n",
      "filenames:\r\n",
      "  events    : fermi_2fhl_events.fits.gz\r\n",
      "  exposure  : fermi_2fhl_exposure_cube_hpx.fits.gz\r\n",
      "  psf       : fermi_2fhl_psf_gc.fits.gz\r\n",
      "  livetime  : fermi_2fhl_livetime_cube.fits.gz\r\n",
      "  counts    : fermi_2fhl_counts_cube_hpx.fits.gz\r\n",
      "  isodiff   : ../isodiff/iso_P8R2_SOURCE_V6_v06.txt\r\n"
     ]
    }
   ],
   "source": [
    "!cat /Users/jer/git/gammapy-fermi-lat-data/2fhl/fermi_2fhl_data_config.yaml"
   ]
  },
  {
   "cell_type": "code",
   "execution_count": 4,
   "metadata": {},
   "outputs": [],
   "source": [
    "#!cat /Users/jer/git/gammapy-fermi-lat-data/isodiff/iso_P8R2_SOURCE_V6_v06.txt"
   ]
  },
  {
   "cell_type": "code",
   "execution_count": 5,
   "metadata": {},
   "outputs": [
    {
     "name": "stdout",
     "output_type": "stream",
     "text": [
      "FermiLATDataset\n",
      "\n",
      "\tname: 2FHL \n",
      "\n",
      "Filenames:\n",
      "\n",
      "\tcounts   : fermi_2fhl_counts_cube_hpx.fits.gz\n",
      "\tevents   : fermi_2fhl_events.fits.gz\n",
      "\texposure : fermi_2fhl_exposure_cube_hpx.fits.gz\n",
      "\tisodiff  : ../isodiff/iso_P8R2_SOURCE_V6_v06.txt\n",
      "\tlivetime : fermi_2fhl_livetime_cube.fits.gz\n",
      "\tpsf      : fermi_2fhl_psf_gc.fits.gz\n",
      "\n"
     ]
    }
   ],
   "source": [
    "# initialize dataset\n",
    "dataset = FermiLATDataset(\"/Users/jer/git/gammapy-fermi-lat-data/2fhl/fermi_2fhl_data_config.yaml\")\n",
    "print(dataset)"
   ]
  },
  {
   "cell_type": "markdown",
   "metadata": {},
   "source": [
    "## Events\n",
    "\n",
    "The first data member we will inspect in more detail is the event list. It can be accessed by the `dataset.events` property and returns an instance of the Gammapy [gammapy.data.EventList](http://docs.gammapy.org/en/latest/api/gammapy.data.EventList.html) class:"
   ]
  },
  {
   "cell_type": "code",
   "execution_count": 6,
   "metadata": {},
   "outputs": [
    {
     "name": "stdout",
     "output_type": "stream",
     "text": [
      "EventList info:\n",
      "- Number of events: 60275\n",
      "- Median energy: 80340.5078125 MeV\n",
      "\n"
     ]
    }
   ],
   "source": [
    "# access events data member\n",
    "events = dataset.events\n",
    "print(events)"
   ]
  },
  {
   "cell_type": "code",
   "execution_count": 7,
   "metadata": {},
   "outputs": [
    {
     "name": "stdout",
     "output_type": "stream",
     "text": [
      "<class 'gammapy.data.event_list.EventList'>\n"
     ]
    }
   ],
   "source": [
    "ds = dataset.counts\n",
    "print(type(events))"
   ]
  },
  {
   "cell_type": "markdown",
   "metadata": {},
   "source": [
    "The full event data is available via the `EventList.table` property, which returns an [astropy.table.Table](http://docs.astropy.org/en/stable/api/astropy.table.Table.html#astropy.table.Table) instance. In case of the Fermi-LAT event list this contains all the additional information on positon, zenith angle, earth azimuth angle, event class, event type etc. Execute the following cell to take a look at the event list table: "
   ]
  },
  {
   "cell_type": "code",
   "execution_count": 8,
   "metadata": {},
   "outputs": [
    {
     "data": {
      "text/html": [
       "&lt;Table length=60275&gt;\n",
       "<table id=\"table4351755152\" class=\"table-striped table-bordered table-condensed\">\n",
       "<thead><tr><th>ENERGY</th><th>RA</th><th>DEC</th><th>L</th><th>B</th><th>THETA</th><th>PHI</th><th>ZENITH_ANGLE</th><th>EARTH_AZIMUTH_ANGLE</th><th>TIME</th><th>EVENT_ID</th><th>RUN_ID</th><th>RECON_VERSION</th><th>CALIB_VERSION [3]</th><th>EVENT_CLASS [32]</th><th>EVENT_TYPE [32]</th><th>CONVERSION_TYPE</th><th>LIVETIME</th><th>DIFRSP0</th><th>DIFRSP1</th><th>DIFRSP2</th><th>DIFRSP3</th><th>DIFRSP4</th></tr></thead>\n",
       "<thead><tr><th>MeV</th><th>deg</th><th>deg</th><th>deg</th><th>deg</th><th>deg</th><th>deg</th><th>deg</th><th>deg</th><th>s</th><th></th><th></th><th></th><th></th><th></th><th></th><th></th><th>s</th><th></th><th></th><th></th><th></th><th></th></tr></thead>\n",
       "<thead><tr><th>float32</th><th>float32</th><th>float32</th><th>float32</th><th>float32</th><th>float32</th><th>float32</th><th>float32</th><th>float32</th><th>float64</th><th>int32</th><th>int32</th><th>int16</th><th>int16</th><th>bool</th><th>bool</th><th>int16</th><th>float64</th><th>float32</th><th>float32</th><th>float32</th><th>float32</th><th>float32</th></tr></thead>\n",
       "<tr><td>145927.0</td><td>291.662</td><td>42.2341</td><td>74.5437</td><td>11.8678</td><td>38.0455</td><td>83.5358</td><td>55.6387</td><td>314.034</td><td>239561457.866</td><td>4851437</td><td>239559565</td><td>0</td><td>0 .. 0</td><td>False .. True</td><td>False .. True</td><td>0</td><td>275.698088974</td><td>0.0</td><td>0.0</td><td>0.0</td><td>0.0</td><td>0.0</td></tr>\n",
       "<tr><td>221273.0</td><td>46.9858</td><td>-40.6389</td><td>247.489</td><td>-58.8739</td><td>34.1051</td><td>224.209</td><td>68.2524</td><td>198.319</td><td>239562739.085</td><td>7521432</td><td>239559565</td><td>0</td><td>0 .. 0</td><td>False .. True</td><td>False .. True</td><td>0</td><td>64.7974931598</td><td>0.0</td><td>0.0</td><td>0.0</td><td>0.0</td><td>0.0</td></tr>\n",
       "<tr><td>57709.2</td><td>121.841</td><td>49.2288</td><td>169.868</td><td>32.3017</td><td>71.5636</td><td>34.2925</td><td>36.7173</td><td>25.5439</td><td>239563180.302</td><td>8690693</td><td>239559565</td><td>0</td><td>0 .. 0</td><td>False .. True</td><td>False .. True</td><td>0</td><td>30.57218647</td><td>0.0</td><td>0.0</td><td>0.0</td><td>0.0</td><td>0.0</td></tr>\n",
       "<tr><td>221224.0</td><td>83.5626</td><td>-4.21744</td><td>207.783</td><td>-19.0771</td><td>20.5089</td><td>92.1605</td><td>32.3033</td><td>239.141</td><td>239563382.213</td><td>9208424</td><td>239559565</td><td>0</td><td>0 .. 0</td><td>False .. True</td><td>False .. True</td><td>0</td><td>27.4125095904</td><td>0.0</td><td>0.0</td><td>0.0</td><td>0.0</td><td>0.0</td></tr>\n",
       "<tr><td>698997.0</td><td>320.895</td><td>-1.32789</td><td>51.2218</td><td>-33.9718</td><td>35.3621</td><td>158.741</td><td>12.0867</td><td>72.2029</td><td>239566572.951</td><td>2480483</td><td>239565645</td><td>0</td><td>0 .. 0</td><td>False .. True</td><td>False .. True</td><td>0</td><td>106.475481123</td><td>0.0</td><td>0.0</td><td>0.0</td><td>0.0</td><td>0.0</td></tr>\n",
       "<tr><td>119159.0</td><td>318.811</td><td>12.3028</td><td>62.6361</td><td>-24.416</td><td>26.5896</td><td>213.894</td><td>17.7156</td><td>23.9409</td><td>239572348.06</td><td>1725276</td><td>239571670</td><td>0</td><td>0 .. 0</td><td>False .. True</td><td>False .. True</td><td>0</td><td>185.346427292</td><td>0.0</td><td>0.0</td><td>0.0</td><td>0.0</td><td>0.0</td></tr>\n",
       "<tr><td>56175.6</td><td>279.251</td><td>47.8835</td><td>76.6915</td><td>22.0739</td><td>29.1034</td><td>61.0048</td><td>62.1731</td><td>321.104</td><td>239572763.431</td><td>76017</td><td>239572736</td><td>0</td><td>0 .. 0</td><td>False .. True</td><td>False .. True</td><td>0</td><td>24.4507339597</td><td>0.0</td><td>0.0</td><td>0.0</td><td>0.0</td><td>0.0</td></tr>\n",
       "<tr><td>1.41812e+06</td><td>100.311</td><td>-47.4481</td><td>256.468</td><td>-21.2641</td><td>61.2256</td><td>294.18</td><td>90.4753</td><td>144.149</td><td>239573788.813</td><td>1781569</td><td>239572736</td><td>0</td><td>0 .. 0</td><td>False .. True</td><td>False .. True</td><td>0</td><td>68.271614641</td><td>0.0</td><td>0.0</td><td>0.0</td><td>0.0</td><td>0.0</td></tr>\n",
       "<tr><td>62164.9</td><td>331.492</td><td>-41.2264</td><td>359.42</td><td>-53.4049</td><td>28.1408</td><td>229.927</td><td>52.0142</td><td>189.054</td><td>239578601.168</td><td>2000700</td><td>239577663</td><td>0</td><td>0 .. 0</td><td>False .. True</td><td>False .. True</td><td>0</td><td>90.332262665</td><td>0.0</td><td>0.0</td><td>0.0</td><td>0.0</td><td>0.0</td></tr>\n",
       "<tr><td>...</td><td>...</td><td>...</td><td>...</td><td>...</td><td>...</td><td>...</td><td>...</td><td>...</td><td>...</td><td>...</td><td>...</td><td>...</td><td>...</td><td>...</td><td>...</td><td>...</td><td>...</td><td>...</td><td>...</td><td>...</td><td>...</td><td>...</td></tr>\n",
       "<tr><td>51296.8</td><td>79.0311</td><td>78.9327</td><td>133.868</td><td>22.2399</td><td>51.1726</td><td>267.814</td><td>99.7602</td><td>357.79</td><td>444418973.822</td><td>1284853</td><td>444418590</td><td>0</td><td>0 .. 0</td><td>False .. True</td><td>False .. True</td><td>0</td><td>181.6889835</td><td>0.0</td><td>0.0</td><td>0.0</td><td>0.0</td><td>0.0</td></tr>\n",
       "<tr><td>60315.7</td><td>243.681</td><td>-50.5669</td><td>332.43</td><td>0.28268</td><td>24.8501</td><td>255.683</td><td>74.8804</td><td>195.14</td><td>444421777.761</td><td>6582949</td><td>444418590</td><td>0</td><td>0 .. 0</td><td>False .. True</td><td>False .. False</td><td>1</td><td>57.3358902931</td><td>0.0</td><td>0.0</td><td>0.0</td><td>0.0</td><td>0.0</td></tr>\n",
       "<tr><td>90000.1</td><td>282.698</td><td>-33.1987</td><td>2.66219</td><td>-14.3339</td><td>8.49144</td><td>343.559</td><td>47.3965</td><td>191.033</td><td>444422182.738</td><td>7507466</td><td>444418590</td><td>0</td><td>0 .. 0</td><td>False .. True</td><td>False .. True</td><td>0</td><td>187.602469146</td><td>0.0</td><td>0.0</td><td>0.0</td><td>0.0</td><td>0.0</td></tr>\n",
       "<tr><td>61988.7</td><td>247.98</td><td>-48.1091</td><td>336.146</td><td>0.0220339</td><td>33.6499</td><td>144.271</td><td>80.3966</td><td>221.396</td><td>444422758.145</td><td>8699147</td><td>444418590</td><td>0</td><td>0 .. 0</td><td>False .. True</td><td>False .. True</td><td>0</td><td>39.2098327279</td><td>0.0</td><td>0.0</td><td>0.0</td><td>0.0</td><td>0.0</td></tr>\n",
       "<tr><td>54282.9</td><td>159.924</td><td>-58.3628</td><td>286.362</td><td>0.205554</td><td>24.1196</td><td>287.138</td><td>65.0847</td><td>177.524</td><td>444425794.794</td><td>2522237</td><td>444424619</td><td>0</td><td>0 .. 0</td><td>False .. True</td><td>False .. True</td><td>0</td><td>196.209668875</td><td>0.0</td><td>0.0</td><td>0.0</td><td>0.0</td><td>0.0</td></tr>\n",
       "<tr><td>146728.0</td><td>244.848</td><td>-46.5876</td><td>335.754</td><td>2.60326</td><td>45.2539</td><td>5.33644</td><td>91.871</td><td>137.032</td><td>444425911.819</td><td>2705210</td><td>444424619</td><td>0</td><td>0 .. 0</td><td>False .. True</td><td>False .. False</td><td>1</td><td>65.6327857375</td><td>0.0</td><td>0.0</td><td>0.0</td><td>0.0</td><td>0.0</td></tr>\n",
       "<tr><td>135433.0</td><td>83.5278</td><td>27.9053</td><td>179.529</td><td>-2.69106</td><td>17.4911</td><td>52.0858</td><td>53.306</td><td>313.822</td><td>444430968.968</td><td>939188</td><td>444430599</td><td>0</td><td>0 .. 0</td><td>False .. True</td><td>False .. False</td><td>1</td><td>97.6446831226</td><td>0.0</td><td>0.0</td><td>0.0</td><td>0.0</td><td>0.0</td></tr>\n",
       "<tr><td>61592.1</td><td>231.214</td><td>-5.45521</td><td>357.435</td><td>40.6473</td><td>46.6356</td><td>141.047</td><td>62.7584</td><td>256.631</td><td>444433607.906</td><td>5443944</td><td>444430599</td><td>0</td><td>0 .. 0</td><td>False .. True</td><td>False .. False</td><td>1</td><td>28.7290657759</td><td>0.0</td><td>0.0</td><td>0.0</td><td>0.0</td><td>0.0</td></tr>\n",
       "<tr><td>80480.8</td><td>228.244</td><td>-45.044</td><td>327.561</td><td>10.9528</td><td>37.3149</td><td>193.714</td><td>83.3882</td><td>221.57</td><td>444433702.069</td><td>5612443</td><td>444430599</td><td>0</td><td>0 .. 0</td><td>False .. True</td><td>False .. False</td><td>1</td><td>122.891819298</td><td>0.0</td><td>0.0</td><td>0.0</td><td>0.0</td><td>0.0</td></tr>\n",
       "<tr><td>124449.0</td><td>238.008</td><td>-51.0371</td><td>329.429</td><td>2.3006</td><td>32.4522</td><td>199.504</td><td>80.9768</td><td>214.48</td><td>444433764.433</td><td>5723361</td><td>444430599</td><td>0</td><td>0 .. 0</td><td>False .. True</td><td>False .. True</td><td>0</td><td>185.255487204</td><td>0.0</td><td>0.0</td><td>0.0</td><td>0.0</td><td>0.0</td></tr>\n",
       "</table>"
      ],
      "text/plain": [
       "<Table length=60275>\n",
       "   ENERGY      RA     DEC       L    ... DIFRSP1 DIFRSP2 DIFRSP3 DIFRSP4\n",
       "    MeV       deg     deg      deg   ...                                \n",
       "  float32   float32 float32  float32 ... float32 float32 float32 float32\n",
       "----------- ------- -------- ------- ... ------- ------- ------- -------\n",
       "   145927.0 291.662  42.2341 74.5437 ...     0.0     0.0     0.0     0.0\n",
       "   221273.0 46.9858 -40.6389 247.489 ...     0.0     0.0     0.0     0.0\n",
       "    57709.2 121.841  49.2288 169.868 ...     0.0     0.0     0.0     0.0\n",
       "   221224.0 83.5626 -4.21744 207.783 ...     0.0     0.0     0.0     0.0\n",
       "   698997.0 320.895 -1.32789 51.2218 ...     0.0     0.0     0.0     0.0\n",
       "   119159.0 318.811  12.3028 62.6361 ...     0.0     0.0     0.0     0.0\n",
       "    56175.6 279.251  47.8835 76.6915 ...     0.0     0.0     0.0     0.0\n",
       "1.41812e+06 100.311 -47.4481 256.468 ...     0.0     0.0     0.0     0.0\n",
       "    62164.9 331.492 -41.2264  359.42 ...     0.0     0.0     0.0     0.0\n",
       "        ...     ...      ...     ... ...     ...     ...     ...     ...\n",
       "    51296.8 79.0311  78.9327 133.868 ...     0.0     0.0     0.0     0.0\n",
       "    60315.7 243.681 -50.5669  332.43 ...     0.0     0.0     0.0     0.0\n",
       "    90000.1 282.698 -33.1987 2.66219 ...     0.0     0.0     0.0     0.0\n",
       "    61988.7  247.98 -48.1091 336.146 ...     0.0     0.0     0.0     0.0\n",
       "    54282.9 159.924 -58.3628 286.362 ...     0.0     0.0     0.0     0.0\n",
       "   146728.0 244.848 -46.5876 335.754 ...     0.0     0.0     0.0     0.0\n",
       "   135433.0 83.5278  27.9053 179.529 ...     0.0     0.0     0.0     0.0\n",
       "    61592.1 231.214 -5.45521 357.435 ...     0.0     0.0     0.0     0.0\n",
       "    80480.8 228.244  -45.044 327.561 ...     0.0     0.0     0.0     0.0\n",
       "   124449.0 238.008 -51.0371 329.429 ...     0.0     0.0     0.0     0.0"
      ]
     },
     "execution_count": 8,
     "metadata": {},
     "output_type": "execute_result"
    }
   ],
   "source": [
    "events.table"
   ]
  },
  {
   "cell_type": "markdown",
   "metadata": {},
   "source": [
    "As a short analysis example we will count the number of events above a certain minimum energy: "
   ]
  },
  {
   "cell_type": "code",
   "execution_count": 9,
   "metadata": {},
   "outputs": [
    {
     "name": "stdout",
     "output_type": "stream",
     "text": [
      "Number of events above   50 GeV: 60275\n",
      "Number of events above  100 GeV: 21874\n",
      "Number of events above  200 GeV:  8028\n",
      "Number of events above  400 GeV:  2884\n",
      "Number of events above  800 GeV:   821\n",
      "Number of events above 1600 GeV:   113\n"
     ]
    }
   ],
   "source": [
    "# define energy thresholds\n",
    "energies = [50, 100, 200, 400, 800, 1600] * u.GeV\n",
    "\n",
    "n_events_above_energy = []\n",
    "\n",
    "for energy in energies:\n",
    "    n = (events.energy > energy).sum()\n",
    "    n_events_above_energy.append(n)   \n",
    "    print(\"Number of events above {0:4.0f}: {1:5.0f}\".format(energy, n))"
   ]
  },
  {
   "cell_type": "markdown",
   "metadata": {},
   "source": [
    "And plot it against energy:"
   ]
  },
  {
   "cell_type": "code",
   "execution_count": 10,
   "metadata": {},
   "outputs": [
    {
     "data": {
      "text/plain": [
       "<matplotlib.legend.Legend at 0x103614908>"
      ]
     },
     "execution_count": 10,
     "metadata": {},
     "output_type": "execute_result"
    },
    {
     "data": {
      "image/png": "[encoded data removed]",
      "text/plain": [
       "<matplotlib.figure.Figure at 0x110743d30>"
      ]
     },
     "metadata": {},
     "output_type": "display_data"
    }
   ],
   "source": [
    "plt.figure(figsize=(8, 5))   \n",
    "events_plot = plt.plot(energies.value, n_events_above_energy, label='Fermi 2FHL events')\n",
    "plt.scatter(energies.value, n_events_above_energy, s=60, c=events_plot[0].get_color())\n",
    "plt.loglog()\n",
    "plt.xlabel(\"Min. energy (GeV)\")\n",
    "plt.ylabel(\"Counts above min. energy\")\n",
    "plt.xlim(4E1, 3E3)\n",
    "plt.ylim(1E2, 1E5)\n",
    "plt.legend()"
   ]
  },
  {
   "cell_type": "markdown",
   "metadata": {},
   "source": [
    "## PSF\n",
    "Next we will tke a closer look at the PSF. <span class=\"mark\">The dataset contains a precomputed PSF model for one position of the sky (in this case the Galactic center</span>). It can be accessed by the `dataset.psf` property and returns an instance of the Gammapy [gammapy.irf.EnergyDependentTablePSF](http://docs.gammapy.org/en/latest/api/gammapy.irf.EnergyDependentTablePSF.html) class:"
   ]
  },
  {
   "cell_type": "code",
   "execution_count": 11,
   "metadata": {},
   "outputs": [
    {
     "name": "stdout",
     "output_type": "stream",
     "text": [
      "EnergyDependentTablePSF\n",
      "-----------------------\n",
      "\n",
      "Axis info:\n",
      "  rad            : size =   300, min =  0.000 deg, max =  9.933 deg\n",
      "  energy         : size =    17, min = 50.000 GeV, max = 2000.000 GeV\n",
      "\n",
      "Containment info:\n",
      "  68.0% containment radius at  10 GeV: 0.10 deg\n",
      "  68.0% containment radius at 100 GeV: 0.10 deg\n",
      "  95.0% containment radius at  10 GeV: 0.52 deg\n",
      "  95.0% containment radius at 100 GeV: 0.43 deg\n",
      "\n"
     ]
    }
   ],
   "source": [
    "psf = dataset.psf\n",
    "print(psf)"
   ]
  },
  {
   "cell_type": "markdown",
   "metadata": {},
   "source": [
    "To get an idea of the size of the PSF we check how the containment radii of the Fermi-LAT PSF vari with energy and different containment fractions:"
   ]
  },
  {
   "cell_type": "code",
   "execution_count": 12,
   "metadata": {},
   "outputs": [
    {
     "data": {
      "image/png": "[encoded data removed]",
      "text/plain": [
       "<matplotlib.figure.Figure at 0x1113b93c8>"
      ]
     },
     "metadata": {},
     "output_type": "display_data"
    }
   ],
   "source": [
    "plt.figure(figsize=(8, 5))\n",
    "psf.plot_containment_vs_energy(linewidth=2, fractions=[0.68, 0.95, 0.99])\n",
    "plt.xlim(50, 2000)\n",
    "plt.show()"
   ]
  },
  {
   "cell_type": "markdown",
   "metadata": {},
   "source": [
    "In addition we can check how the actual shape of the PSF varies with energy and compare it against the mean PSF between 50 GeV and 2000 GeV:"
   ]
  },
  {
   "cell_type": "code",
   "execution_count": 13,
   "metadata": {},
   "outputs": [
    {
     "data": {
      "text/plain": [
       "<matplotlib.legend.Legend at 0x11177cdd8>"
      ]
     },
     "execution_count": 13,
     "metadata": {},
     "output_type": "execute_result"
    },
    {
     "data": {
      "image/png": "[encoded data removed]",
      "text/plain": [
       "<matplotlib.figure.Figure at 0x1115776d8>"
      ]
     },
     "metadata": {},
     "output_type": "display_data"
    }
   ],
   "source": [
    "plt.figure(figsize=(8, 5))\n",
    "\n",
    "for energy in energies:\n",
    "    psf_at_energy = psf.table_psf_at_energy(energy)\n",
    "    psf_at_energy.plot_psf_vs_rad(label='PSF @ {:.0f}'.format(energy), lw=2)\n",
    "\n",
    "erange = [50, 2000] * u.GeV\n",
    "psf_mean = psf.table_psf_in_energy_band(energy_band=erange, spectral_index=2.3)\n",
    "psf_mean.plot_psf_vs_rad(label='PSF Mean', lw=4, c=\"k\", ls='--')\n",
    "    \n",
    "plt.xlim(1E-3, 1)\n",
    "plt.ylim(1E2, 1E7)\n",
    "plt.legend()"
   ]
  },
  {
   "cell_type": "markdown",
   "metadata": {},
   "source": [
    "## Exposure\n",
    "The Fermi-LAT datatset contains the <span class=\"mark\">energy-dependent exposure for the whole sky</span> stored using a HEALPIX pixelisation of the sphere. It can be accessed by the `dataset.exposure` property and returns an instance of the Gammapy [gammapy.cube.SkyCubeHPX]() class:"
   ]
  },
  {
   "cell_type": "code",
   "execution_count": 14,
   "metadata": {},
   "outputs": [
    {
     "name": "stdout",
     "output_type": "stream",
     "text": [
      "Healpix sky cube exposure with shape=(18, 12288) and unit=cm2 s:\n",
      " n_pix:    12288  coord_type:    galactic         coord_unit:    deg\n",
      " n_energy:    18  unit_energy: MeV\n",
      "\n"
     ]
    }
   ],
   "source": [
    "exposure = dataset.exposure\n",
    "print(exposure)"
   ]
  },
  {
   "cell_type": "code",
   "execution_count": 15,
   "metadata": {
    "collapsed": true
   },
   "outputs": [],
   "source": [
    "# define reference image using a cartesian projection\n",
    "image_ref = SkyImage.empty(nxpix=360, nypix=180, binsz=1, proj='CAR')\n",
    "plt.rcParams[\"figure.figsize\"] = [16,9]\n",
    "\n",
    "# reproject HEALPIX sky cube\n",
    "exposure_reprojected = exposure.reproject(image_ref)"
   ]
  },
  {
   "cell_type": "code",
   "execution_count": 18,
   "metadata": {},
   "outputs": [
    {
     "data": {
      "application/vnd.jupyter.widget-view+json": {
       "model_id": "0460ef8b4649432582f1d14f15336ed3"
      }
     },
     "metadata": {},
     "output_type": "display_data"
    },
    {
     "data": {
      "text/plain": [
       "<function gammapy.cube.core.SkyCube.show.<locals>.show_image>"
      ]
     },
     "execution_count": 18,
     "metadata": {},
     "output_type": "execute_result"
    }
   ],
   "source": [
    "exposure_reprojected.show()"
   ]
  },
  {
   "cell_type": "markdown",
   "metadata": {},
   "source": [
    "You can use the slider to slide through the different energy bands."
   ]
  },
  {
   "cell_type": "markdown",
   "metadata": {},
   "source": [
    "## Galactic diffuse background"
   ]
  },
  {
   "cell_type": "markdown",
   "metadata": {},
   "source": [
    "The Fermi-LAT collaboration provides a galactic diffuse emission model, that can be used as a background model for\n",
    "Fermi-LAT data analysis. Currently Gammapy only supports the latest model (`gll_iem_v06.fits`). It can be accessed by the `dataset.galactic_diffuse` property and returns an instance of the Gammapy [gammapy.cube.SkyCube](http://docs.gammapy.org/en/latest/api/gammapy.cube.SkyCube.html) class:"
   ]
  },
  {
   "cell_type": "code",
   "execution_count": 21,
   "metadata": {},
   "outputs": [
    {
     "name": "stdout",
     "output_type": "stream",
     "text": [
      "Sky cube galactic diffuse with shape=(30, 1441, 2880) and unit=1 / (cm2 MeV s sr):\n",
      " n_lon:     2880  type_lon:    GLON-CAR         unit_lon:    deg\n",
      " n_lat:     1441  type_lat:    GLAT-CAR         unit_lat:    deg\n",
      " n_energy:    30  unit_energy: MeV\n",
      "\n"
     ]
    }
   ],
   "source": [
    "galactic_diffuse = dataset.galactic_diffuse\n",
    "print(galactic_diffuse)"
   ]
  },
  {
   "cell_type": "code",
   "execution_count": 24,
   "metadata": {},
   "outputs": [
    {
     "data": {
      "application/vnd.jupyter.widget-view+json": {
       "model_id": "ea22188efa1b4a9b8e1ccddb234a40e4"
      }
     },
     "metadata": {},
     "output_type": "display_data"
    },
    {
     "data": {
      "text/plain": [
       "<function gammapy.cube.core.SkyCube.show.<locals>.show_image>"
      ]
     },
     "execution_count": 24,
     "metadata": {},
     "output_type": "execute_result"
    }
   ],
   "source": [
    "norm = simple_norm(image_ref.data, stretch='log', clip=True)\n",
    "plt.rcParams[\"figure.figsize\"] = [18,12]\n",
    "galactic_diffuse.show(norm=norm)"
   ]
  },
  {
   "cell_type": "markdown",
   "metadata": {},
   "source": [
    "Again you can use the slider to slide through the different energy bands. E.g. note how the Fermi-Bubbles become more present at higher energies (higher value of idx)."
   ]
  },
  {
   "cell_type": "markdown",
   "metadata": {},
   "source": [
    "## Isotropic diffuse background\n",
    "\n",
    "Additionally to the galactic diffuse model, there is an isotropic diffuse component. It can be accessed by the `dataset.isotropic_diffuse` property and returns an instance of the Gammapy [gammapy.spectrum.models.TableModel](http://docs.gammapy.org/en/latest/api/gammapy.spectrum.models.TableModel.html#gammapy.spectrum.models.TableModel) class:"
   ]
  },
  {
   "cell_type": "code",
   "execution_count": 27,
   "metadata": {},
   "outputs": [
    {
     "name": "stdout",
     "output_type": "stream",
     "text": [
      "TableModel\n",
      "\n",
      "Parameters: \n",
      "\n",
      "\t name   value   error unit min max frozen\n",
      "\t----- --------- ----- ---- --- --- ------\n",
      "\tscale 1.000e+00   nan      nan nan  False\n"
     ]
    }
   ],
   "source": [
    "isotropic_diffuse = dataset.isotropic_diffuse\n",
    "print(isotropic_diffuse)"
   ]
  },
  {
   "cell_type": "markdown",
   "metadata": {},
   "source": [
    "We can plot the model in the energy range between 50 GeV and 2000 GeV:"
   ]
  },
  {
   "cell_type": "code",
   "execution_count": 32,
   "metadata": {},
   "outputs": [
    {
     "data": {
      "text/plain": [
       "<matplotlib.axes._subplots.AxesSubplot at 0x117cb2978>"
      ]
     },
     "execution_count": 32,
     "metadata": {},
     "output_type": "execute_result"
    },
    {
     "data": {
      "image/png": "[encoded data removed]",
      "text/plain": [
       "<matplotlib.figure.Figure at 0x117cb2278>"
      ]
     },
     "metadata": {},
     "output_type": "display_data"
    }
   ],
   "source": [
    "erange = [50, 2000] * u.GeV\n",
    "plt.rcParams[\"figure.figsize\"] = [8,5]\n",
    "isotropic_diffuse.plot(erange)"
   ]
  },
  {
   "cell_type": "markdown",
   "metadata": {},
   "source": [
    "## Estimating basic input sky images for high level analyses\n",
    "Finally we'd like to use the prepared 2FHL dataset to generate a set of basic sky images, that a can be used as input for high level analyses, e.g. morphology fits, region based flux measurements, computation of significance images etc.\n",
    "For this purpose Gammapy provides a convenience class called [gammapy.image.FermiLATBasicImageEstimator](http://docs.gammapy.org/en/latest/api/gammapy.image.FermiLATBasicImageEstimator.html). First we define a reference image, that specifies the region we'd like to analyse. In this case we choose the Vela region."
   ]
  },
  {
   "cell_type": "code",
   "execution_count": 49,
   "metadata": {
    "collapsed": true
   },
   "outputs": [],
   "source": [
    "image_ref = SkyImage.empty(\n",
    "    nxpix=360, nypix=180,\n",
    "    binsz=0.1,\n",
    "    xref=265, yref=0,\n",
    ")"
   ]
  },
  {
   "cell_type": "markdown",
   "metadata": {},
   "source": [
    "Next we choose the energy range and initialize the `FermiLATBasicImageEstimator` object:"
   ]
  },
  {
   "cell_type": "code",
   "execution_count": 50,
   "metadata": {
    "collapsed": true
   },
   "outputs": [],
   "source": [
    "emin, emax = [50, 2000] * u.GeV\n",
    "image_estimator = FermiLATBasicImageEstimator(\n",
    "    reference=image_ref,\n",
    "    emin=emin, emax=emax,\n",
    ")"
   ]
  },
  {
   "cell_type": "markdown",
   "metadata": {},
   "source": [
    "Finally we run the image estimation by calling `.run()` and parsing the dataset object:"
   ]
  },
  {
   "cell_type": "code",
   "execution_count": 51,
   "metadata": {},
   "outputs": [],
   "source": [
    "images_basic = image_estimator.run(dataset)"
   ]
  },
  {
   "cell_type": "markdown",
   "metadata": {},
   "source": [
    "The image estimator now computes a set of sky images for the reference region and energy range we defined above. The result `images_basic` is a [gammapy.image.SkyImageList](http://docs.gammapy.org/en/latest/api/gammapy.image.SkyImageList.html) object containing the following images:\n",
    "\n",
    "* **counts**: counts image containing the binned event list\n",
    "* **background**: predicted number of background counts computed from the sum of the galactic and isotropic diffuse model, given the exposure.\n",
    "* **exposure**: integrated exposure assuming a powerlaw with spectral index 2.3 in the given energy range\n",
    "* **excess**: backround substracted counts image\n",
    "* **flux**: measured flux, computed from excess divided by exposure\n",
    "* **psf**: sky image of the exposure weighted mean PSF in the given energy range\n",
    "    \n",
    "You can check the contained images as following:"
   ]
  },
  {
   "cell_type": "code",
   "execution_count": 47,
   "metadata": {},
   "outputs": [
    {
     "data": {
      "text/plain": [
       "['counts', 'background', 'exposure', 'excess', 'flux', 'psf']"
      ]
     },
     "execution_count": 47,
     "metadata": {},
     "output_type": "execute_result"
    }
   ],
   "source": [
    "images_basic.names"
   ]
  },
  {
   "cell_type": "markdown",
   "metadata": {},
   "source": [
    "To check whether the image estimation was succesfull we'll take a look at the flux image, smoothing it in advance with a Gaussian kernel of 0.2 deg:"
   ]
  },
  {
   "cell_type": "code",
   "execution_count": 57,
   "metadata": {},
   "outputs": [
    {
     "data": {
      "image/png": "[encoded data removed]",
      "text/plain": [
       "<matplotlib.figure.Figure at 0x114d41160>"
      ]
     },
     "metadata": {},
     "output_type": "display_data"
    }
   ],
   "source": [
    "smoothed_flux = images_basic['counts'].smooth(\n",
    "    kernel='gauss', radius=0.01 * u.deg)\n",
    "smoothed_flux.show()"
   ]
  },
  {
   "cell_type": "markdown",
   "metadata": {},
   "source": [
    "## Exercises\n",
    "\n",
    "- Try to reproject the exposure using an `AIT` projection.\n",
    "- Try to find the spectral index of the isotropic diffuse model using a method of the `TableModel` instance.\n",
    "- Compute basic sky images for different regions (e.g. Galactic Center) and energy ranges\n"
   ]
  },
  {
   "cell_type": "markdown",
   "metadata": {},
   "source": [
    "## What next?\n",
    "\n",
    "In this tutorial we have learned how to access and check Fermi-LAT data.\n",
    "\n",
    "Next you could do:\n",
    "* image analysis\n",
    "* spectral analysis\n",
    "* cube analysis\n",
    "* time analysis\n",
    "* source detection"
   ]
  },
  {
   "cell_type": "code",
   "execution_count": null,
   "metadata": {
    "collapsed": true
   },
   "outputs": [],
   "source": []
  }
 ],
 "metadata": {
  "kernelspec": {
   "display_name": "Python [conda env:gammapy-dev]",
   "language": "python",
   "name": "conda-env-gammapy-dev-py"
  },
  "language_info": {
   "codemirror_mode": {
    "name": "ipython",
    "version": 3
   },
   "file_extension": ".py",
   "mimetype": "text/x-python",
   "name": "python",
   "nbconvert_exporter": "python",
   "pygments_lexer": "ipython3",
   "version": "3.6.1"
  },
  "toc": {
   "colors": {
    "hover_highlight": "#DAA520",
    "navigate_num": "#000000",
    "navigate_text": "#333333",
    "running_highlight": "#FF0000",
    "selected_highlight": "#FFD700",
    "sidebar_border": "#EEEEEE",
    "wrapper_background": "#FFFFFF"
   },
   "moveMenuLeft": true,
   "nav_menu": {
    "height": "228px",
    "width": "252px"
   },
   "navigate_menu": true,
   "number_sections": false,
   "sideBar": true,
   "threshold": 4,
   "toc_cell": false,
   "toc_section_display": "block",
   "toc_window_display": true,
   "widenNotebook": false
  }
 },
 "nbformat": 4,
 "nbformat_minor": 1
}
